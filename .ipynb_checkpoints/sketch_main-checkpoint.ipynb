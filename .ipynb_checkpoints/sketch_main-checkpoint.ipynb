{
 "cells": [
  {
   "cell_type": "markdown",
   "id": "israeli-cathedral",
   "metadata": {},
   "source": [
    "In this notebook we give a proof of concept of unitary compiling using TFQ. "
   ]
  },
  {
   "cell_type": "code",
   "execution_count": 40,
   "id": "cleared-explorer",
   "metadata": {},
   "outputs": [
    {
     "name": "stdout",
     "output_type": "stream",
     "text": [
      "The autoreload extension is already loaded. To reload it, use:\n",
      "  %reload_ext autoreload\n"
     ]
    }
   ],
   "source": [
    "%load_ext autoreload\n",
    "%autoreload 2\n",
    "\n",
    "import sympy \n",
    "import numpy as np \n",
    "import pandas as pd \n",
    "import tensorflow as tf\n",
    "from utilities.circuit_database import CirqTranslater\n",
    "from utilities.templates import *\n",
    "from utilities.variational import Minimizer\n",
    "import matplotlib.pyplot as plt \n",
    "import tensorflow_quantum as tfq\n",
    "import cirq\n",
    "from utilities.compiling import *\n",
    "from utilities.misc import *\n",
    "from utilities.simplifier import Simplifier\n",
    "from utilities.discrimination import *\n",
    "from utilities.idinserter import IdInserter\n",
    "from utilities.evaluator import Evaluator\n",
    "from utilities.gate_killer import GateKiller\n",
    "from ast import literal_eval\n",
    "import tensorflow_quantum as tfq"
   ]
  },
  {
   "cell_type": "code",
   "execution_count": 41,
   "id": "impressed-pakistan",
   "metadata": {},
   "outputs": [],
   "source": [
    "translator = CirqTranslater(3, untouchable_blocks = [1], discard_qubits=[2])\n",
    "simplifier = Simplifier(translator)\n",
    "inserter = IdInserter(translator.n_qubits, untouchable_blocks=translator.untouchable_blocks, untouchable_qubits = [2])\n",
    "\n",
    "\n",
    "\n",
    "etas = [1.,0.01]\n",
    "\n",
    "args_evaluator = {\"n_qubits\":translator.n_qubits, \"problem\":\"acd\",\"params\":etas}\n",
    "evaluator = Evaluator(args=args_evaluator, lower_bound_cost=minimizer.lower_bound_cost, nrun=0)\n",
    "\n",
    "minimizer = Minimizer(translator, mode=\"discrimination\", params=etas)\n",
    "killer = GateKiller(translator, mode=\"discrimination\", params=etas)\n",
    "\n",
    "channel_db = amplitude_damping_db(translator, qubits_ind=[0,inserter.untouchable_qubits[0]], eta=1, block_id = translator.untouchable_blocks[0])\n",
    "circuit_db = concatenate_dbs([u2_db(translator,0,1, block_id=0), channel_db, u2_db(translator,0,1, block_id=2)])\n"
   ]
  },
  {
   "cell_type": "code",
   "execution_count": 42,
   "id": "adapted-packaging",
   "metadata": {},
   "outputs": [],
   "source": [
    "circuit, circuit_db = translator.give_circuit(circuit_db)"
   ]
  },
  {
   "cell_type": "code",
   "execution_count": 43,
   "id": "active-wyoming",
   "metadata": {},
   "outputs": [],
   "source": [
    "circuit, circuit_db = translator.give_circuit(circuit_db)\n",
    "minimized_db, [cost, resolver, history_training] = minimizer.variational(circuit_db)\n",
    "evaluator.add_step(minimized_db, cost, relevant=True, operation=\"variational\", history = history_training.history[\"cost\"])"
   ]
  },
  {
   "cell_type": "code",
   "execution_count": 44,
   "id": "armed-merchandise",
   "metadata": {},
   "outputs": [],
   "source": [
    "simplified_db, ns =  simplifier.reduce_circuit(minimized_db)\n",
    "newcost = minimizer.give_cost(simplified_db)"
   ]
  },
  {
   "cell_type": "code",
   "execution_count": 49,
   "id": "complimentary-importance",
   "metadata": {},
   "outputs": [],
   "source": [
    "evaluator.add_step(simplified_db, newcost, relevant=False, operation=\"simplification\", history = ns)"
   ]
  },
  {
   "cell_type": "code",
   "execution_count": 50,
   "id": "apart-terrorist",
   "metadata": {},
   "outputs": [
    {
     "name": "stdout",
     "output_type": "stream",
     "text": [
      "kill 1qbit gate, try 0/28. Increased by: 2.449275598337408e-06%\n",
      "kill 1qbit gate, try 1/28. Increased by: 1.6328502852047677e-06%\n",
      "kill 1qbit gate, try 2/28. Increased by: 8.164251426023839e-07%\n",
      "kill 1qbit gate, try 3/28. Increased by: 1.6328502852047677e-06%\n",
      "kill 1qbit gate, try 4/28. Increased by: 0.0%\n",
      "kill 1qbit gate, try 5/28. Increased by: -0.0003045265912078321%\n",
      "kill 1qbit gate, try 6/28. Increased by: -0.004621374886482954%\n",
      "kill 1qbit gate, try 7/28. Increased by: -0.02220023237168789%\n",
      "kill 1qbit gate, try 8/28. Increased by: 0.0%\n"
     ]
    }
   ],
   "source": [
    "killed_db, killed_cost, murders = killer.remove_irrelevant_gates(cost,simplified_db)"
   ]
  },
  {
   "cell_type": "code",
   "execution_count": 55,
   "id": "sublime-shell",
   "metadata": {},
   "outputs": [],
   "source": [
    "evaluator.add_step(killed_db, killed_cost, relevant=False, operation=\"gate_removals\", history = murders)"
   ]
  },
  {
   "cell_type": "code",
   "execution_count": 66,
   "id": "solid-citation",
   "metadata": {},
   "outputs": [],
   "source": [
    "circuit_db = killed_db.copy()"
   ]
  },
  {
   "cell_type": "code",
   "execution_count": 68,
   "id": "further-winter",
   "metadata": {},
   "outputs": [],
   "source": [
    "mutated_db, number_mutations = inserter.mutate(circuit_db)\n",
    "mutated_cost = minimizer.give_cost(mutated_db)\n",
    "evaluator.add_step(mutated_db, mutated_cost, relevant=False, operation=\"mutation\", history = number_mutations)\n",
    "\n",
    "simplified_db, ns =  simplifier.reduce_circuit(mutated_db)\n",
    "simplified_cost = minimizer.give_cost(simplified_db)\n",
    "evaluator.add_step(simplified_db, simplified_cost, relevant=False, operation=\"simplification\", history = ns)\n",
    "\n",
    "minimized_db, [cost, resolver, history_training] = minimizer.variational(simplified_db)\n",
    "evaluator.add_step(simplified_db, simplified_cost, relevant=False, operation=\"variational\", history = history_training.history[\"cost\"])"
   ]
  },
  {
   "cell_type": "code",
   "execution_count": 71,
   "id": "returning-sheep",
   "metadata": {},
   "outputs": [
    {
     "name": "stdout",
     "output_type": "stream",
     "text": [
      "che\n"
     ]
    }
   ],
   "source": [
    "if evaluator.accept_cost(cost) is True:\n",
    "    \n"
   ]
  },
  {
   "cell_type": "code",
   "execution_count": 82,
   "id": "fitted-slovakia",
   "metadata": {},
   "outputs": [],
   "source": [
    "tt, mutated_db = translator.give_circuit(mutated_db)"
   ]
  },
  {
   "cell_type": "code",
   "execution_count": 83,
   "id": "incomplete-virginia",
   "metadata": {},
   "outputs": [
    {
     "data": {
      "text/html": [
       "<pre style=\"overflow: auto; white-space: pre;\">                                                                                                                         ┌──────────┐\n",
       "(0, 0): ───Rx(th_0)──────────────@──────────Rz(th_3)───Rz(th_4)───X──────────────@───Rz(th_10)───Rx(th_11)───H────────────X──────────────────────────X───H────────────────X───Rx(th_16)───@───Rz(th_19)───X───@───Rz(th_21)───Rx(th_22)───\n",
       "                                 │                                │              │                                        │                          │                    │               │               │   │\n",
       "(0, 1): ───Rx(th_1)───Rz(th_2)───X──────────Ry(th_5)──────────────@───Ry(th_6)───X───Rz(th_12)───Rz(th_13)───Rz(th_17)────┼Rz(th_18)─────────────────┼────────────────────┼───────────────X───Ry(th_20)───@───X───Rz(th_23)───Rx(th_24)───\n",
       "                                                                                                                          │                          │                    │\n",
       "(0, 2): ───Rz(th_7)───Rx(th_8)───Rz(th_9)───H─────────────────────────────────────────────────────────────────────────────@─────────────Ry(0.318π)───@───H───Ry(0.318π)───@───────────────────────────────────────────────────────────────\n",
       "                                                                                                                         └──────────┘</pre>"
      ],
      "text/plain": [
       "                                                                                                                         ┌──────────┐\n",
       "(0, 0): ───Rx(th_0)──────────────@──────────Rz(th_3)───Rz(th_4)───X──────────────@───Rz(th_10)───Rx(th_11)───H────────────X──────────────────────────X───H────────────────X───Rx(th_16)───@───Rz(th_19)───X───@───Rz(th_21)───Rx(th_22)───\n",
       "                                 │                                │              │                                        │                          │                    │               │               │   │\n",
       "(0, 1): ───Rx(th_1)───Rz(th_2)───X──────────Ry(th_5)──────────────@───Ry(th_6)───X───Rz(th_12)───Rz(th_13)───Rz(th_17)────┼Rz(th_18)─────────────────┼────────────────────┼───────────────X───Ry(th_20)───@───X───Rz(th_23)───Rx(th_24)───\n",
       "                                                                                                                          │                          │                    │\n",
       "(0, 2): ───Rz(th_7)───Rx(th_8)───Rz(th_9)───H─────────────────────────────────────────────────────────────────────────────@─────────────Ry(0.318π)───@───H───Ry(0.318π)───@───────────────────────────────────────────────────────────────\n",
       "                                                                                                                         └──────────┘"
      ]
     },
     "execution_count": 83,
     "metadata": {},
     "output_type": "execute_result"
    }
   ],
   "source": [
    "tt"
   ]
  },
  {
   "cell_type": "code",
   "execution_count": 77,
   "id": "taken-advocate",
   "metadata": {},
   "outputs": [],
   "source": [
    "kk=[]\n",
    "for ind, k in enumerate(list(evaluator.raw_history.values())):\n",
    "    kk.append([ind,k[1]])"
   ]
  },
  {
   "cell_type": "code",
   "execution_count": 78,
   "id": "incident-harvard",
   "metadata": {},
   "outputs": [
    {
     "data": {
      "text/plain": [
       "[[0, <tf.Tensor: shape=(), dtype=float32, numpy=0.14601374>],\n",
       " [1, <tf.Tensor: shape=(), dtype=float32, numpy=0.14601326>],\n",
       " [2, <tf.Tensor: shape=(), dtype=float32, numpy=0.14601374>],\n",
       " [3, <tf.Tensor: shape=(), dtype=float32, numpy=0.1492548>],\n",
       " [4, <tf.Tensor: shape=(), dtype=float32, numpy=0.14925486>],\n",
       " [5, <tf.Tensor: shape=(), dtype=float32, numpy=0.14925486>]]"
      ]
     },
     "execution_count": 78,
     "metadata": {},
     "output_type": "execute_result"
    }
   ],
   "source": [
    "kk"
   ]
  },
  {
   "cell_type": "code",
   "execution_count": null,
   "id": "vocational-gathering",
   "metadata": {},
   "outputs": [],
   "source": []
  }
 ],
 "metadata": {
  "kernelspec": {
   "display_name": "Python 3",
   "language": "python",
   "name": "python3"
  },
  "language_info": {
   "codemirror_mode": {
    "name": "ipython",
    "version": 3
   },
   "file_extension": ".py",
   "mimetype": "text/x-python",
   "name": "python",
   "nbconvert_exporter": "python",
   "pygments_lexer": "ipython3",
   "version": "3.6.9"
  }
 },
 "nbformat": 4,
 "nbformat_minor": 5
}
