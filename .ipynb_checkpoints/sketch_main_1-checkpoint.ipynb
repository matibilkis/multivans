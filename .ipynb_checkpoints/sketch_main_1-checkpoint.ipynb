{
 "cells": [
  {
   "cell_type": "markdown",
   "id": "israeli-cathedral",
   "metadata": {},
   "source": [
    "In this notebook we give a proof of concept of unitary compiling using TFQ. "
   ]
  },
  {
   "cell_type": "code",
   "execution_count": 14,
   "id": "cleared-explorer",
   "metadata": {},
   "outputs": [
    {
     "name": "stdout",
     "output_type": "stream",
     "text": [
      "The autoreload extension is already loaded. To reload it, use:\n",
      "  %reload_ext autoreload\n"
     ]
    }
   ],
   "source": [
    "%load_ext autoreload\n",
    "%autoreload 2\n",
    "\n",
    "import sympy \n",
    "import numpy as np \n",
    "import pandas as pd \n",
    "import tensorflow as tf\n",
    "from utilities.circuit_database import CirqTranslater\n",
    "from utilities.templates import *\n",
    "from utilities.variational import Minimizer\n",
    "import matplotlib.pyplot as plt \n",
    "import tensorflow_quantum as tfq\n",
    "import cirq\n",
    "from utilities.compiling import *\n",
    "from utilities.misc import *\n",
    "from utilities.simplifier import Simplifier\n",
    "from utilities.discrimination import *\n",
    "from utilities.idinserter import IdInserter\n",
    "from utilities.evaluator import Evaluator\n",
    "from utilities.gate_killer import GateKiller\n",
    "from ast import literal_eval\n",
    "import tensorflow_quantum as tfq"
   ]
  },
  {
   "cell_type": "code",
   "execution_count": 21,
   "id": "abroad-nicholas",
   "metadata": {},
   "outputs": [
    {
     "name": "stdout",
     "output_type": "stream",
     "text": [
      "kill 1qbit gate, try 0/10. Increased by: -2.15831619243545e-06%\n",
      "kill 1qbit gate, try 1/10. Increased by: -2.15831619243545e-06%\n",
      "kill 1qbit gate, try 2/10. Increased by: -1.7985967133427039e-06%\n",
      "kill 1qbit gate, try 3/10. Increased by: -1.7985967133427039e-06%\n",
      "kill 1qbit gate, try 4/10. Increased by: 0.0%\n"
     ]
    }
   ],
   "source": [
    "translator = CirqTranslater(3, untouchable_blocks = [1], discard_qubits=[2])\n",
    "simplifier = Simplifier(translator)\n",
    "inserter = IdInserter(translator.n_qubits, untouchable_blocks=translator.untouchable_blocks, untouchable_qubits = [2])\n",
    "\n",
    "\n",
    "etas = [0.2,1.]\n",
    "minimizer = Minimizer(translator, mode=\"discrimination\", params=etas)\n",
    "killer = GateKiller(translator, mode=\"discrimination\", params=etas)\n",
    "\n",
    "args_evaluator = {\"n_qubits\":translator.n_qubits, \"problem\":\"acd\",\"params\":etas}\n",
    "evaluator = Evaluator(args=args_evaluator, lower_bound_cost=minimizer.lower_bound_cost, nrun=0, stopping_criteria=1e-3)\n",
    "\n",
    "\n",
    "### prepare initial circuit ####\n",
    "channel_db = amplitude_damping_db(translator, qubits_ind=[0,inserter.untouchable_qubits[0]], eta=1, block_id = translator.untouchable_blocks[0])\n",
    "circuit_db = concatenate_dbs([u1_layer(translator,qubits_ind=[0,1], block_id=0), channel_db, u1_layer(translator,qubits_ind=[0,1], block_id=2)])\n",
    "circuit, circuit_db = translator.give_circuit(circuit_db)\n",
    "\n",
    "\n",
    "\n",
    "\n",
    "### optimize continuous parameters ##\n",
    "\n",
    "minimized_db, [cost, resolver, history_training] = minimizer.variational(circuit_db)\n",
    "evaluator.add_step(minimized_db, cost, relevant=True, operation=\"variational\", history = history_training.history[\"cost\"])\n",
    "\n",
    "### reduce circuit (same cost) ###\n",
    "simplified_db, ns =  simplifier.reduce_circuit(minimized_db)\n",
    "newcost = minimizer.give_cost(simplified_db)\n",
    "evaluator.add_step(simplified_db, newcost, relevant=False, operation=\"simplification\", history = ns)\n",
    "\n",
    "### remove unnecessary gates ###\n",
    "killed_db, cost, murders = killer.remove_irrelevant_gates(cost,simplified_db)\n",
    "evaluator.add_step(killed_db, cost, relevant=False, operation=\"gate_removals\", history = murders)\n",
    "\n",
    "\n",
    "### this is the circuit from which we depart. If the modification is not accepted, then we go back to this circuit\n",
    "circuit_db = killed_db.copy()\n",
    "\n"
   ]
  },
  {
   "cell_type": "code",
   "execution_count": 24,
   "id": "palestinian-vocabulary",
   "metadata": {},
   "outputs": [
    {
     "data": {
      "text/html": [
       "<pre style=\"overflow: auto; white-space: pre;\">                                                        ┌──────────┐\n",
       "(0, 0): ───Rz(th_0)───Rx(th_1)───Rz(th_2)───H────────────X──────────────────────────X───H────────────────X───Rz(th_8)───Rx(th_9)───Rz(th_10)───\n",
       "                                                         │                          │                    │\n",
       "(0, 1): ───Rz(th_3)───Rx(th_4)───Rz(th_5)───Rz(th_11)────┼Rx(th_12)────Rz(th_13)────┼────────────────────┼─────────────────────────────────────\n",
       "                                                         │                          │                    │\n",
       "(0, 2): ───H─────────────────────────────────────────────@─────────────Ry(0.318π)───@───H───Ry(0.318π)───@─────────────────────────────────────\n",
       "                                                        └──────────┘</pre>"
      ],
      "text/plain": [
       "                                                        ┌──────────┐\n",
       "(0, 0): ───Rz(th_0)───Rx(th_1)───Rz(th_2)───H────────────X──────────────────────────X───H────────────────X───Rz(th_8)───Rx(th_9)───Rz(th_10)───\n",
       "                                                         │                          │                    │\n",
       "(0, 1): ───Rz(th_3)───Rx(th_4)───Rz(th_5)───Rz(th_11)────┼Rx(th_12)────Rz(th_13)────┼────────────────────┼─────────────────────────────────────\n",
       "                                                         │                          │                    │\n",
       "(0, 2): ───H─────────────────────────────────────────────@─────────────Ry(0.318π)───@───H───Ry(0.318π)───@─────────────────────────────────────\n",
       "                                                        └──────────┘"
      ]
     },
     "execution_count": 24,
     "metadata": {},
     "output_type": "execute_result"
    }
   ],
   "source": [
    "circuit"
   ]
  },
  {
   "cell_type": "code",
   "execution_count": 25,
   "id": "graduate-generator",
   "metadata": {},
   "outputs": [
    {
     "name": "stdout",
     "output_type": "stream",
     "text": [
      "vans_it: 28\n",
      " current cost: 0.1656976342201233\n",
      "target cost: 0.1656980511955941 \n",
      "relative error: -2.518029077691608e-06\n",
      "\n",
      "\n",
      "\n"
     ]
    }
   ],
   "source": [
    "    print(\"vans_it: {}\\n current cost: {}\\ntarget cost: {} \\nrelative error: {}\\n\\n\\n\".format(vans_it, cost, minimizer.lower_bound_cost, (cost-minimizer.lower_bound_cost)/np.abs(minimizer.lower_bound_cost)))\n"
   ]
  },
  {
   "cell_type": "code",
   "execution_count": 27,
   "id": "banned-taiwan",
   "metadata": {},
   "outputs": [
    {
     "data": {
      "text/plain": [
       "(<tf.Tensor: shape=(), dtype=bool, numpy=True>,\n",
       " <tf.Tensor: shape=(), dtype=bool, numpy=True>)"
      ]
     },
     "execution_count": 27,
     "metadata": {},
     "output_type": "execute_result"
    }
   ],
   "source": [
    "evaluator.accept_cost(cost)\n"
   ]
  },
  {
   "cell_type": "code",
   "execution_count": 28,
   "id": "dependent-craft",
   "metadata": {},
   "outputs": [],
   "source": [
    "    mutated_db, number_mutations = inserter.mutate(circuit_db)\n",
    "    mutated_cost = minimizer.give_cost(mutated_db)\n",
    "    evaluator.add_step(mutated_db, mutated_cost, relevant=False, operation=\"mutation\", history = number_mutations)\n"
   ]
  },
  {
   "cell_type": "code",
   "execution_count": 29,
   "id": "italic-creek",
   "metadata": {},
   "outputs": [],
   "source": [
    "    simplified_db, ns =  simplifier.reduce_circuit(mutated_db)\n",
    "    simplified_cost = minimizer.give_cost(simplified_db)\n",
    "    evaluator.add_step(simplified_db, simplified_cost, relevant=False, operation=\"simplification\", history = ns)\n",
    "\n",
    "    minimized_db, [cost, resolver, history_training] = minimizer.variational(simplified_db)\n",
    "    evaluator.add_step(simplified_db, simplified_cost, relevant=False, operation=\"variational\", history = history_training.history[\"cost\"])\n"
   ]
  },
  {
   "cell_type": "code",
   "execution_count": 30,
   "id": "civil-correspondence",
   "metadata": {},
   "outputs": [],
   "source": [
    "    accept_cost, stop = evaluator.accept_cost(cost)\n"
   ]
  },
  {
   "cell_type": "code",
   "execution_count": 32,
   "id": "photographic-suggestion",
   "metadata": {},
   "outputs": [
    {
     "data": {
      "text/plain": [
       "<tf.Tensor: shape=(), dtype=bool, numpy=True>"
      ]
     },
     "execution_count": 32,
     "metadata": {},
     "output_type": "execute_result"
    }
   ],
   "source": [
    "stop"
   ]
  },
  {
   "cell_type": "code",
   "execution_count": 35,
   "id": "generous-selling",
   "metadata": {},
   "outputs": [],
   "source": [
    "def kill_and_simplify(cdb, initial_cost, killer, simplifier, max_rounds = 100):\n",
    "    killed_db, killed_cost, murders = killer.remove_irrelevant_gates(initial_cost,cdb)\n",
    "    simplified_db, ns =  simplifier.reduce_circuit(killed_db)\n",
    "    for it in range(max_rounds):\n",
    "        killed_db, killed_cost, murders = killer.remove_irrelevant_gates(cost,simplified_db)\n",
    "        simplified_db, ns =  simplifier.reduce_circuit(killed_db)\n",
    "        if (murders == 0) and (ns == 0):\n",
    "            break\n",
    "    return simplified_db"
   ]
  },
  {
   "cell_type": "code",
   "execution_count": 34,
   "id": "tender-marijuana",
   "metadata": {},
   "outputs": [
    {
     "data": {
      "text/html": [
       "<div>\n",
       "<style scoped>\n",
       "    .dataframe tbody tr th:only-of-type {\n",
       "        vertical-align: middle;\n",
       "    }\n",
       "\n",
       "    .dataframe tbody tr th {\n",
       "        vertical-align: top;\n",
       "    }\n",
       "\n",
       "    .dataframe thead th {\n",
       "        text-align: right;\n",
       "    }\n",
       "</style>\n",
       "<table border=\"1\" class=\"dataframe\">\n",
       "  <thead>\n",
       "    <tr style=\"text-align: right;\">\n",
       "      <th></th>\n",
       "      <th>ind</th>\n",
       "      <th>symbol</th>\n",
       "      <th>param_value</th>\n",
       "      <th>trainable</th>\n",
       "      <th>block_id</th>\n",
       "      <th>channel_param</th>\n",
       "    </tr>\n",
       "  </thead>\n",
       "  <tbody>\n",
       "    <tr>\n",
       "      <th>0</th>\n",
       "      <td>9</td>\n",
       "      <td>th_0</td>\n",
       "      <td>-3.141589</td>\n",
       "      <td>True</td>\n",
       "      <td>0</td>\n",
       "      <td>NaN</td>\n",
       "    </tr>\n",
       "    <tr>\n",
       "      <th>1</th>\n",
       "      <td>10</td>\n",
       "      <td>th_1</td>\n",
       "      <td>-0.453285</td>\n",
       "      <td>True</td>\n",
       "      <td>0</td>\n",
       "      <td>NaN</td>\n",
       "    </tr>\n",
       "    <tr>\n",
       "      <th>2</th>\n",
       "      <td>7</td>\n",
       "      <td>th_2</td>\n",
       "      <td>7.943988</td>\n",
       "      <td>True</td>\n",
       "      <td>0</td>\n",
       "      <td>NaN</td>\n",
       "    </tr>\n",
       "    <tr>\n",
       "      <th>3</th>\n",
       "      <td>15</td>\n",
       "      <td>None</td>\n",
       "      <td>NaN</td>\n",
       "      <td>False</td>\n",
       "      <td>1</td>\n",
       "      <td>NaN</td>\n",
       "    </tr>\n",
       "    <tr>\n",
       "      <th>4</th>\n",
       "      <td>17</td>\n",
       "      <td>None</td>\n",
       "      <td>NaN</td>\n",
       "      <td>False</td>\n",
       "      <td>1</td>\n",
       "      <td>NaN</td>\n",
       "    </tr>\n",
       "    <tr>\n",
       "      <th>5</th>\n",
       "      <td>4</td>\n",
       "      <td>None</td>\n",
       "      <td>NaN</td>\n",
       "      <td>False</td>\n",
       "      <td>1</td>\n",
       "      <td>NaN</td>\n",
       "    </tr>\n",
       "    <tr>\n",
       "      <th>6</th>\n",
       "      <td>14</td>\n",
       "      <td>th_3</td>\n",
       "      <td>1.000000</td>\n",
       "      <td>False</td>\n",
       "      <td>1</td>\n",
       "      <td>True</td>\n",
       "    </tr>\n",
       "    <tr>\n",
       "      <th>7</th>\n",
       "      <td>4</td>\n",
       "      <td>None</td>\n",
       "      <td>NaN</td>\n",
       "      <td>False</td>\n",
       "      <td>1</td>\n",
       "      <td>NaN</td>\n",
       "    </tr>\n",
       "    <tr>\n",
       "      <th>8</th>\n",
       "      <td>15</td>\n",
       "      <td>None</td>\n",
       "      <td>NaN</td>\n",
       "      <td>False</td>\n",
       "      <td>1</td>\n",
       "      <td>NaN</td>\n",
       "    </tr>\n",
       "    <tr>\n",
       "      <th>9</th>\n",
       "      <td>17</td>\n",
       "      <td>None</td>\n",
       "      <td>NaN</td>\n",
       "      <td>False</td>\n",
       "      <td>1</td>\n",
       "      <td>NaN</td>\n",
       "    </tr>\n",
       "    <tr>\n",
       "      <th>10</th>\n",
       "      <td>14</td>\n",
       "      <td>th_4</td>\n",
       "      <td>1.000000</td>\n",
       "      <td>False</td>\n",
       "      <td>1</td>\n",
       "      <td>True</td>\n",
       "    </tr>\n",
       "    <tr>\n",
       "      <th>11</th>\n",
       "      <td>4</td>\n",
       "      <td>None</td>\n",
       "      <td>NaN</td>\n",
       "      <td>False</td>\n",
       "      <td>1</td>\n",
       "      <td>NaN</td>\n",
       "    </tr>\n",
       "    <tr>\n",
       "      <th>12</th>\n",
       "      <td>7</td>\n",
       "      <td>th_5</td>\n",
       "      <td>-4.802393</td>\n",
       "      <td>True</td>\n",
       "      <td>2</td>\n",
       "      <td>NaN</td>\n",
       "    </tr>\n",
       "    <tr>\n",
       "      <th>13</th>\n",
       "      <td>10</td>\n",
       "      <td>th_6</td>\n",
       "      <td>-0.453281</td>\n",
       "      <td>True</td>\n",
       "      <td>2</td>\n",
       "      <td>NaN</td>\n",
       "    </tr>\n",
       "    <tr>\n",
       "      <th>14</th>\n",
       "      <td>6</td>\n",
       "      <td>th_7</td>\n",
       "      <td>6.951302</td>\n",
       "      <td>True</td>\n",
       "      <td>2</td>\n",
       "      <td>NaN</td>\n",
       "    </tr>\n",
       "    <tr>\n",
       "      <th>15</th>\n",
       "      <td>9</td>\n",
       "      <td>th_8</td>\n",
       "      <td>-0.000003</td>\n",
       "      <td>True</td>\n",
       "      <td>2</td>\n",
       "      <td>NaN</td>\n",
       "    </tr>\n",
       "    <tr>\n",
       "      <th>16</th>\n",
       "      <td>6</td>\n",
       "      <td>th_9</td>\n",
       "      <td>-0.340355</td>\n",
       "      <td>True</td>\n",
       "      <td>2</td>\n",
       "      <td>NaN</td>\n",
       "    </tr>\n",
       "  </tbody>\n",
       "</table>\n",
       "</div>"
      ],
      "text/plain": [
       "    ind symbol  param_value  trainable  block_id channel_param\n",
       "0     9   th_0    -3.141589       True         0           NaN\n",
       "1    10   th_1    -0.453285       True         0           NaN\n",
       "2     7   th_2     7.943988       True         0           NaN\n",
       "3    15   None          NaN      False         1           NaN\n",
       "4    17   None          NaN      False         1           NaN\n",
       "5     4   None          NaN      False         1           NaN\n",
       "6    14   th_3     1.000000      False         1          True\n",
       "7     4   None          NaN      False         1           NaN\n",
       "8    15   None          NaN      False         1           NaN\n",
       "9    17   None          NaN      False         1           NaN\n",
       "10   14   th_4     1.000000      False         1          True\n",
       "11    4   None          NaN      False         1           NaN\n",
       "12    7   th_5    -4.802393       True         2           NaN\n",
       "13   10   th_6    -0.453281       True         2           NaN\n",
       "14    6   th_7     6.951302       True         2           NaN\n",
       "15    9   th_8    -0.000003       True         2           NaN\n",
       "16    6   th_9    -0.340355       True         2           NaN"
      ]
     },
     "execution_count": 34,
     "metadata": {},
     "output_type": "execute_result"
    }
   ],
   "source": [
    "simplifier.simplified_db"
   ]
  },
  {
   "cell_type": "code",
   "execution_count": 20,
   "id": "furnished-consistency",
   "metadata": {},
   "outputs": [
    {
     "data": {
      "text/plain": [
       "<tf.Tensor: shape=(), dtype=float32, numpy=0.16569805>"
      ]
     },
     "execution_count": 20,
     "metadata": {},
     "output_type": "execute_result"
    }
   ],
   "source": [
    "\n",
    "\n",
    "for vans_it in range(evaluator.vans_its):\n",
    "    print(\"vans_it: {}\\n current cost: {}\\ntarget cost: {} \\nrelative error: {}\\n\\n\\n\".format(vans_it, cost, minimizer.lower_bound_cost, (cost-minimizer.lower_bound_cost)/np.abs(minimizer.lower_bound_cost)))\n",
    "    mutated_db, number_mutations = inserter.mutate(circuit_db)\n",
    "    mutated_cost = minimizer.give_cost(mutated_db)\n",
    "    evaluator.add_step(mutated_db, mutated_cost, relevant=False, operation=\"mutation\", history = number_mutations)\n",
    "\n",
    "    simplified_db, ns =  simplifier.reduce_circuit(mutated_db)\n",
    "    simplified_cost = minimizer.give_cost(simplified_db)\n",
    "    evaluator.add_step(simplified_db, simplified_cost, relevant=False, operation=\"simplification\", history = ns)\n",
    "\n",
    "    minimized_db, [cost, resolver, history_training] = minimizer.variational(simplified_db)\n",
    "    evaluator.add_step(minimized_db, cost, relevant=False, operation=\"variational\", history = history_training.history[\"cost\"])\n",
    "\n",
    "    accept_cost, stop = evaluator.accept_cost(cost)\n",
    "    if accept_cost is True:\n",
    "\n",
    "        killed_db, killed_cost, murders = killer.remove_irrelevant_gates(cost,minimized_db)\n",
    "        simplified_db, ns =  simplifier.reduce_circuit(killed_db)\n",
    "        simplified_cost = minimizer.give_cost(simplified_db)\n",
    "        evaluator.add_step(simplified_db, simplified_cost, relevant=False, operation=\"simplification\", history = ns)\n",
    "\n",
    "        minimized_db, [cost, resolver, history_training] = minimizer.variational(simplified_db)\n",
    "        evaluator.add_step(simplified_db, simplified_cost, relevant=True, operation=\"variational\", history = history_training.history[\"cost\"])\n",
    "\n",
    "        circuit_db = minimized_db.copy()\n",
    "        \n",
    "    if stop is True:\n",
    "        print(\"ending VAns\")\n",
    "        print(\"\\n final cost: {}\\ntarget cost: {} \\n\\n\\n\\n\".format(cost, minimizer.lower_bound_cost))\n",
    "        break"
   ]
  },
  {
   "cell_type": "code",
   "execution_count": null,
   "id": "magnetic-samuel",
   "metadata": {},
   "outputs": [],
   "source": []
  }
 ],
 "metadata": {
  "kernelspec": {
   "display_name": "Python 3",
   "language": "python",
   "name": "python3"
  },
  "language_info": {
   "codemirror_mode": {
    "name": "ipython",
    "version": 3
   },
   "file_extension": ".py",
   "mimetype": "text/x-python",
   "name": "python",
   "nbconvert_exporter": "python",
   "pygments_lexer": "ipython3",
   "version": "3.6.9"
  }
 },
 "nbformat": 4,
 "nbformat_minor": 5
}
