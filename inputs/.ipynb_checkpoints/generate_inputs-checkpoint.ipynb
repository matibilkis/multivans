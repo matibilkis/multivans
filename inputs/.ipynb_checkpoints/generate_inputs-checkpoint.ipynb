{
 "cells": [
  {
   "cell_type": "code",
   "execution_count": 2,
   "id": "fcc334ab-15e6-4b76-b221-0525f592bcd5",
   "metadata": {},
   "outputs": [],
   "source": [
    "import os \n",
    "os.chdir(\"..\")\n",
    "import numpy as np"
   ]
  },
  {
   "cell_type": "code",
   "execution_count": 8,
   "id": "76fa13d3-9abd-4ce8-b96d-df57bf956928",
   "metadata": {},
   "outputs": [],
   "source": [
    "ep = 0.05\n",
    "etas = np.arange(0,1+ep, ep)\n",
    "ets = []\n",
    "for eta1 in etas:\n",
    "    for eta2 in etas:\n",
    "        if eta2 < eta1:\n",
    "            ets.append([eta1, eta2])"
   ]
  },
  {
   "cell_type": "code",
   "execution_count": 9,
   "id": "60d03223-e4c2-45ca-bbd7-ac3d8e319fb0",
   "metadata": {},
   "outputs": [],
   "source": [
    "np.savetxt(\"inputs.csv\", ets, delimiter=\" \")"
   ]
  },
  {
   "cell_type": "code",
   "execution_count": 10,
   "id": "733248a1-81ff-4676-86bb-402439240145",
   "metadata": {},
   "outputs": [
    {
     "data": {
      "text/plain": [
       "210"
      ]
     },
     "execution_count": 10,
     "metadata": {},
     "output_type": "execute_result"
    }
   ],
   "source": [
    "len(ets)"
   ]
  },
  {
   "cell_type": "code",
   "execution_count": null,
   "id": "790b13ee-a501-4d68-a649-74b4328d6e78",
   "metadata": {},
   "outputs": [],
   "source": []
  }
 ],
 "metadata": {
  "kernelspec": {
   "display_name": "qenv_bilkis",
   "language": "python",
   "name": "qenv_bilkis"
  },
  "language_info": {
   "codemirror_mode": {
    "name": "ipython",
    "version": 3
   },
   "file_extension": ".py",
   "mimetype": "text/x-python",
   "name": "python",
   "nbconvert_exporter": "python",
   "pygments_lexer": "ipython3",
   "version": "3.6.8"
  }
 },
 "nbformat": 4,
 "nbformat_minor": 5
}
