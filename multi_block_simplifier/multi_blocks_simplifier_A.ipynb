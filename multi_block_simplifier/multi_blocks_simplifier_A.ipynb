{
 "cells": [
  {
   "cell_type": "markdown",
   "id": "israeli-cathedral",
   "metadata": {},
   "source": [
    "In this notebook we give a proof of concept of unitary compiling using TFQ. "
   ]
  },
  {
   "cell_type": "code",
   "execution_count": 37,
   "id": "cleared-explorer",
   "metadata": {},
   "outputs": [
    {
     "name": "stdout",
     "output_type": "stream",
     "text": [
      "The autoreload extension is already loaded. To reload it, use:\n",
      "  %reload_ext autoreload\n"
     ]
    }
   ],
   "source": [
    "%load_ext autoreload\n",
    "%autoreload 2\n",
    "\n",
    "import sympy \n",
    "import numpy as np \n",
    "import pandas as pd \n",
    "import tensorflow as tf\n",
    "from utilities.circuit_database import CirqTranslater\n",
    "from utilities.templates import *\n",
    "from utilities.variational import Minimizer\n",
    "import matplotlib.pyplot as plt \n",
    "import tensorflow_quantum as tfq\n",
    "import cirq\n",
    "from utilities.compiling import *\n",
    "from utilities.misc import *\n",
    "from utilities.simplifier import Simplifier\n",
    "from utilities.discrimination import *\n",
    "from utilities.idinserter import IdInserter\n",
    "from utilities.evaluator import Evaluator\n",
    "from utilities.gate_killer import GateKiller\n",
    "from ast import literal_eval\n"
   ]
  },
  {
   "cell_type": "code",
   "execution_count": 38,
   "id": "coastal-dividend",
   "metadata": {},
   "outputs": [],
   "source": [
    "np.random.seed(0)\n",
    "translator = CirqTranslater(4, untouchable_blocks = [])\n",
    "\n",
    "translator.env_qubits = [2]\n",
    "\n",
    "simplifier = Simplifier(translator)\n",
    "etas = [0.01, 1.]\n",
    "minimizer = Minimizer(translator, mode=\"discrimination\", params=etas)"
   ]
  },
  {
   "cell_type": "code",
   "execution_count": 28,
   "id": "nominated-collectible",
   "metadata": {},
   "outputs": [],
   "source": [
    "q = 0\n",
    "other_qs = list(range(translator.n_qubits))\n",
    "other_qs.remove(q)\n",
    "indds = [translator.cnots_index[str([q,k])] for k in other_qs]\n",
    "cdb = pd.DataFrame([gate_template(i) for i in indds])\n",
    "\n",
    "circuit_db = concatenate_dbs([z_layer_db(translator), cdb])\n",
    "\n",
    "for q in range(1, translator.n_qubits):\n",
    "    other_qs = list(range(translator.n_qubits))\n",
    "    other_qs.remove(q)\n",
    "    indds = [translator.cnots_index[str([q,k])] for k in other_qs]\n",
    "    cdb = pd.DataFrame([gate_template(i) for i in indds])\n",
    "    circuit_db = concatenate_dbs([circuit_db ,cdb])\n",
    "\n",
    "c, circuit_db = translator.give_circuit(circuit_db)\n",
    "db1 = concatenate_dbs([x_layer_db(translator)]*3)\n",
    "\n",
    "circuit_db = concatenate_dbs([circuit_db, db1])\n",
    "c, circuit_db = translator.give_circuit(circuit_db)\n",
    "\n",
    "cdb = []\n",
    "for ind, qubits in list(translator.indexed_cnots.items()):\n",
    "    cdb.append(gate_template(int(ind), block_id=0))\n",
    "    con, tar = qubits\n",
    "    cdb.append(gate_template(int(con + translator.number_of_cnots), param_value = np.random.random()))\n",
    "    cdb.append(gate_template(int(tar + translator.number_of_cnots + translator.n_qubits), param_value = np.random.random()))\n",
    "c6_db = pd.DataFrame(cdb)\n",
    "circuit_db = concatenate_dbs([circuit_db, c6_db])\n",
    "\n",
    "c, circuit_db = translator.give_circuit(circuit_db)"
   ]
  },
  {
   "cell_type": "code",
   "execution_count": 29,
   "id": "furnished-seeker",
   "metadata": {},
   "outputs": [],
   "source": [
    "dd1  =circuit_db.copy()\n",
    "dd1[\"block_id\"] = 0\n",
    "dd1[\"symbol\"] = None\n",
    "circuit_db = concatenate_dbs([circuit_db, dd1])\n",
    "c, circuit_db = translator.give_circuit(circuit_db)"
   ]
  },
  {
   "cell_type": "code",
   "execution_count": 30,
   "id": "likely-vitamin",
   "metadata": {},
   "outputs": [
    {
     "name": "stdout",
     "output_type": "stream",
     "text": [
      "simplified using  <bound method Simplifier.rule_4 of <utilities.simplifier.Simplifier object at 0x7f137c674c88>>\n",
      "simplified using  <bound method Simplifier.rule_4 of <utilities.simplifier.Simplifier object at 0x7f137c674c88>>\n",
      "simplified using  <bound method Simplifier.rule_4 of <utilities.simplifier.Simplifier object at 0x7f137c674c88>>\n",
      "simplified using  <bound method Simplifier.rule_4 of <utilities.simplifier.Simplifier object at 0x7f137c674c88>>\n",
      "simplified using  <bound method Simplifier.rule_4 of <utilities.simplifier.Simplifier object at 0x7f137c674c88>>\n",
      "simplified using  <bound method Simplifier.rule_4 of <utilities.simplifier.Simplifier object at 0x7f137c674c88>>\n",
      "simplified using  <bound method Simplifier.rule_4 of <utilities.simplifier.Simplifier object at 0x7f137c674c88>>\n",
      "simplified using  <bound method Simplifier.rule_4 of <utilities.simplifier.Simplifier object at 0x7f137c674c88>>\n",
      "simplified using  <bound method Simplifier.rule_4 of <utilities.simplifier.Simplifier object at 0x7f137c674c88>>\n",
      "simplified using  <bound method Simplifier.rule_4 of <utilities.simplifier.Simplifier object at 0x7f137c674c88>>\n",
      "simplified using  <bound method Simplifier.rule_4 of <utilities.simplifier.Simplifier object at 0x7f137c674c88>>\n",
      "simplified using  <bound method Simplifier.rule_4 of <utilities.simplifier.Simplifier object at 0x7f137c674c88>>\n",
      "simplified using  <bound method Simplifier.rule_4 of <utilities.simplifier.Simplifier object at 0x7f137c674c88>>\n",
      "simplified using  <bound method Simplifier.rule_4 of <utilities.simplifier.Simplifier object at 0x7f137c674c88>>\n",
      "simplified using  <bound method Simplifier.rule_4 of <utilities.simplifier.Simplifier object at 0x7f137c674c88>>\n",
      "simplified using  <bound method Simplifier.rule_4 of <utilities.simplifier.Simplifier object at 0x7f137c674c88>>\n",
      "simplified using  <bound method Simplifier.rule_4 of <utilities.simplifier.Simplifier object at 0x7f137c674c88>>\n",
      "simplified using  <bound method Simplifier.rule_6 of <utilities.simplifier.Simplifier object at 0x7f137c674c88>>\n",
      "simplified using  <bound method Simplifier.rule_6 of <utilities.simplifier.Simplifier object at 0x7f137c674c88>>\n",
      "simplified using  <bound method Simplifier.rule_6 of <utilities.simplifier.Simplifier object at 0x7f137c674c88>>\n",
      "simplified using  <bound method Simplifier.rule_6 of <utilities.simplifier.Simplifier object at 0x7f137c674c88>>\n",
      "simplified using  <bound method Simplifier.rule_6 of <utilities.simplifier.Simplifier object at 0x7f137c674c88>>\n",
      "simplified using  <bound method Simplifier.rule_6 of <utilities.simplifier.Simplifier object at 0x7f137c674c88>>\n",
      "simplified using  <bound method Simplifier.rule_6 of <utilities.simplifier.Simplifier object at 0x7f137c674c88>>\n",
      "simplified using  <bound method Simplifier.rule_6 of <utilities.simplifier.Simplifier object at 0x7f137c674c88>>\n",
      "simplified using  <bound method Simplifier.rule_6 of <utilities.simplifier.Simplifier object at 0x7f137c674c88>>\n",
      "simplified using  <bound method Simplifier.rule_6 of <utilities.simplifier.Simplifier object at 0x7f137c674c88>>\n",
      "simplified using  <bound method Simplifier.rule_6 of <utilities.simplifier.Simplifier object at 0x7f137c674c88>>\n",
      "simplified using  <bound method Simplifier.rule_6 of <utilities.simplifier.Simplifier object at 0x7f137c674c88>>\n",
      "simplified using  <bound method Simplifier.rule_6 of <utilities.simplifier.Simplifier object at 0x7f137c674c88>>\n",
      "simplified using  <bound method Simplifier.rule_6 of <utilities.simplifier.Simplifier object at 0x7f137c674c88>>\n",
      "simplified using  <bound method Simplifier.rule_6 of <utilities.simplifier.Simplifier object at 0x7f137c674c88>>\n",
      "simplified using  <bound method Simplifier.rule_6 of <utilities.simplifier.Simplifier object at 0x7f137c674c88>>\n",
      "simplified using  <bound method Simplifier.rule_6 of <utilities.simplifier.Simplifier object at 0x7f137c674c88>>\n",
      "simplified using  <bound method Simplifier.rule_6 of <utilities.simplifier.Simplifier object at 0x7f137c674c88>>\n",
      "simplified using  <bound method Simplifier.rule_6 of <utilities.simplifier.Simplifier object at 0x7f137c674c88>>\n",
      "simplified using  <bound method Simplifier.rule_6 of <utilities.simplifier.Simplifier object at 0x7f137c674c88>>\n",
      "simplified using  <bound method Simplifier.rule_6 of <utilities.simplifier.Simplifier object at 0x7f137c674c88>>\n",
      "simplified using  <bound method Simplifier.rule_6 of <utilities.simplifier.Simplifier object at 0x7f137c674c88>>\n",
      "simplified using  <bound method Simplifier.rule_6 of <utilities.simplifier.Simplifier object at 0x7f137c674c88>>\n",
      "simplified using  <bound method Simplifier.rule_6 of <utilities.simplifier.Simplifier object at 0x7f137c674c88>>\n",
      "simplified using  <bound method Simplifier.rule_6 of <utilities.simplifier.Simplifier object at 0x7f137c674c88>>\n",
      "simplified using  <bound method Simplifier.rule_6 of <utilities.simplifier.Simplifier object at 0x7f137c674c88>>\n",
      "simplified using  <bound method Simplifier.rule_6 of <utilities.simplifier.Simplifier object at 0x7f137c674c88>>\n",
      "simplified using  <bound method Simplifier.rule_6 of <utilities.simplifier.Simplifier object at 0x7f137c674c88>>\n",
      "simplified using  <bound method Simplifier.rule_6 of <utilities.simplifier.Simplifier object at 0x7f137c674c88>>\n",
      "simplified using  <bound method Simplifier.rule_6 of <utilities.simplifier.Simplifier object at 0x7f137c674c88>>\n",
      "simplified using  <bound method Simplifier.rule_6 of <utilities.simplifier.Simplifier object at 0x7f137c674c88>>\n",
      "simplified using  <bound method Simplifier.rule_6 of <utilities.simplifier.Simplifier object at 0x7f137c674c88>>\n",
      "simplified using  <bound method Simplifier.rule_6 of <utilities.simplifier.Simplifier object at 0x7f137c674c88>>\n",
      "simplified using  <bound method Simplifier.rule_6 of <utilities.simplifier.Simplifier object at 0x7f137c674c88>>\n",
      "simplified using  <bound method Simplifier.rule_6 of <utilities.simplifier.Simplifier object at 0x7f137c674c88>>\n",
      "simplified using  <bound method Simplifier.rule_6 of <utilities.simplifier.Simplifier object at 0x7f137c674c88>>\n",
      "simplified using  <bound method Simplifier.rule_6 of <utilities.simplifier.Simplifier object at 0x7f137c674c88>>\n",
      "simplified using  <bound method Simplifier.rule_6 of <utilities.simplifier.Simplifier object at 0x7f137c674c88>>\n",
      "simplified using  <bound method Simplifier.rule_6 of <utilities.simplifier.Simplifier object at 0x7f137c674c88>>\n",
      "simplified using  <bound method Simplifier.rule_6 of <utilities.simplifier.Simplifier object at 0x7f137c674c88>>\n",
      "simplified using  <bound method Simplifier.rule_6 of <utilities.simplifier.Simplifier object at 0x7f137c674c88>>\n",
      "simplified using  <bound method Simplifier.rule_6 of <utilities.simplifier.Simplifier object at 0x7f137c674c88>>\n",
      "simplified using  <bound method Simplifier.rule_6 of <utilities.simplifier.Simplifier object at 0x7f137c674c88>>\n",
      "simplified using  <bound method Simplifier.rule_6 of <utilities.simplifier.Simplifier object at 0x7f137c674c88>>\n",
      "simplified using  <bound method Simplifier.rule_6 of <utilities.simplifier.Simplifier object at 0x7f137c674c88>>\n",
      "simplified using  <bound method Simplifier.rule_6 of <utilities.simplifier.Simplifier object at 0x7f137c674c88>>\n",
      "simplified using  <bound method Simplifier.rule_6 of <utilities.simplifier.Simplifier object at 0x7f137c674c88>>\n",
      "simplified using  <bound method Simplifier.rule_6 of <utilities.simplifier.Simplifier object at 0x7f137c674c88>>\n",
      "simplified using  <bound method Simplifier.rule_6 of <utilities.simplifier.Simplifier object at 0x7f137c674c88>>\n",
      "simplified using  <bound method Simplifier.rule_6 of <utilities.simplifier.Simplifier object at 0x7f137c674c88>>\n",
      "simplified using  <bound method Simplifier.rule_6 of <utilities.simplifier.Simplifier object at 0x7f137c674c88>>\n",
      "simplified using  <bound method Simplifier.rule_6 of <utilities.simplifier.Simplifier object at 0x7f137c674c88>>\n",
      "simplified using  <bound method Simplifier.rule_6 of <utilities.simplifier.Simplifier object at 0x7f137c674c88>>\n",
      "simplified using  <bound method Simplifier.rule_6 of <utilities.simplifier.Simplifier object at 0x7f137c674c88>>\n",
      "simplified using  <bound method Simplifier.rule_6 of <utilities.simplifier.Simplifier object at 0x7f137c674c88>>\n",
      "simplified using  <bound method Simplifier.rule_6 of <utilities.simplifier.Simplifier object at 0x7f137c674c88>>\n",
      "simplified using  <bound method Simplifier.rule_6 of <utilities.simplifier.Simplifier object at 0x7f137c674c88>>\n",
      "simplified using  <bound method Simplifier.rule_6 of <utilities.simplifier.Simplifier object at 0x7f137c674c88>>\n"
     ]
    },
    {
     "name": "stdout",
     "output_type": "stream",
     "text": [
      "simplified using  <bound method Simplifier.rule_1 of <utilities.simplifier.Simplifier object at 0x7f137c674c88>>\n",
      "simplified using  <bound method Simplifier.rule_1 of <utilities.simplifier.Simplifier object at 0x7f137c674c88>>\n",
      "simplified using  <bound method Simplifier.rule_1 of <utilities.simplifier.Simplifier object at 0x7f137c674c88>>\n"
     ]
    }
   ],
   "source": [
    "simplifier = Simplifier(translator, apply_relatives_to_first = True)\n",
    "simplifier.apply_relatives_to_first = True\n",
    "simplifier.relative_rules = [simplifier.rule_1]\n",
    "simplified_db, ns = simplifier.reduce_circuit(circuit_db)\n",
    "ss, simplified_db = translator.give_circuit(simplified_db)"
   ]
  },
  {
   "cell_type": "code",
   "execution_count": 31,
   "id": "imported-stevens",
   "metadata": {},
   "outputs": [
    {
     "name": "stdout",
     "output_type": "stream",
     "text": [
      "\n",
      "\n",
      "5.635475559608569e-16\n",
      "                                          ┌──┐                                                                                                                                                     ┌──┐                                                                                                                                           ┌──┐                                                                                                                                                       ┌──┐\n",
      "(0, 0): ───Rz(th_0)───@───@───@───X─────────X────────────X───Rx(th_4)───Rx(th_8)───Rx(th_12)───────────────@───────────Rz(th_16)───@───Rz(th_18)───@───Rz(th_20)───X───Rx(th_23)─────────────────────X────Rx(th_29)───────────────────────────────────X───Rx(th_35)───Rz(th_40)───────────────────────────@───────────────────────@───@───X─────────X────────────X───Rx(th_44)───Rx(th_48)───Rx(th_52)───────────────@───────────Rz(th_56)───@───Rz(th_58)───@───Rz(th_60)───X───Rx(th_63)─────────────────────X────Rx(th_69)───────────────────────────────────X───Rx(th_75)───────────────────────────────────\n",
      "                      │   │   │   │         │            │                                                 │                       │               │               │                                 │                                                │                                                   │                       │   │   │         │            │                                                   │                       │               │               │                                 │                                                │\n",
      "(0, 1): ───Rz(th_1)───X───┼───┼───@───@────@┼────X───────┼───X──────────Rx(th_5)───Rx(th_9)────Rx(th_13)───X───────────Rx(th_17)───┼───────────────┼───────────────@───Rz(th_22)───@───Rz(th_24)────@┼────Rz(th_26)───X───Rx(th_31)───────────────────┼───────────────X───────────Rx(th_37)───Rz(th_41)───X───────────────────────┼───┼───@───@────@┼────X───────┼───X───────────Rx(th_45)───Rx(th_49)───Rx(th_53)───X───────────Rx(th_57)───┼───────────────┼───────────────@───Rz(th_62)───@───Rz(th_64)────@┼────Rz(th_66)───X───Rx(th_71)───────────────────┼───────────────X───Rx(th_77)───────────────────\n",
      "                          │   │       │    ││    │       │   │                                                                     │               │                               │                ││                │                               │               │                                                           │   │       │    ││    │       │   │                                                                       │               │                               │                ││                │                               │               │\n",
      "(0, 2): ───Rz(th_2)───────X───┼───────X────┼@────@───@───┼───┼──────────X──────────Rx(th_6)────Rx(th_10)───Rx(th_14)───────────────X───Rx(th_19)───┼───────────────────────────────X───Rx(th_25)────┼@────Rz(th_28)───@───Rz(th_30)───@───Rz(th_32)───┼───────────────┼───────────────────────X───────────Rx(th_39)───Rz(th_42)───X───┼───────X────┼@────@───@───┼───┼───────────X───────────Rx(th_46)───Rx(th_50)───Rx(th_54)───────────────X───Rx(th_59)───┼───────────────────────────────X───Rx(th_65)────┼@────Rz(th_68)───@───Rz(th_70)───@───Rz(th_72)───┼───────────────┼───────────────X───Rx(th_79)───\n",
      "                              │            │         │   │   │          │                                                                          │                                                │                                 │               │               │                       │                                       │            │         │   │   │           │                                                                           │                                                │                                 │               │               │               │\n",
      "(0, 3): ───Rz(th_3)───────────X────────────X─────────X───@───@──────────@──────────Rx(th_7)────Rx(th_11)───Rx(th_15)───────────────────────────────X───Rx(th_21)────────────────────────────────────X─────Rx(th_27)───────────────────X───Rx(th_33)───@───Rz(th_34)───@───────────Rz(th_36)───@───────────Rz(th_38)───Rz(th_43)───────X────────────X─────────X───@───@───────────@───────────Rx(th_47)───Rx(th_51)───Rx(th_55)───────────────────────────────X───Rx(th_61)────────────────────────────────────X─────Rx(th_67)───────────────────X───Rx(th_73)───@───Rz(th_74)───@───Rz(th_76)───@───Rz(th_78)───\n",
      "                                          └──┘                                                                                                                                                     └──┘                                                                                                                                           └──┘                                                                                                                                                       └──┘\n",
      "\n",
      "                              ┌──┐                              ┌─────────┐   ┌─────────┐                                            ┌──────────┐                           ┌──────────┐                                                                                                                                                       ┌──┐                               ┌──────────┐   ┌──────────┐                                               ┌──────────┐                           ┌──────────┐\n",
      "(0, 0): ───Rz(th_3)───X─────────X────────────X───Rx(th_4)───@────────────@─────────────@────Rz(th_7)───Rz(th_8)───Rz(th_9)───X────────────────────────────────────────────────────────X────────────────────────────────────────────────────────────X───Rx(th_23)───Rx(th_24)───Rx(th_25)───────────────@───────────@───@───Rz(th_34)───X─────────X────────────X───Rx(th_35)───@─────────────@──────────────@────Rz(th_38)───Rz(th_39)───Rz(th_40)───X────────────────────────────────────────────────────────X────────────────────────────────────────────────────────────X───Rx(th_54)───Rx(th_55)───Rx(th_56)───────────────────────────\n",
      "                      │         │            │              │            │             │                                     │                                                        │                                                            │                                                   │           │   │               │         │            │               │             │              │                                        │                                                        │                                                            │\n",
      "(0, 1): ───Rz(th_0)───@───@────@┼────X───────┼───X──────────X────Rx(th_5)┼─────Rx(th_6)┼─────────────────────────────────────@───@─────────────@────Rz(th_13)───Rz(th_14)────Rz(th_15)┼────X───────────────────────────────────────────────────────┼───X───────────Rx(th_26)───Rx(th_27)───Rz(th_31)───X───────────┼───┼───────────────@───@────@┼────X───────┼───X───────────X────Rx(th_36)┼─────Rx(th_37)┼────────────────────────────────────────@───@─────────────@────Rz(th_44)───Rz(th_45)────Rz(th_46)┼────X───────────────────────────────────────────────────────┼───X───────────Rx(th_57)───Rx(th_58)───────────────────────────\n",
      "                          │    ││    │       │   │                       │             │                                         │             │                                      │    │                                                       │   │                                                           │   │                   │    ││    │       │   │                         │              │                                            │             │                                      │    │                                                       │   │\n",
      "(0, 2): ───Rz(th_1)───────X────┼@────@───@───┼───┼──────────X────────────X─────────────┼─────────────────────────────────────────X────Rx(th_10)┼────Rx(th_11)───Rx(th_12)─────────────@────@───@───Rz(th_19)───Rz(th_20)───Rz(th_21)───────────────┼───┼───────────X───────────Rx(th_30)───Rz(th_32)───────────────X───┼───────────────────X────┼@────@───@───┼───┼───────────X─────────────X──────────────┼────────────────────────────────────────────X────Rx(th_41)┼────Rx(th_42)───Rx(th_43)─────────────@────@───@───Rz(th_50)───Rz(th_51)───Rz(th_52)───────────────┼───┼───────────X───────────Rx(th_62)───────────────────────────\n",
      "                               │         │   │   │          │                          │                                                       │                                               │                                                   │   │           │                                                   │                        │         │   │   │           │                            │                                                          │                                               │                                                   │   │           │\n",
      "(0, 3): ───Rz(th_2)────────────X─────────X───@───@──────────@──────────────────────────X───────────────────────────────────────────────────────X───────────────────────────────────────────────X───Rx(th_16)───Rx(th_17)───Rx(th_18)───Rx(th_22)───@───@───────────@───────────Rz(th_28)───Rz(th_29)───Rz(th_33)───────X────────────────────────X─────────X───@───@───────────@────────────────────────────X──────────────────────────────────────────────────────────X───────────────────────────────────────────────X───Rx(th_47)───Rx(th_48)───Rx(th_49)───Rx(th_53)───@───@───────────@───────────Rz(th_59)───Rz(th_60)───Rz(th_61)───\n",
      "                              └──┘                              └─────────┘   └─────────┘                                            └──────────┘                           └──────────┘                                                                                                                                                       └──┘                               └──────────┘   └──────────┘                                               └──────────┘                           └──────────┘\n"
     ]
    }
   ],
   "source": [
    "mdif = max_diff(translator , circuit_db, simplified_db)\n",
    "print(\"\\n\")\n",
    "print(mdif)\n",
    "print(c)\n",
    "print()\n",
    "print(ss)"
   ]
  },
  {
   "cell_type": "code",
   "execution_count": 36,
   "id": "eleven-master",
   "metadata": {},
   "outputs": [
    {
     "data": {
      "text/plain": [
       "{0}"
      ]
     },
     "execution_count": 36,
     "metadata": {},
     "output_type": "execute_result"
    }
   ],
   "source": [
    "set(simplified_db[\"block_id\"])"
   ]
  },
  {
   "cell_type": "code",
   "execution_count": null,
   "id": "greek-harvest",
   "metadata": {},
   "outputs": [],
   "source": []
  }
 ],
 "metadata": {
  "kernelspec": {
   "display_name": "Python 3",
   "language": "python",
   "name": "python3"
  },
  "language_info": {
   "codemirror_mode": {
    "name": "ipython",
    "version": 3
   },
   "file_extension": ".py",
   "mimetype": "text/x-python",
   "name": "python",
   "nbconvert_exporter": "python",
   "pygments_lexer": "ipython3",
   "version": "3.6.9"
  }
 },
 "nbformat": 4,
 "nbformat_minor": 5
}
