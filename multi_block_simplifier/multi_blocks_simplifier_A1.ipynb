{
 "cells": [
  {
   "cell_type": "markdown",
   "id": "israeli-cathedral",
   "metadata": {},
   "source": [
    "In this notebook we give a proof of concept of unitary compiling using TFQ. "
   ]
  },
  {
   "cell_type": "code",
   "execution_count": 1,
   "id": "cleared-explorer",
   "metadata": {},
   "outputs": [],
   "source": [
    "%load_ext autoreload\n",
    "%autoreload 2\n",
    "\n",
    "import sympy \n",
    "import numpy as np \n",
    "import pandas as pd \n",
    "import tensorflow as tf\n",
    "from utilities.circuit_database import CirqTranslater\n",
    "from utilities.templates import *\n",
    "from utilities.variational import Minimizer\n",
    "import matplotlib.pyplot as plt \n",
    "import tensorflow_quantum as tfq\n",
    "import cirq\n",
    "from utilities.compiling import *\n",
    "from utilities.misc import *\n",
    "from utilities.simplifier import Simplifier\n",
    "from utilities.discrimination import *\n",
    "from utilities.idinserter import IdInserter\n",
    "from utilities.evaluator import Evaluator\n",
    "from utilities.gate_killer import GateKiller\n",
    "from ast import literal_eval\n"
   ]
  },
  {
   "cell_type": "code",
   "execution_count": 2,
   "id": "coastal-dividend",
   "metadata": {},
   "outputs": [],
   "source": []
  },
  {
   "cell_type": "code",
   "execution_count": 3,
   "id": "nominated-collectible",
   "metadata": {
    "scrolled": true
   },
   "outputs": [
    {
     "name": "stdout",
     "output_type": "stream",
     "text": [
      "simplified using  <bound method Simplifier.rule_4 of <utilities.simplifier.Simplifier object at 0x7ff49c158da0>>\n",
      "simplified using  <bound method Simplifier.rule_4 of <utilities.simplifier.Simplifier object at 0x7ff49c158da0>>\n",
      "simplified using  <bound method Simplifier.rule_4 of <utilities.simplifier.Simplifier object at 0x7ff49c158da0>>\n",
      "simplified using  <bound method Simplifier.rule_4 of <utilities.simplifier.Simplifier object at 0x7ff49c158da0>>\n",
      "simplified using  <bound method Simplifier.rule_4 of <utilities.simplifier.Simplifier object at 0x7ff49c158da0>>\n",
      "simplified using  <bound method Simplifier.rule_4 of <utilities.simplifier.Simplifier object at 0x7ff49c158da0>>\n",
      "simplified using  <bound method Simplifier.rule_4 of <utilities.simplifier.Simplifier object at 0x7ff49c158da0>>\n",
      "simplified using  <bound method Simplifier.rule_4 of <utilities.simplifier.Simplifier object at 0x7ff49c158da0>>\n",
      "simplified using  <bound method Simplifier.rule_6 of <utilities.simplifier.Simplifier object at 0x7ff49c158da0>>\n",
      "simplified using  <bound method Simplifier.rule_6 of <utilities.simplifier.Simplifier object at 0x7ff49c158da0>>\n",
      "simplified using  <bound method Simplifier.rule_6 of <utilities.simplifier.Simplifier object at 0x7ff49c158da0>>\n",
      "simplified using  <bound method Simplifier.rule_6 of <utilities.simplifier.Simplifier object at 0x7ff49c158da0>>\n",
      "simplified using  <bound method Simplifier.rule_6 of <utilities.simplifier.Simplifier object at 0x7ff49c158da0>>\n",
      "simplified using  <bound method Simplifier.rule_6 of <utilities.simplifier.Simplifier object at 0x7ff49c158da0>>\n",
      "simplified using  <bound method Simplifier.rule_6 of <utilities.simplifier.Simplifier object at 0x7ff49c158da0>>\n",
      "simplified using  <bound method Simplifier.rule_6 of <utilities.simplifier.Simplifier object at 0x7ff49c158da0>>\n",
      "simplified using  <bound method Simplifier.rule_6 of <utilities.simplifier.Simplifier object at 0x7ff49c158da0>>\n",
      "simplified using  <bound method Simplifier.rule_6 of <utilities.simplifier.Simplifier object at 0x7ff49c158da0>>\n",
      "simplified using  <bound method Simplifier.rule_6 of <utilities.simplifier.Simplifier object at 0x7ff49c158da0>>\n",
      "simplified using  <bound method Simplifier.rule_6 of <utilities.simplifier.Simplifier object at 0x7ff49c158da0>>\n",
      "simplified using  <bound method Simplifier.rule_6 of <utilities.simplifier.Simplifier object at 0x7ff49c158da0>>\n",
      "simplified using  <bound method Simplifier.rule_6 of <utilities.simplifier.Simplifier object at 0x7ff49c158da0>>\n",
      "simplified using  <bound method Simplifier.rule_6 of <utilities.simplifier.Simplifier object at 0x7ff49c158da0>>\n",
      "simplified using  <bound method Simplifier.rule_6 of <utilities.simplifier.Simplifier object at 0x7ff49c158da0>>\n",
      "simplified using  <bound method Simplifier.rule_6 of <utilities.simplifier.Simplifier object at 0x7ff49c158da0>>\n",
      "simplified using  <bound method Simplifier.rule_6 of <utilities.simplifier.Simplifier object at 0x7ff49c158da0>>\n",
      "simplified using  <bound method Simplifier.rule_6 of <utilities.simplifier.Simplifier object at 0x7ff49c158da0>>\n",
      "simplified using  <bound method Simplifier.rule_6 of <utilities.simplifier.Simplifier object at 0x7ff49c158da0>>\n",
      "simplified using  <bound method Simplifier.rule_6 of <utilities.simplifier.Simplifier object at 0x7ff49c158da0>>\n",
      "simplified using  <bound method Simplifier.rule_6 of <utilities.simplifier.Simplifier object at 0x7ff49c158da0>>\n",
      "simplified using  <bound method Simplifier.rule_6 of <utilities.simplifier.Simplifier object at 0x7ff49c158da0>>\n",
      "simplified using  <bound method Simplifier.rule_6 of <utilities.simplifier.Simplifier object at 0x7ff49c158da0>>\n",
      "simplified using  <bound method Simplifier.rule_6 of <utilities.simplifier.Simplifier object at 0x7ff49c158da0>>\n",
      "simplified using  <bound method Simplifier.rule_6 of <utilities.simplifier.Simplifier object at 0x7ff49c158da0>>\n",
      "simplified using  <bound method Simplifier.rule_6 of <utilities.simplifier.Simplifier object at 0x7ff49c158da0>>\n",
      "simplified using  <bound method Simplifier.rule_6 of <utilities.simplifier.Simplifier object at 0x7ff49c158da0>>\n",
      "simplified using  <bound method Simplifier.rule_6 of <utilities.simplifier.Simplifier object at 0x7ff49c158da0>>\n",
      "simplified using  <bound method Simplifier.rule_1 of <utilities.simplifier.Simplifier object at 0x7ff49c158da0>>\n",
      "simplified using  <bound method Simplifier.rule_1 of <utilities.simplifier.Simplifier object at 0x7ff49c158da0>>\n",
      "simplified using  <bound method Simplifier.rule_1 of <utilities.simplifier.Simplifier object at 0x7ff49c158da0>>\n",
      "simplified using  <bound method Simplifier.rule_4 of <utilities.simplifier.Simplifier object at 0x7ff49c158da0>>\n",
      "simplified using  <bound method Simplifier.rule_4 of <utilities.simplifier.Simplifier object at 0x7ff49c158da0>>\n",
      "simplified using  <bound method Simplifier.rule_4 of <utilities.simplifier.Simplifier object at 0x7ff49c158da0>>\n",
      "simplified using  <bound method Simplifier.rule_4 of <utilities.simplifier.Simplifier object at 0x7ff49c158da0>>\n",
      "simplified using  <bound method Simplifier.rule_4 of <utilities.simplifier.Simplifier object at 0x7ff49c158da0>>\n",
      "simplified using  <bound method Simplifier.rule_4 of <utilities.simplifier.Simplifier object at 0x7ff49c158da0>>\n",
      "simplified using  <bound method Simplifier.rule_4 of <utilities.simplifier.Simplifier object at 0x7ff49c158da0>>\n",
      "simplified using  <bound method Simplifier.rule_4 of <utilities.simplifier.Simplifier object at 0x7ff49c158da0>>\n",
      "simplified using  <bound method Simplifier.rule_4 of <utilities.simplifier.Simplifier object at 0x7ff49c158da0>>\n",
      "simplified using  <bound method Simplifier.rule_4 of <utilities.simplifier.Simplifier object at 0x7ff49c158da0>>\n",
      "simplified using  <bound method Simplifier.rule_4 of <utilities.simplifier.Simplifier object at 0x7ff49c158da0>>\n",
      "simplified using  <bound method Simplifier.rule_4 of <utilities.simplifier.Simplifier object at 0x7ff49c158da0>>\n",
      "simplified using  <bound method Simplifier.rule_4 of <utilities.simplifier.Simplifier object at 0x7ff49c158da0>>\n",
      "simplified using  <bound method Simplifier.rule_4 of <utilities.simplifier.Simplifier object at 0x7ff49c158da0>>\n",
      "simplified using  <bound method Simplifier.rule_4 of <utilities.simplifier.Simplifier object at 0x7ff49c158da0>>\n",
      "simplified using  <bound method Simplifier.rule_4 of <utilities.simplifier.Simplifier object at 0x7ff49c158da0>>\n",
      "simplified using  <bound method Simplifier.rule_4 of <utilities.simplifier.Simplifier object at 0x7ff49c158da0>>\n",
      "simplified using  <bound method Simplifier.rule_6 of <utilities.simplifier.Simplifier object at 0x7ff49c158da0>>\n",
      "simplified using  <bound method Simplifier.rule_6 of <utilities.simplifier.Simplifier object at 0x7ff49c158da0>>\n",
      "simplified using  <bound method Simplifier.rule_6 of <utilities.simplifier.Simplifier object at 0x7ff49c158da0>>\n",
      "simplified using  <bound method Simplifier.rule_6 of <utilities.simplifier.Simplifier object at 0x7ff49c158da0>>\n",
      "simplified using  <bound method Simplifier.rule_6 of <utilities.simplifier.Simplifier object at 0x7ff49c158da0>>\n",
      "simplified using  <bound method Simplifier.rule_6 of <utilities.simplifier.Simplifier object at 0x7ff49c158da0>>\n",
      "simplified using  <bound method Simplifier.rule_6 of <utilities.simplifier.Simplifier object at 0x7ff49c158da0>>\n",
      "simplified using  <bound method Simplifier.rule_6 of <utilities.simplifier.Simplifier object at 0x7ff49c158da0>>\n",
      "simplified using  <bound method Simplifier.rule_6 of <utilities.simplifier.Simplifier object at 0x7ff49c158da0>>\n",
      "simplified using  <bound method Simplifier.rule_6 of <utilities.simplifier.Simplifier object at 0x7ff49c158da0>>\n",
      "simplified using  <bound method Simplifier.rule_6 of <utilities.simplifier.Simplifier object at 0x7ff49c158da0>>\n",
      "simplified using  <bound method Simplifier.rule_6 of <utilities.simplifier.Simplifier object at 0x7ff49c158da0>>\n",
      "simplified using  <bound method Simplifier.rule_6 of <utilities.simplifier.Simplifier object at 0x7ff49c158da0>>\n",
      "simplified using  <bound method Simplifier.rule_6 of <utilities.simplifier.Simplifier object at 0x7ff49c158da0>>\n",
      "simplified using  <bound method Simplifier.rule_6 of <utilities.simplifier.Simplifier object at 0x7ff49c158da0>>\n",
      "simplified using  <bound method Simplifier.rule_6 of <utilities.simplifier.Simplifier object at 0x7ff49c158da0>>\n",
      "simplified using  <bound method Simplifier.rule_6 of <utilities.simplifier.Simplifier object at 0x7ff49c158da0>>\n",
      "simplified using  <bound method Simplifier.rule_6 of <utilities.simplifier.Simplifier object at 0x7ff49c158da0>>\n"
     ]
    },
    {
     "name": "stdout",
     "output_type": "stream",
     "text": [
      "simplified using  <bound method Simplifier.rule_6 of <utilities.simplifier.Simplifier object at 0x7ff49c158da0>>\n",
      "simplified using  <bound method Simplifier.rule_6 of <utilities.simplifier.Simplifier object at 0x7ff49c158da0>>\n",
      "simplified using  <bound method Simplifier.rule_6 of <utilities.simplifier.Simplifier object at 0x7ff49c158da0>>\n",
      "simplified using  <bound method Simplifier.rule_6 of <utilities.simplifier.Simplifier object at 0x7ff49c158da0>>\n",
      "simplified using  <bound method Simplifier.rule_6 of <utilities.simplifier.Simplifier object at 0x7ff49c158da0>>\n",
      "simplified using  <bound method Simplifier.rule_6 of <utilities.simplifier.Simplifier object at 0x7ff49c158da0>>\n",
      "simplified using  <bound method Simplifier.rule_6 of <utilities.simplifier.Simplifier object at 0x7ff49c158da0>>\n",
      "simplified using  <bound method Simplifier.rule_6 of <utilities.simplifier.Simplifier object at 0x7ff49c158da0>>\n",
      "simplified using  <bound method Simplifier.rule_6 of <utilities.simplifier.Simplifier object at 0x7ff49c158da0>>\n",
      "simplified using  <bound method Simplifier.rule_6 of <utilities.simplifier.Simplifier object at 0x7ff49c158da0>>\n",
      "simplified using  <bound method Simplifier.rule_6 of <utilities.simplifier.Simplifier object at 0x7ff49c158da0>>\n",
      "simplified using  <bound method Simplifier.rule_6 of <utilities.simplifier.Simplifier object at 0x7ff49c158da0>>\n",
      "simplified using  <bound method Simplifier.rule_6 of <utilities.simplifier.Simplifier object at 0x7ff49c158da0>>\n",
      "simplified using  <bound method Simplifier.rule_6 of <utilities.simplifier.Simplifier object at 0x7ff49c158da0>>\n",
      "simplified using  <bound method Simplifier.rule_6 of <utilities.simplifier.Simplifier object at 0x7ff49c158da0>>\n",
      "simplified using  <bound method Simplifier.rule_6 of <utilities.simplifier.Simplifier object at 0x7ff49c158da0>>\n",
      "simplified using  <bound method Simplifier.rule_6 of <utilities.simplifier.Simplifier object at 0x7ff49c158da0>>\n",
      "simplified using  <bound method Simplifier.rule_6 of <utilities.simplifier.Simplifier object at 0x7ff49c158da0>>\n",
      "simplified using  <bound method Simplifier.rule_6 of <utilities.simplifier.Simplifier object at 0x7ff49c158da0>>\n",
      "simplified using  <bound method Simplifier.rule_6 of <utilities.simplifier.Simplifier object at 0x7ff49c158da0>>\n",
      "simplified using  <bound method Simplifier.rule_6 of <utilities.simplifier.Simplifier object at 0x7ff49c158da0>>\n",
      "simplified using  <bound method Simplifier.rule_6 of <utilities.simplifier.Simplifier object at 0x7ff49c158da0>>\n",
      "simplified using  <bound method Simplifier.rule_6 of <utilities.simplifier.Simplifier object at 0x7ff49c158da0>>\n",
      "simplified using  <bound method Simplifier.rule_6 of <utilities.simplifier.Simplifier object at 0x7ff49c158da0>>\n",
      "simplified using  <bound method Simplifier.rule_6 of <utilities.simplifier.Simplifier object at 0x7ff49c158da0>>\n",
      "simplified using  <bound method Simplifier.rule_6 of <utilities.simplifier.Simplifier object at 0x7ff49c158da0>>\n",
      "simplified using  <bound method Simplifier.rule_6 of <utilities.simplifier.Simplifier object at 0x7ff49c158da0>>\n",
      "simplified using  <bound method Simplifier.rule_6 of <utilities.simplifier.Simplifier object at 0x7ff49c158da0>>\n",
      "simplified using  <bound method Simplifier.rule_6 of <utilities.simplifier.Simplifier object at 0x7ff49c158da0>>\n",
      "simplified using  <bound method Simplifier.rule_6 of <utilities.simplifier.Simplifier object at 0x7ff49c158da0>>\n",
      "simplified using  <bound method Simplifier.rule_6 of <utilities.simplifier.Simplifier object at 0x7ff49c158da0>>\n",
      "simplified using  <bound method Simplifier.rule_6 of <utilities.simplifier.Simplifier object at 0x7ff49c158da0>>\n",
      "simplified using  <bound method Simplifier.rule_6 of <utilities.simplifier.Simplifier object at 0x7ff49c158da0>>\n",
      "simplified using  <bound method Simplifier.rule_6 of <utilities.simplifier.Simplifier object at 0x7ff49c158da0>>\n",
      "simplified using  <bound method Simplifier.rule_6 of <utilities.simplifier.Simplifier object at 0x7ff49c158da0>>\n",
      "simplified using  <bound method Simplifier.rule_6 of <utilities.simplifier.Simplifier object at 0x7ff49c158da0>>\n",
      "simplified using  <bound method Simplifier.rule_6 of <utilities.simplifier.Simplifier object at 0x7ff49c158da0>>\n",
      "simplified using  <bound method Simplifier.rule_6 of <utilities.simplifier.Simplifier object at 0x7ff49c158da0>>\n",
      "simplified using  <bound method Simplifier.rule_6 of <utilities.simplifier.Simplifier object at 0x7ff49c158da0>>\n",
      "simplified using  <bound method Simplifier.rule_6 of <utilities.simplifier.Simplifier object at 0x7ff49c158da0>>\n"
     ]
    }
   ],
   "source": [
    "np.random.seed(0)\n",
    "translator = CirqTranslater(4, untouchable_blocks = [1])\n",
    "\n",
    "translator.env_qubits = [2]\n",
    "\n",
    "simplifier = Simplifier(translator)\n",
    "etas = [0.01, 1.]\n",
    "minimizer = Minimizer(translator, mode=\"discrimination\", params=etas)\n",
    "\n",
    "q = 0\n",
    "other_qs = list(range(translator.n_qubits))\n",
    "other_qs.remove(q)\n",
    "indds = [translator.cnots_index[str([q,k])] for k in other_qs]\n",
    "cdb = pd.DataFrame([gate_template(i) for i in indds])\n",
    "\n",
    "circuit_db = concatenate_dbs([z_layer_db(translator), cdb])\n",
    "\n",
    "for q in range(1, translator.n_qubits):\n",
    "    other_qs = list(range(translator.n_qubits))\n",
    "    other_qs.remove(q)\n",
    "    indds = [translator.cnots_index[str([q,k])] for k in other_qs]\n",
    "    cdb = pd.DataFrame([gate_template(i) for i in indds])\n",
    "    circuit_db = concatenate_dbs([circuit_db ,cdb])\n",
    "\n",
    "c, circuit_db = translator.give_circuit(circuit_db)\n",
    "db1 = concatenate_dbs([x_layer_db(translator)]*3)\n",
    "\n",
    "circuit_db = concatenate_dbs([circuit_db, db1])\n",
    "c, circuit_db = translator.give_circuit(circuit_db)\n",
    "\n",
    "cdb = []\n",
    "for ind, qubits in list(translator.indexed_cnots.items()):\n",
    "    cdb.append(gate_template(int(ind), block_id=0))\n",
    "    con, tar = qubits\n",
    "    cdb.append(gate_template(int(con + translator.number_of_cnots), param_value = np.random.random()))\n",
    "    cdb.append(gate_template(int(tar + translator.number_of_cnots + translator.n_qubits), param_value = np.random.random()))\n",
    "c6_db = pd.DataFrame(cdb)\n",
    "circuit_db = concatenate_dbs([circuit_db, c6_db])\n",
    "\n",
    "c, circuit_db = translator.give_circuit(circuit_db)\n",
    "\n",
    "dd1  =circuit_db.copy()\n",
    "dd1[\"block_id\"] = 1\n",
    "dd1[\"symbol\"] = None\n",
    "circuit_db = concatenate_dbs([circuit_db, dd1])\n",
    "c, circuit_db = translator.give_circuit(circuit_db)\n",
    "\n",
    "\n",
    "dd1  =circuit_db.copy()\n",
    "dd1[\"block_id\"] = 2\n",
    "dd1[\"symbol\"] = None\n",
    "circuit_db = concatenate_dbs([circuit_db, dd1])\n",
    "c, circuit_db = translator.give_circuit(circuit_db)\n",
    "\n",
    "\n",
    "simplifier = Simplifier(translator, apply_relatives_to_first = True)\n",
    "simplifier.apply_relatives_to_first = True\n",
    "simplifier.relative_rules = [simplifier.rule_1]\n",
    "simplified_db, ns = simplifier.reduce_circuit(circuit_db)\n",
    "ss, simplified_db = translator.give_circuit(simplified_db)"
   ]
  },
  {
   "cell_type": "code",
   "execution_count": 4,
   "id": "imported-stevens",
   "metadata": {},
   "outputs": [
    {
     "name": "stdout",
     "output_type": "stream",
     "text": [
      "\n",
      "\n",
      "6.579886408580703e-16\n",
      "                                          ┌──┐                                                                                                                                                     ┌──┐                                                                                                                                           ┌──┐                                                                                                                                                       ┌──┐                                                                                                                                           ┌──┐                                                                                                                                                          ┌──┐                                                                                                                                                    ┌──┐                                                                                                                                                                 ┌──┐\n",
      "(0, 0): ───Rz(th_0)───@───@───@───X─────────X────────────X───Rx(th_4)───Rx(th_8)───Rx(th_12)───────────────@───────────Rz(th_16)───@───Rz(th_18)───@───Rz(th_20)───X───Rx(th_23)─────────────────────X────Rx(th_29)───────────────────────────────────X───Rx(th_35)───Rz(th_40)───────────────────────────@───────────────────────@───@───X─────────X────────────X───Rx(th_44)───Rx(th_48)───Rx(th_52)───────────────@───────────Rz(th_56)───@───Rz(th_58)───@───Rz(th_60)───X───Rx(th_63)─────────────────────X────Rx(th_69)───────────────────────────────────X───Rx(th_75)───Rz(th_80)───────────────────────────@───────────────────────@───@───X─────────X────────────X───Rx(th_84)───Rx(th_88)───Rx(th_92)───────────────@───────────Rz(th_96)───@───Rz(th_98)───@───Rz(th_100)───X───Rx(th_103)──────────────────────X────Rx(th_109)─────────────────────────────────────X───Rx(th_115)───Rz(th_120)─────────────────────────────@─────────────────────────@───@───X─────────X────────────X───Rx(th_124)───Rx(th_128)───Rx(th_132)────────────────@────────────Rz(th_136)───@───Rz(th_138)───@───Rz(th_140)───X───Rx(th_143)──────────────────────X────Rx(th_149)─────────────────────────────────────X───Rx(th_155)─────────────────────────────────────\n",
      "                      │   │   │   │         │            │                                                 │                       │               │               │                                 │                                                │                                                   │                       │   │   │         │            │                                                   │                       │               │               │                                 │                                                │                                                   │                       │   │   │         │            │                                                   │                       │               │                │                                   │                                                   │                                                       │                         │   │   │         │            │                                                       │                         │                │                │                                   │                                                   │\n",
      "(0, 1): ───Rz(th_1)───X───┼───┼───@───@────@┼────X───────┼───X──────────Rx(th_5)───Rx(th_9)────Rx(th_13)───X───────────Rx(th_17)───┼───────────────┼───────────────@───Rz(th_22)───@───Rz(th_24)────@┼────Rz(th_26)───X───Rx(th_31)───────────────────┼───────────────X───────────Rx(th_37)───Rz(th_41)───X───────────────────────┼───┼───@───@────@┼────X───────┼───X───────────Rx(th_45)───Rx(th_49)───Rx(th_53)───X───────────Rx(th_57)───┼───────────────┼───────────────@───Rz(th_62)───@───Rz(th_64)────@┼────Rz(th_66)───X───Rx(th_71)───────────────────┼───────────────X───────────Rx(th_77)───Rz(th_81)───X───────────────────────┼───┼───@───@────@┼────X───────┼───X───────────Rx(th_85)───Rx(th_89)───Rx(th_93)───X───────────Rx(th_97)───┼───────────────┼────────────────@───Rz(th_102)───@───Rz(th_104)────@┼────Rz(th_106)───X───Rx(th_111)────────────────────┼────────────────X────────────Rx(th_117)───Rz(th_121)───X─────────────────────────┼───┼───@───@────@┼────X───────┼───X────────────Rx(th_125)───Rx(th_129)───Rx(th_133)───X────────────Rx(th_137)───┼────────────────┼────────────────@───Rz(th_142)───@───Rz(th_144)────@┼────Rz(th_146)───X───Rx(th_151)────────────────────┼────────────────X───Rx(th_157)────────────────────\n",
      "                          │   │       │    ││    │       │   │                                                                     │               │                               │                ││                │                               │               │                                                           │   │       │    ││    │       │   │                                                                       │               │                               │                ││                │                               │               │                                                           │   │       │    ││    │       │   │                                                                       │               │                                 │                 ││                 │                                 │                │                                                                │   │       │    ││    │       │   │                                                                             │                │                                 │                 ││                 │                                 │                │\n",
      "(0, 2): ───Rz(th_2)───────X───┼───────X────┼@────@───@───┼───┼──────────X──────────Rx(th_6)────Rx(th_10)───Rx(th_14)───────────────X───Rx(th_19)───┼───────────────────────────────X───Rx(th_25)────┼@────Rz(th_28)───@───Rz(th_30)───@───Rz(th_32)───┼───────────────┼───────────────────────X───────────Rx(th_39)───Rz(th_42)───X───┼───────X────┼@────@───@───┼───┼───────────X───────────Rx(th_46)───Rx(th_50)───Rx(th_54)───────────────X───Rx(th_59)───┼───────────────────────────────X───Rx(th_65)────┼@────Rz(th_68)───@───Rz(th_70)───@───Rz(th_72)───┼───────────────┼───────────────────────X───────────Rx(th_79)───Rz(th_82)───X───┼───────X────┼@────@───@───┼───┼───────────X───────────Rx(th_86)───Rx(th_90)───Rx(th_94)───────────────X───Rx(th_99)───┼─────────────────────────────────X───Rx(th_105)────┼@────Rz(th_108)───@───Rz(th_110)───@───Rz(th_112)───┼────────────────┼─────────────────────────X────────────Rx(th_119)───Rz(th_122)───X───┼───────X────┼@────@───@───┼───┼────────────X────────────Rx(th_126)───Rx(th_130)───Rx(th_134)────────────────X───Rx(th_139)───┼─────────────────────────────────X───Rx(th_145)────┼@────Rz(th_148)───@───Rz(th_150)───@───Rz(th_152)───┼────────────────┼────────────────X───Rx(th_159)───\n",
      "                              │            │         │   │   │          │                                                                          │                                                │                                 │               │               │                       │                                       │            │         │   │   │           │                                                                           │                                                │                                 │               │               │                       │                                       │            │         │   │   │           │                                                                           │                                                   │                                   │                │                │                         │                                          │            │         │   │   │            │                                                                                 │                                                   │                                   │                │                │                │\n",
      "(0, 3): ───Rz(th_3)───────────X────────────X─────────X───@───@──────────@──────────Rx(th_7)────Rx(th_11)───Rx(th_15)───────────────────────────────X───Rx(th_21)────────────────────────────────────X─────Rx(th_27)───────────────────X───Rx(th_33)───@───Rz(th_34)───@───────────Rz(th_36)───@───────────Rz(th_38)───Rz(th_43)───────X────────────X─────────X───@───@───────────@───────────Rx(th_47)───Rx(th_51)───Rx(th_55)───────────────────────────────X───Rx(th_61)────────────────────────────────────X─────Rx(th_67)───────────────────X───Rx(th_73)───@───Rz(th_74)───@───────────Rz(th_76)───@───────────Rz(th_78)───Rz(th_83)───────X────────────X─────────X───@───@───────────@───────────Rx(th_87)───Rx(th_91)───Rx(th_95)───────────────────────────────X───Rx(th_101)──────────────────────────────────────X─────Rx(th_107)────────────────────X───Rx(th_113)───@───Rz(th_114)───@────────────Rz(th_116)───@────────────Rz(th_118)───Rz(th_123)───────X────────────X─────────X───@───@────────────@────────────Rx(th_127)───Rx(th_131)───Rx(th_135)─────────────────────────────────X───Rx(th_141)──────────────────────────────────────X─────Rx(th_147)────────────────────X───Rx(th_153)───@───Rz(th_154)───@───Rz(th_156)───@───Rz(th_158)───\n",
      "                                          └──┘                                                                                                                                                     └──┘                                                                                                                                           └──┘                                                                                                                                                       └──┘                                                                                                                                           └──┘                                                                                                                                                          └──┘                                                                                                                                                    └──┘                                                                                                                                                                 └──┘\n",
      "\n"
     ]
    },
    {
     "name": "stdout",
     "output_type": "stream",
     "text": [
      "                              ┌──┐                              ┌─────────┐   ┌─────────┐                                            ┌──────────┐                           ┌──────────┐                                                                                                                                                   ┌──┐                                                                                                                                                       ┌──┐                                                                                                                                               ┌──┐                               ┌──────────┐   ┌──────────┐                                               ┌──────────┐                           ┌──────────┐                                                                                                                                                           ┌──┐                                ┌───────────┐   ┌───────────┐                                                  ┌───────────┐                             ┌───────────┐\n",
      "(0, 0): ───Rz(th_3)───X─────────X────────────X───Rx(th_4)───@────────────@─────────────@────Rz(th_7)───Rz(th_8)───Rz(th_9)───X────────────────────────────────────────────────────────X────────────────────────────────────────────────────────────X───Rx(th_23)───Rx(th_24)───Rx(th_25)───Rz(th_32)───@───────────@───────────@───X─────────X────────────X───Rx(th_36)───Rx(th_40)───Rx(th_44)───────────────@───────────Rz(th_48)───@───Rz(th_50)───@───Rz(th_52)───X───Rx(th_55)─────────────────────X────Rx(th_61)───────────────────────────────────X───Rx(th_67)───────────────────────────────@───────────────────────@───@───Rz(th_75)───X─────────X────────────X───Rx(th_76)───@─────────────@──────────────@────Rz(th_79)───Rz(th_80)───Rz(th_81)───X────────────────────────────────────────────────────────X────────────────────────────────────────────────────────────X───Rx(th_95)───Rx(th_96)───Rx(th_97)─────────────────@────────────@───@───Rz(th_106)───X─────────X────────────X───Rx(th_107)───@──────────────@───────────────@────Rz(th_110)───Rz(th_111)───Rz(th_112)───X────────────────────────────────────────────────────────────X────────────────────────────────────────────────────────────────X───Rx(th_126)───Rx(th_127)───Rx(th_128)─────────────────────────────\n",
      "                      │         │            │              │            │             │                                     │                                                        │                                                            │                                                   │           │           │   │         │            │                                                   │                       │               │               │                                 │                                                │                                           │                       │   │               │         │            │               │             │              │                                        │                                                        │                                                            │                                                     │            │   │                │         │            │                │              │               │                                           │                                                            │                                                                │\n",
      "(0, 1): ───Rz(th_0)───@───@────@┼────X───────┼───X──────────X────Rx(th_5)┼─────Rx(th_6)┼─────────────────────────────────────@───@─────────────@────Rz(th_13)───Rz(th_14)────Rz(th_15)┼────X───────────────────────────────────────────────────────┼───X───────────Rx(th_26)───Rx(th_27)───Rz(th_33)───X───────────┼───────────┼───@───@────@┼────X───────┼───X───────────Rx(th_37)───Rx(th_41)───Rx(th_45)───X───────────Rx(th_49)───┼───────────────┼───────────────@───Rz(th_54)───@───Rz(th_56)────@┼────Rz(th_58)───X───Rx(th_63)───────────────────┼───────────────X───Rx(th_69)───Rz(th_72)───X───────────────────────┼───┼───────────────@───@────@┼────X───────┼───X───────────X────Rx(th_77)┼─────Rx(th_78)┼────────────────────────────────────────@───@─────────────@────Rz(th_85)───Rz(th_86)────Rz(th_87)┼────X───────────────────────────────────────────────────────┼───X───────────Rx(th_98)───Rx(th_99)────Rz(th_103)───X────────────┼───┼────────────────@───@────@┼────X───────┼───X────────────X────Rx(th_108)┼─────Rx(th_109)┼───────────────────────────────────────────@───@──────────────@────Rz(th_116)───Rz(th_117)────Rz(th_118)┼────X───────────────────────────────────────────────────────────┼───X────────────Rx(th_129)───Rx(th_130)─────────────────────────────\n",
      "                          │    ││    │       │   │                       │             │                                         │             │                                      │    │                                                       │   │                                                           │           │       │    ││    │       │   │                                                                       │               │                               │                ││                │                               │               │                                                   │   │                   │    ││    │       │   │                         │              │                                            │             │                                      │    │                                                       │   │                                                              │   │                    │    ││    │       │   │                           │               │                                               │              │                                         │    │                                                           │   │\n",
      "(0, 2): ───Rz(th_1)───────X────┼@────@───@───┼───┼──────────X────────────X─────────────┼─────────────────────────────────────────X────Rx(th_10)┼────Rx(th_11)───Rx(th_12)─────────────@────@───@───Rz(th_19)───Rz(th_20)───Rz(th_21)───────────────┼───┼───────────X───────────Rx(th_31)───Rz(th_34)───────────────X───────────┼───────X────┼@────@───@───┼───┼───────────X───────────Rx(th_38)───Rx(th_42)───Rx(th_46)───────────────X───Rx(th_51)───┼───────────────────────────────X───Rx(th_57)────┼@────Rz(th_60)───@───Rz(th_62)───@───Rz(th_64)───┼───────────────┼───────────────X───────────Rx(th_71)───Rz(th_73)───X───┼───────────────────X────┼@────@───@───┼───┼───────────X─────────────X──────────────┼────────────────────────────────────────────X────Rx(th_82)┼────Rx(th_83)───Rx(th_84)─────────────@────@───@───Rz(th_91)───Rz(th_92)───Rz(th_93)───────────────┼───┼───────────X───────────Rx(th_102)───Rz(th_104)────────────────X───┼────────────────────X────┼@────@───@───┼───┼────────────X──────────────X───────────────┼───────────────────────────────────────────────X────Rx(th_113)┼────Rx(th_114)───Rx(th_115)──────────────@────@───@───Rz(th_122)───Rz(th_123)───Rz(th_124)────────────────┼───┼────────────X────────────Rx(th_134)─────────────────────────────\n",
      "                               │         │   │   │          │                          │                                                       │                                               │                                                   │   │           │                                                           │            │         │   │   │           │                                                                           │                                                │                                 │               │               │               │                                       │                        │         │   │   │           │                            │                                                          │                                               │                                                   │   │           │                                                      │                         │         │   │   │            │                              │                                                              │                                                  │                                                       │   │            │\n",
      "(0, 3): ───Rz(th_2)────────────X─────────X───@───@──────────@──────────────────────────X───────────────────────────────────────────────────────X───────────────────────────────────────────────X───Rx(th_16)───Rx(th_17)───Rx(th_18)───Rx(th_22)───@───@───────────@───────────Rz(th_28)───Rz(th_29)───Rz(th_30)───Rz(th_35)───X────────────X─────────X───@───@───────────@───────────Rx(th_39)───Rx(th_43)───Rx(th_47)───────────────────────────────X───Rx(th_53)────────────────────────────────────X─────Rx(th_59)───────────────────X───Rx(th_65)───@───Rz(th_66)───@───Rz(th_68)───@───────────Rz(th_70)───Rz(th_74)───────X────────────────────────X─────────X───@───@───────────@────────────────────────────X──────────────────────────────────────────────────────────X───────────────────────────────────────────────X───Rx(th_88)───Rx(th_89)───Rx(th_90)───Rx(th_94)───@───@───────────@───────────Rz(th_100)───Rz(th_101)───Rz(th_105)───────X─────────────────────────X─────────X───@───@────────────@──────────────────────────────X──────────────────────────────────────────────────────────────X──────────────────────────────────────────────────X───Rx(th_119)───Rx(th_120)───Rx(th_121)───Rx(th_125)───@───@────────────@────────────Rz(th_131)───Rz(th_132)───Rz(th_133)───\n",
      "                              └──┘                              └─────────┘   └─────────┘                                            └──────────┘                           └──────────┘                                                                                                                                                   └──┘                                                                                                                                                       └──┘                                                                                                                                               └──┘                               └──────────┘   └──────────┘                                               └──────────┘                           └──────────┘                                                                                                                                                           └──┘                                └───────────┘   └───────────┘                                                  └───────────┘                             └───────────┘\n"
     ]
    }
   ],
   "source": [
    "mdif = max_diff(translator , circuit_db, simplified_db)\n",
    "print(\"\\n\")\n",
    "print(mdif)\n",
    "print(c)\n",
    "print()\n",
    "print(ss)"
   ]
  },
  {
   "cell_type": "code",
   "execution_count": 15,
   "id": "eleven-master",
   "metadata": {},
   "outputs": [
    {
     "data": {
      "text/plain": [
       "{0, 1}"
      ]
     },
     "execution_count": 15,
     "metadata": {},
     "output_type": "execute_result"
    }
   ],
   "source": [
    "set(simplified_db[\"block_id\"])"
   ]
  },
  {
   "cell_type": "code",
   "execution_count": 5,
   "id": "tough-auckland",
   "metadata": {},
   "outputs": [
    {
     "data": {
      "text/plain": [
       "228"
      ]
     },
     "execution_count": 5,
     "metadata": {},
     "output_type": "execute_result"
    }
   ],
   "source": [
    "len(simplified_db)"
   ]
  },
  {
   "cell_type": "code",
   "execution_count": 6,
   "id": "wired-europe",
   "metadata": {},
   "outputs": [
    {
     "data": {
      "text/plain": [
       "256"
      ]
     },
     "execution_count": 6,
     "metadata": {},
     "output_type": "execute_result"
    }
   ],
   "source": [
    "len(circuit_db)"
   ]
  },
  {
   "cell_type": "code",
   "execution_count": null,
   "id": "developmental-empire",
   "metadata": {},
   "outputs": [],
   "source": []
  }
 ],
 "metadata": {
  "kernelspec": {
   "display_name": "Python 3",
   "language": "python",
   "name": "python3"
  },
  "language_info": {
   "codemirror_mode": {
    "name": "ipython",
    "version": 3
   },
   "file_extension": ".py",
   "mimetype": "text/x-python",
   "name": "python",
   "nbconvert_exporter": "python",
   "pygments_lexer": "ipython3",
   "version": "3.6.9"
  }
 },
 "nbformat": 4,
 "nbformat_minor": 5
}
