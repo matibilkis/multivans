{
 "cells": [
  {
   "cell_type": "markdown",
   "id": "israeli-cathedral",
   "metadata": {},
   "source": [
    "In this notebook we give a proof of concept of unitary compiling using TFQ. "
   ]
  },
  {
   "cell_type": "code",
   "execution_count": 37,
   "id": "cleared-explorer",
   "metadata": {},
   "outputs": [
    {
     "name": "stdout",
     "output_type": "stream",
     "text": [
      "The autoreload extension is already loaded. To reload it, use:\n",
      "  %reload_ext autoreload\n"
     ]
    }
   ],
   "source": [
    "%load_ext autoreload\n",
    "%autoreload 2\n",
    "\n",
    "import sympy \n",
    "import numpy as np \n",
    "import pandas as pd \n",
    "import tensorflow as tf\n",
    "from utilities.circuit_database import CirqTranslater\n",
    "from utilities.templates import *\n",
    "from utilities.variational import Minimizer\n",
    "import matplotlib.pyplot as plt \n",
    "import tensorflow_quantum as tfq\n",
    "import cirq\n",
    "from utilities.compiling import *\n",
    "from utilities.misc import *\n",
    "from utilities.simplifier import Simplifier\n",
    "from utilities.discrimination import *\n",
    "from utilities.idinserter import IdInserter\n",
    "from utilities.evaluator import Evaluator\n",
    "from utilities.gate_killer import GateKiller\n",
    "from ast import literal_eval\n"
   ]
  },
  {
   "cell_type": "code",
   "execution_count": 38,
   "id": "impressed-pakistan",
   "metadata": {},
   "outputs": [],
   "source": [
    "translator = CirqTranslater(4, untouchable_blocks = [1,0])\n",
    "inserter = IdInserter(translator.n_qubits, untouchable_blocks=translator.untouchable_blocks)\n",
    "\n",
    "simplifier = Simplifier(translator)\n",
    "etas = [0.01, 1.]\n",
    "minimizer = Minimizer(translator, mode=\"discrimination\", params=etas)\n"
   ]
  },
  {
   "cell_type": "code",
   "execution_count": 41,
   "id": "crude-bargain",
   "metadata": {},
   "outputs": [],
   "source": [
    "circuit_db = concatenate_dbs([u2_layer(translator, block_id=k) for k in range(3)])\n",
    "circuit, circuit_db = translator.give_circuit(circuit_db)"
   ]
  },
  {
   "cell_type": "code",
   "execution_count": 42,
   "id": "direct-activity",
   "metadata": {},
   "outputs": [],
   "source": [
    "mutated_db = inserter.mutate(circuit_db, mutation_rate = 2)\n",
    "#ns = np.array(list(mutated_db[\"symbol\"].dropna().apply(lambda x: int(x.replace(\"th_\",\"\")))))\n",
    "#plt.hist(ns, bins=len(ns))"
   ]
  },
  {
   "cell_type": "code",
   "execution_count": 43,
   "id": "indonesian-integration",
   "metadata": {},
   "outputs": [],
   "source": [
    "mcircuit, mcircuit_db = translator.give_circuit(mutated_db)"
   ]
  },
  {
   "cell_type": "code",
   "execution_count": 52,
   "id": "useful-talent",
   "metadata": {},
   "outputs": [],
   "source": [
    "check_symbols_ordered(mcircuit_db)\n",
    "def repeated_symbols(mcircuit):\n",
    "    ll=list(mcircuit[\"symbol\"].dropna())\n",
    "    return len(ll) != len(set(ll))"
   ]
  },
  {
   "cell_type": "code",
   "execution_count": 53,
   "id": "pretty-fitness",
   "metadata": {},
   "outputs": [
    {
     "data": {
      "text/plain": [
       "False"
      ]
     },
     "execution_count": 53,
     "metadata": {},
     "output_type": "execute_result"
    }
   ],
   "source": [
    "repeated_symbols(mcircuit_db)"
   ]
  },
  {
   "cell_type": "code",
   "execution_count": 33,
   "id": "convertible-report",
   "metadata": {},
   "outputs": [
    {
     "name": "stdout",
     "output_type": "stream",
     "text": [
      "simplified using  <bound method Simplifier.rule_4 of <utilities.simplifier.Simplifier object at 0x7f83607e7240>>\n",
      "simplified using  <bound method Simplifier.rule_4 of <utilities.simplifier.Simplifier object at 0x7f83607e7240>>\n",
      "simplified using  <bound method Simplifier.rule_4 of <utilities.simplifier.Simplifier object at 0x7f83607e7240>>\n",
      "simplified using  <bound method Simplifier.rule_4 of <utilities.simplifier.Simplifier object at 0x7f83607e7240>>\n",
      "simplified using  <bound method Simplifier.rule_4 of <utilities.simplifier.Simplifier object at 0x7f83607e7240>>\n",
      "simplified using  <bound method Simplifier.rule_4 of <utilities.simplifier.Simplifier object at 0x7f83607e7240>>\n",
      "simplified using  <bound method Simplifier.rule_5 of <utilities.simplifier.Simplifier object at 0x7f83607e7240>>\n",
      "simplified using  <bound method Simplifier.rule_5 of <utilities.simplifier.Simplifier object at 0x7f83607e7240>>\n",
      "simplified using  <bound method Simplifier.rule_5 of <utilities.simplifier.Simplifier object at 0x7f83607e7240>>\n",
      "simplified using  <bound method Simplifier.rule_5 of <utilities.simplifier.Simplifier object at 0x7f83607e7240>>\n",
      "simplified using  <bound method Simplifier.rule_5 of <utilities.simplifier.Simplifier object at 0x7f83607e7240>>\n",
      "simplified using  <bound method Simplifier.rule_5 of <utilities.simplifier.Simplifier object at 0x7f83607e7240>>\n",
      "simplified using  <bound method Simplifier.rule_6 of <utilities.simplifier.Simplifier object at 0x7f83607e7240>>\n",
      "simplified using  <bound method Simplifier.rule_6 of <utilities.simplifier.Simplifier object at 0x7f83607e7240>>\n",
      "simplified using  <bound method Simplifier.rule_6 of <utilities.simplifier.Simplifier object at 0x7f83607e7240>>\n",
      "simplified using  <bound method Simplifier.rule_6 of <utilities.simplifier.Simplifier object at 0x7f83607e7240>>\n",
      "simplified using  <bound method Simplifier.rule_6 of <utilities.simplifier.Simplifier object at 0x7f83607e7240>>\n",
      "simplified using  <bound method Simplifier.rule_6 of <utilities.simplifier.Simplifier object at 0x7f83607e7240>>\n",
      "simplified using  <bound method Simplifier.rule_6 of <utilities.simplifier.Simplifier object at 0x7f83607e7240>>\n",
      "simplified using  <bound method Simplifier.rule_3 of <utilities.simplifier.Simplifier object at 0x7f83607e7240>>\n",
      "simplified using  <bound method Simplifier.rule_3 of <utilities.simplifier.Simplifier object at 0x7f83607e7240>>\n",
      "simplified using  <bound method Simplifier.rule_3 of <utilities.simplifier.Simplifier object at 0x7f83607e7240>>\n",
      "simplified using  <bound method Simplifier.rule_3 of <utilities.simplifier.Simplifier object at 0x7f83607e7240>>\n"
     ]
    }
   ],
   "source": [
    "simplified_db, s = simplifier.reduce_circuit(mcircuit_db)"
   ]
  }
 ],
 "metadata": {
  "kernelspec": {
   "display_name": "Python 3",
   "language": "python",
   "name": "python3"
  },
  "language_info": {
   "codemirror_mode": {
    "name": "ipython",
    "version": 3
   },
   "file_extension": ".py",
   "mimetype": "text/x-python",
   "name": "python",
   "nbconvert_exporter": "python",
   "pygments_lexer": "ipython3",
   "version": "3.6.9"
  }
 },
 "nbformat": 4,
 "nbformat_minor": 5
}
