{
 "cells": [
  {
   "cell_type": "markdown",
   "id": "israeli-cathedral",
   "metadata": {},
   "source": [
    "In this notebook we give a proof of concept of unitary compiling using TFQ. "
   ]
  },
  {
   "cell_type": "code",
   "execution_count": 1,
   "id": "cleared-explorer",
   "metadata": {},
   "outputs": [],
   "source": [
    "%load_ext autoreload\n",
    "%autoreload 2\n",
    "\n",
    "from utilities.idinserter import IdInserter\n",
    "from utilities.evaluator import Evaluator\n",
    "from utilities.gate_killer import GateKiller\n",
    "from utilities.simplifier import Simplifier\n",
    "from utilities.variational import Minimizer\n",
    "from utilities.circuit_database import CirqTranslater\n",
    "from utilities.templates import *\n",
    "from utilities.misc import kill_and_simplify"
   ]
  },
  {
   "cell_type": "code",
   "execution_count": 2,
   "id": "efcabfc6-9dbd-41e7-971c-83e0fdc17fd6",
   "metadata": {},
   "outputs": [],
   "source": [
    "etas = [0.01,0.1]\n",
    "\n",
    "translator = CirqTranslater(3, untouchable_blocks = [1], discard_qubits=[2])\n",
    "simplifier = Simplifier(translator)\n",
    "inserter = IdInserter(translator.n_qubits, untouchable_blocks=translator.untouchable_blocks, untouchable_qubits = [2])\n",
    "killer = GateKiller(translator, mode=\"discrimination\", params=etas)\n",
    "minimizer = Minimizer(translator, mode=\"discrimination\", params=etas)\n",
    "\n",
    "args_evaluator = {\"n_qubits\":translator.n_qubits, \"problem\":\"acd\",\"params\":etas}\n",
    "evaluator = Evaluator(args=args_evaluator, lower_bound_cost=minimizer.lower_bound_cost, nrun=0, stopping_criteria=1e-3)\n",
    "\n",
    "\n",
    "### prepare initial circuit ####\n",
    "channel_db = amplitude_damping_db(translator, qubits_ind=[0,inserter.untouchable_qubits[0]], eta=1, block_id = translator.untouchable_blocks[0])\n",
    "circuit_db = concatenate_dbs([x_layer(translator,qubits_ind=[0,1], block_id=0), channel_db, x_layer(translator,qubits_ind=[0,1], block_id=2)])\n",
    "circuit, circuit_db = translator.give_circuit(circuit_db)"
   ]
  },
  {
   "cell_type": "code",
   "execution_count": null,
   "id": "b70f4658-abeb-4e51-9ba3-a75a88cdfd10",
   "metadata": {},
   "outputs": [],
   "source": []
  },
  {
   "cell_type": "code",
   "execution_count": null,
   "id": "0b94a363-593a-4dde-8351-61a04c4fa6cf",
   "metadata": {},
   "outputs": [],
   "source": []
  },
  {
   "cell_type": "code",
   "execution_count": 64,
   "id": "outdoor-nursing",
   "metadata": {},
   "outputs": [
    {
     "name": "stdout",
     "output_type": "stream",
     "text": [
      "vans_it: 0\n",
      " current cost: 0.16569793224334717\n",
      "target cost: 0.1656980511955941 \n",
      "relative error: -7.194368549789942e-07\n",
      "\n",
      "\n",
      "\n",
      "ending VAns\n",
      "\n",
      " final cost: 0.16569799184799194\n",
      "target cost: 0.1656980511955941 \n",
      "\n",
      "\n",
      "\n",
      "\n"
     ]
    }
   ],
   "source": [
    "translator = CirqTranslater(3, untouchable_blocks = [1], discard_qubits=[2])\n",
    "simplifier = Simplifier(translator)\n",
    "inserter = IdInserter(translator.n_qubits, untouchable_blocks=translator.untouchable_blocks, untouchable_qubits = [2])\n",
    "\n",
    "\n",
    "etas = [0.2,1.]\n",
    "minimizer = Minimizer(translator, mode=\"discrimination\", params=etas)\n",
    "killer = GateKiller(translator, mode=\"discrimination\", params=etas)\n",
    "\n",
    "args_evaluator = {\"n_qubits\":translator.n_qubits, \"problem\":\"acd\",\"params\":etas}\n",
    "evaluator = Evaluator(args=args_evaluator, lower_bound_cost=minimizer.lower_bound_cost, nrun=0, stopping_criteria=1e-3)\n",
    "\n",
    "\n",
    "### prepare initial circuit ####\n",
    "channel_db = amplitude_damping_db(translator, qubits_ind=[0,inserter.untouchable_qubits[0]], eta=1, block_id = translator.untouchable_blocks[0])\n",
    "circuit_db = concatenate_dbs([x_layer(translator,qubits_ind=[0,1], block_id=0), channel_db, x_layer(translator,qubits_ind=[0,1], block_id=2)])\n",
    "circuit, circuit_db = translator.give_circuit(circuit_db)\n",
    "\n",
    "\n",
    "# optimize continuous parameters ##\n",
    "\n",
    "minimized_db, [cost, resolver, history_training] = minimizer.variational(circuit_db)\n",
    "evaluator.add_step(minimized_db, cost, relevant=True, operation=\"variational\", history = history_training.history[\"cost\"])\n",
    "\n",
    "### reduce circuit (same cost) ###\n",
    "simplified_db, ns =  simplifier.reduce_circuit(minimized_db)\n",
    "newcost = minimizer.give_cost(simplified_db)\n",
    "reduced_db, reduced_cost, ops = kill_and_simplify(simplified_db, newcost, killer, simplifier)\n",
    "evaluator.add_step(simplified_db, reduced_cost, relevant=True, operation=\"reduction\", history = ops)\n",
    "\n",
    "\n",
    "\n",
    "circuit_db = reduced_db.copy()\n",
    "\n",
    "\n",
    "for vans_it in range(evaluator.vans_its):\n",
    "    print(\"vans_it: {}\\n current cost: {}\\ntarget cost: {} \\nrelative error: {}\\n\\n\\n\".format(vans_it, cost, minimizer.lower_bound_cost, (cost-minimizer.lower_bound_cost)/np.abs(minimizer.lower_bound_cost)))\n",
    "    mutated_db, number_mutations = inserter.mutate(circuit_db)\n",
    "    mutated_cost = minimizer.give_cost(mutated_db)\n",
    "    evaluator.add_step(mutated_db, mutated_cost, relevant=False, operation=\"mutation\", history = number_mutations)\n",
    "\n",
    "    simplified_db, ns =  simplifier.reduce_circuit(mutated_db)\n",
    "    simplified_cost = minimizer.give_cost(simplified_db)\n",
    "    evaluator.add_step(simplified_db, simplified_cost, relevant=False, operation=\"simplification\", history = ns)\n",
    "\n",
    "    minimized_db, [cost, resolver, history_training] = minimizer.variational(simplified_db)\n",
    "    evaluator.add_step(minimized_db, cost, relevant=False, operation=\"variational\", history = history_training.history[\"cost\"])\n",
    "\n",
    "    accept_cost, stop = evaluator.accept_cost(cost)\n",
    "    if accept_cost == True:\n",
    "\n",
    "        reduced_db, reduced_cost, ops = kill_and_simplify(simplified_db, cost, killer, simplifier)\n",
    "        evaluator.add_step(reduced_db, reduced_cost, relevant=False, operation=\"reduction\", history = ops)\n",
    "\n",
    "        minimized_db, [cost, resolver, history_training] = minimizer.variational(reduced_db)\n",
    "        evaluator.add_step(minimized_db, cost, relevant=True, operation=\"variational\", history = history_training.history[\"cost\"])\n",
    "\n",
    "        circuit_db = minimized_db.copy()\n",
    "        \n",
    "    if stop == True:\n",
    "        print(\"ending VAns\")\n",
    "        print(\"\\n final cost: {}\\ntarget cost: {} \\n\\n\\n\\n\".format(cost, minimizer.lower_bound_cost))\n",
    "        break"
   ]
  }
 ],
 "metadata": {
  "kernelspec": {
   "display_name": "qenv_bilkis",
   "language": "python",
   "name": "qenv_bilkis"
  },
  "language_info": {
   "codemirror_mode": {
    "name": "ipython",
    "version": 3
   },
   "file_extension": ".py",
   "mimetype": "text/x-python",
   "name": "python",
   "nbconvert_exporter": "python",
   "pygments_lexer": "ipython3",
   "version": "3.6.8"
  }
 },
 "nbformat": 4,
 "nbformat_minor": 5
}
