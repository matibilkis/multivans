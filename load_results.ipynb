{
 "cells": [
  {
   "cell_type": "markdown",
   "id": "israeli-cathedral",
   "metadata": {},
   "source": [
    "In this notebook we give a proof of concept of unitary compiling using TFQ. "
   ]
  },
  {
   "cell_type": "code",
   "execution_count": 3,
   "id": "cleared-explorer",
   "metadata": {},
   "outputs": [
    {
     "name": "stdout",
     "output_type": "stream",
     "text": [
      "The autoreload extension is already loaded. To reload it, use:\n",
      "  %reload_ext autoreload\n"
     ]
    }
   ],
   "source": [
    "%load_ext autoreload\n",
    "%autoreload 2\n",
    "\n",
    "import sympy \n",
    "import numpy as np \n",
    "import pandas as pd \n",
    "import tensorflow as tf\n",
    "from utilities.circuit_database import CirqTranslater\n",
    "from utilities.templates import *\n",
    "from utilities.variational import Minimizer\n",
    "import matplotlib.pyplot as plt \n",
    "import tensorflow_quantum as tfq\n",
    "import cirq\n",
    "from utilities.compiling import *\n",
    "from utilities.misc import *\n",
    "from utilities.simplifier import Simplifier\n",
    "from utilities.discrimination import *\n",
    "from utilities.idinserter import IdInserter\n",
    "from utilities.evaluator import Evaluator\n",
    "from utilities.gate_killer import GateKiller\n",
    "from ast import literal_eval\n",
    "import tensorflow_quantum as tfq"
   ]
  },
  {
   "cell_type": "code",
   "execution_count": 4,
   "id": "collected-selection",
   "metadata": {},
   "outputs": [],
   "source": [
    "etas = [0.2,1.]\n",
    "\n",
    "translator = CirqTranslater(3, untouchable_blocks = [1], discard_qubits=[2])\n",
    "simplifier = Simplifier(translator)\n",
    "inserter = IdInserter(translator.n_qubits, untouchable_blocks=translator.untouchable_blocks, untouchable_qubits = [2])\n",
    "killer = GateKiller(translator, mode=\"discrimination\", params=etas)\n",
    "minimizer = Minimizer(translator, mode=\"discrimination\", params=etas)\n",
    "\n",
    "args_evaluator = {\"n_qubits\":translator.n_qubits, \"problem\":\"acd\",\"params\":etas}\n",
    "evaluator = Evaluator(args=args_evaluator, lower_bound_cost=minimizer.lower_bound_cost, nrun=0, stopping_criteria=1e-3)\n",
    "\n"
   ]
  },
  {
   "cell_type": "code",
   "execution_count": 6,
   "id": "sexual-picture",
   "metadata": {},
   "outputs": [],
   "source": [
    "evaluator.load_dicts_and_displaying(evaluator.identifier)"
   ]
  },
  {
   "cell_type": "code",
   "execution_count": 10,
   "id": "liberal-consensus",
   "metadata": {},
   "outputs": [],
   "source": [
    "[circuit_db, cost, lowest_cost, lower_bound, acceptance_percentage, operation, history] = evaluator.evolution[len(evaluator.evolution.keys())-1]"
   ]
  },
  {
   "cell_type": "code",
   "execution_count": 15,
   "id": "filled-incident",
   "metadata": {},
   "outputs": [],
   "source": [
    "circuit, circuit_db = translator.give_circuit(circuit_db, unresolved = False)"
   ]
  },
  {
   "cell_type": "code",
   "execution_count": 16,
   "id": "banned-egypt",
   "metadata": {},
   "outputs": [
    {
     "data": {
      "text/html": [
       "<pre style=\"overflow: auto; white-space: pre;\">(0, 0): ───Rx(π)────────H─────────────X────────────────X───H────────────────X───Rx(-π)───\n",
       "                                      │                │                    │\n",
       "(0, 1): ───Rx(0.114π)───Rx(-0.114π)───┼────────────────┼────────────────────┼────────────\n",
       "                                      │                │                    │\n",
       "(0, 2): ───H──────────────────────────@───Ry(0.318π)───@───H───Ry(0.318π)───@────────────</pre>"
      ],
      "text/plain": [
       "(0, 0): ───Rx(π)────────H─────────────X────────────────X───H────────────────X───Rx(-π)───\n",
       "                                      │                │                    │\n",
       "(0, 1): ───Rx(0.114π)───Rx(-0.114π)───┼────────────────┼────────────────────┼────────────\n",
       "                                      │                │                    │\n",
       "(0, 2): ───H──────────────────────────@───Ry(0.318π)───@───H───Ry(0.318π)───@────────────"
      ]
     },
     "execution_count": 16,
     "metadata": {},
     "output_type": "execute_result"
    }
   ],
   "source": [
    "circuit"
   ]
  },
  {
   "cell_type": "code",
   "execution_count": null,
   "id": "connected-indianapolis",
   "metadata": {},
   "outputs": [],
   "source": []
  },
  {
   "cell_type": "code",
   "execution_count": null,
   "id": "criminal-drain",
   "metadata": {},
   "outputs": [],
   "source": []
  },
  {
   "cell_type": "code",
   "execution_count": null,
   "id": "protected-kinase",
   "metadata": {},
   "outputs": [],
   "source": []
  }
 ],
 "metadata": {
  "kernelspec": {
   "display_name": "Python 3",
   "language": "python",
   "name": "python3"
  },
  "language_info": {
   "codemirror_mode": {
    "name": "ipython",
    "version": 3
   },
   "file_extension": ".py",
   "mimetype": "text/x-python",
   "name": "python",
   "nbconvert_exporter": "python",
   "pygments_lexer": "ipython3",
   "version": "3.6.9"
  }
 },
 "nbformat": 4,
 "nbformat_minor": 5
}
