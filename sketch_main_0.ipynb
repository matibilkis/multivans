{
 "cells": [
  {
   "cell_type": "markdown",
   "id": "israeli-cathedral",
   "metadata": {},
   "source": [
    "In this notebook we give a proof of concept of unitary compiling using TFQ. "
   ]
  },
  {
   "cell_type": "code",
   "execution_count": 40,
   "id": "cleared-explorer",
   "metadata": {},
   "outputs": [
    {
     "name": "stdout",
     "output_type": "stream",
     "text": [
      "The autoreload extension is already loaded. To reload it, use:\n",
      "  %reload_ext autoreload\n"
     ]
    }
   ],
   "source": [
    "%load_ext autoreload\n",
    "%autoreload 2\n",
    "\n",
    "import sympy \n",
    "import numpy as np \n",
    "import pandas as pd \n",
    "import tensorflow as tf\n",
    "from utilities.circuit_database import CirqTranslater\n",
    "from utilities.templates import *\n",
    "from utilities.variational import Minimizer\n",
    "import matplotlib.pyplot as plt \n",
    "import tensorflow_quantum as tfq\n",
    "import cirq\n",
    "from utilities.compiling import *\n",
    "from utilities.misc import *\n",
    "from utilities.simplifier import Simplifier\n",
    "from utilities.discrimination import *\n",
    "from utilities.idinserter import IdInserter\n",
    "from utilities.evaluator import Evaluator\n",
    "from utilities.gate_killer import GateKiller\n",
    "from ast import literal_eval\n",
    "import tensorflow_quantum as tfq"
   ]
  },
  {
   "cell_type": "code",
   "execution_count": 86,
   "id": "impressed-pakistan",
   "metadata": {},
   "outputs": [],
   "source": [
    "translator = CirqTranslater(3, untouchable_blocks = [1], discard_qubits=[2])\n",
    "simplifier = Simplifier(translator)\n",
    "inserter = IdInserter(translator.n_qubits, untouchable_blocks=translator.untouchable_blocks, untouchable_qubits = [2])\n",
    "\n",
    "\n",
    "\n",
    "etas = [1.,0.01]\n",
    "\n",
    "args_evaluator = {\"n_qubits\":translator.n_qubits, \"problem\":\"acd\",\"params\":etas}\n",
    "evaluator = Evaluator(args=args_evaluator, lower_bound_cost=minimizer.lower_bound_cost, nrun=0)\n",
    "\n",
    "minimizer = Minimizer(translator, mode=\"discrimination\", params=etas)\n",
    "killer = GateKiller(translator, mode=\"discrimination\", params=etas)\n",
    "\n",
    "channel_db = amplitude_damping_db(translator, qubits_ind=[0,inserter.untouchable_qubits[0]], eta=1, block_id = translator.untouchable_blocks[0])\n",
    "circuit_db = concatenate_dbs([u2_db(translator,0,1, block_id=0), channel_db, u2_db(translator,0,1, block_id=2)])\n"
   ]
  },
  {
   "cell_type": "code",
   "execution_count": 87,
   "id": "optional-anthony",
   "metadata": {},
   "outputs": [],
   "source": [
    "circuit, circuit_db = translator.give_circuit(circuit_db)"
   ]
  },
  {
   "cell_type": "code",
   "execution_count": 88,
   "id": "abroad-nicholas",
   "metadata": {},
   "outputs": [],
   "source": [
    "circuit, circuit_db = translator.give_circuit(circuit_db)\n",
    "minimized_db, [cost, resolver, history_training] = minimizer.variational(circuit_db)\n",
    "evaluator.add_step(minimized_db, cost, relevant=True, operation=\"variational\", history = history_training.history[\"cost\"])"
   ]
  },
  {
   "cell_type": "code",
   "execution_count": 89,
   "id": "controlling-tumor",
   "metadata": {},
   "outputs": [],
   "source": [
    "simplified_db, ns =  simplifier.reduce_circuit(minimized_db)\n",
    "newcost = minimizer.give_cost(simplified_db)"
   ]
  },
  {
   "cell_type": "code",
   "execution_count": 90,
   "id": "jewish-hartford",
   "metadata": {},
   "outputs": [],
   "source": [
    "evaluator.add_step(simplified_db, newcost, relevant=False, operation=\"simplification\", history = ns)"
   ]
  },
  {
   "cell_type": "code",
   "execution_count": 91,
   "id": "apart-terrorist",
   "metadata": {},
   "outputs": [
    {
     "name": "stdout",
     "output_type": "stream",
     "text": [
      "kill 1qbit gate, try 0/28. Increased by: -3.2657194424245972e-06%\n",
      "kill 1qbit gate, try 1/28. Increased by: -1.6328597212122986e-06%\n",
      "kill 1qbit gate, try 2/28. Increased by: -1.6328597212122986e-06%\n",
      "kill 1qbit gate, try 3/28. Increased by: -1.6328597212122986e-06%\n",
      "kill 1qbit gate, try 4/28. Increased by: -2.0410745946719544e-06%\n",
      "kill 1qbit gate, try 5/28. Increased by: -2.0410745946719544e-06%\n",
      "kill 1qbit gate, try 6/28. Increased by: -1.6328597212122986e-06%\n",
      "kill 1qbit gate, try 7/28. Increased by: -1.6328597212122986e-06%\n",
      "kill 1qbit gate, try 8/28. Increased by: -8.164298606061493e-07%\n",
      "kill 1qbit gate, try 9/28. Increased by: -1.6328597212122986e-06%\n",
      "kill 1qbit gate, try 10/28. Increased by: -2.44928946813161e-06%\n",
      "kill 1qbit gate, try 11/28. Increased by: -0.006440815050154924%\n",
      "kill 1qbit gate, try 12/28. Increased by: 0.0%\n"
     ]
    }
   ],
   "source": [
    "killed_db, killed_cost, murders = killer.remove_irrelevant_gates(cost,simplified_db)"
   ]
  },
  {
   "cell_type": "code",
   "execution_count": 92,
   "id": "analyzed-active",
   "metadata": {},
   "outputs": [],
   "source": [
    "evaluator.add_step(killed_db, killed_cost, relevant=False, operation=\"gate_removals\", history = murders)"
   ]
  },
  {
   "cell_type": "code",
   "execution_count": 93,
   "id": "assisted-latvia",
   "metadata": {},
   "outputs": [],
   "source": [
    "circuit_db = killed_db.copy()"
   ]
  },
  {
   "cell_type": "code",
   "execution_count": 95,
   "id": "integral-coaching",
   "metadata": {},
   "outputs": [],
   "source": [
    "mutated_db, number_mutations = inserter.mutate(circuit_db)\n",
    "mutated_cost = minimizer.give_cost(mutated_db)\n",
    "evaluator.add_step(mutated_db, mutated_cost, relevant=False, operation=\"mutation\", history = number_mutations)\n",
    "\n",
    "simplified_db, ns =  simplifier.reduce_circuit(mutated_db)\n",
    "simplified_cost = minimizer.give_cost(simplified_db)\n",
    "evaluator.add_step(simplified_db, simplified_cost, relevant=False, operation=\"simplification\", history = ns)\n",
    "\n",
    "minimized_db, [cost, resolver, history_training] = minimizer.variational(simplified_db)\n",
    "evaluator.add_step(simplified_db, simplified_cost, relevant=False, operation=\"variational\", history = history_training.history[\"cost\"])"
   ]
  },
  {
   "cell_type": "code",
   "execution_count": 99,
   "id": "indoor-australia",
   "metadata": {},
   "outputs": [],
   "source": [
    "if evaluator.accept_cost(cost) is True:\n",
    "\n",
    "    killed_db, killed_cost, murders = killer.remove_irrelevant_gates(cost,simplified_db)\n",
    "    simplified_db, ns =  simplifier.reduce_circuit(mutated_db)\n",
    "    simplified_cost = minimizer.give_cost(simplified_db)\n",
    "    evaluator.add_step(simplified_db, simplified_cost, relevant=False, operation=\"simplification\", history = ns)\n",
    "\n",
    "    minimized_db, [cost, resolver, history_training] = minimizer.variational(simplified_db)\n",
    "    evaluator.add_step(simplified_db, simplified_cost, relevant=True, operation=\"variational\", history = history_training.history[\"cost\"])\n",
    "    \n",
    "    circuit_db = minimized_db.copy()"
   ]
  },
  {
   "cell_type": "code",
   "execution_count": null,
   "id": "vanilla-revision",
   "metadata": {},
   "outputs": [],
   "source": []
  },
  {
   "cell_type": "code",
   "execution_count": null,
   "id": "lesser-vessel",
   "metadata": {},
   "outputs": [],
   "source": []
  },
  {
   "cell_type": "code",
   "execution_count": null,
   "id": "minute-tournament",
   "metadata": {},
   "outputs": [],
   "source": []
  }
 ],
 "metadata": {
  "kernelspec": {
   "display_name": "Python 3",
   "language": "python",
   "name": "python3"
  },
  "language_info": {
   "codemirror_mode": {
    "name": "ipython",
    "version": 3
   },
   "file_extension": ".py",
   "mimetype": "text/x-python",
   "name": "python",
   "nbconvert_exporter": "python",
   "pygments_lexer": "ipython3",
   "version": "3.6.9"
  }
 },
 "nbformat": 4,
 "nbformat_minor": 5
}
