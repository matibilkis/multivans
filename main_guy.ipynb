{
 "cells": [
  {
   "cell_type": "markdown",
   "id": "israeli-cathedral",
   "metadata": {},
   "source": [
    "In this notebook we give a proof of concept of unitary compiling using TFQ. "
   ]
  },
  {
   "cell_type": "code",
   "execution_count": 3,
   "id": "cleared-explorer",
   "metadata": {},
   "outputs": [],
   "source": [
    "%load_ext autoreload\n",
    "%autoreload 2\n",
    "\n",
    "import sympy \n",
    "import numpy as np \n",
    "import pandas as pd \n",
    "import tensorflow as tf\n",
    "from utilities.circuit_database import CirqTranslater\n",
    "from utilities.templates import *\n",
    "from utilities.variational import Minimizer\n",
    "from utilities.misc import get_qubits_involved, reindex_symbol, shift_symbols_down\n",
    "import matplotlib.pyplot as plt \n",
    "import tensorflow_quantum as tfq\n",
    "import cirq\n",
    "from utilities.compiling import *\n",
    "from utilities.misc import *\n",
    "from utilities.simplifier import Simplifier\n",
    "from utilities.discrimination import *\n",
    "from utilities.idinserter import IdInserter\n",
    "from utilities.evaluator import Evaluator\n",
    "from utilities.gate_killer import GateKiller"
   ]
  },
  {
   "cell_type": "code",
   "execution_count": 4,
   "id": "coastal-dividend",
   "metadata": {},
   "outputs": [],
   "source": [
    "np.random.seed(0)\n",
    "\n",
    "translator = CirqTranslater(3, untouchable_blocks = [1])\n",
    "\n",
    "translator.env_qubits = [2]\n",
    "translator.encoder_id = 0\n",
    "translator.channel_id = 1\n",
    "translator.decoder_id = 2\n",
    "\n",
    "\n",
    "simplifier = Simplifier(translator)\n",
    "\n",
    "\n",
    "etas = [0.01, 1.]\n",
    "minimizer = Minimizer(translator, mode=\"discrimination\", params=etas)\n",
    "\n",
    "killer = GateKiller(translator, mode=\"discrimination\", params = etas)\n",
    "\n",
    "\n",
    "inserter = IdInserter(translator.n_qubits, untouchable_blocks=translator.channel_id)\n",
    "\n",
    "\n",
    "args_evaluator = {\"n_qubits\":translator.n_qubits, \"problem\":\"acd\",\"params\":etas}\n",
    "evaluator = Evaluator(args=args_evaluator, lower_bound_cost=minimizer.lower_bound_cost, nrun=0)\n"
   ]
  },
  {
   "cell_type": "code",
   "execution_count": 5,
   "id": "uniform-jacket",
   "metadata": {},
   "outputs": [
    {
     "data": {
      "text/html": [
       "<pre style=\"overflow: auto; white-space: pre;\">(0, 0): ───Rz(th_0)───Rx(th_1)───Rz(th_2)───Rz(th_11)───Rx(th_12)───Rz(th_13)─────────────────────────────────────────────────────────────────\n",
       "\n",
       "(0, 1): ───Rz(th_3)───Rx(th_4)───Rz(th_5)───H───────────X────────────────────────X───H────────────────X───Rz(th_14)───Rx(th_15)───Rz(th_16)───\n",
       "                                                        │                        │                    │\n",
       "(0, 2): ───Rz(th_6)───Rx(th_7)───Rz(th_8)───H───────────@───────────Ry(0.318π)───@───H───Ry(0.318π)───@───Rz(th_17)───Rx(th_18)───Rz(th_19)───</pre>"
      ],
      "text/plain": [
       "(0, 0): ───Rz(th_0)───Rx(th_1)───Rz(th_2)───Rz(th_11)───Rx(th_12)───Rz(th_13)─────────────────────────────────────────────────────────────────\n",
       "\n",
       "(0, 1): ───Rz(th_3)───Rx(th_4)───Rz(th_5)───H───────────X────────────────────────X───H────────────────X───Rz(th_14)───Rx(th_15)───Rz(th_16)───\n",
       "                                                        │                        │                    │\n",
       "(0, 2): ───Rz(th_6)───Rx(th_7)───Rz(th_8)───H───────────@───────────Ry(0.318π)───@───H───Ry(0.318π)───@───Rz(th_17)───Rx(th_18)───Rz(th_19)───"
      ]
     },
     "execution_count": 5,
     "metadata": {},
     "output_type": "execute_result"
    }
   ],
   "source": [
    "u1_layer_encoder = u1_layer(translator, inds= [0,1], block_id=translator.encoder_id)\n",
    "channel_db = amplitude_damping_db(translator, qubits_ind=[1,2], eta=1, block_id = translator.channel_id)\n",
    "u1_layer_decoder = u1_layer(translator, inds = [0,1], block_id=translator.decoder_id)\n",
    "\n",
    "u2_layer_encoder = u2_db(translator, 0,1, block_id=translator.encoder_id)\n",
    "channel_db = amplitude_damping_db(translator, qubits_ind=[1,2], eta=1, block_id = translator.channel_id)\n",
    "u2_layer_decoder = u2_db(translator, 0,1, block_id=translator.decoder_id)\n",
    "\n",
    "\n",
    "circuit_db = concatenate_dbs([u1_layer_encoder, channel_db, u1_layer_decoder])\n",
    "#circuit_db = concatenate_dbs([u2_layer_encoder, channel_db, u2_layer_decoder])\n",
    "\n",
    "circuit, circuit_db = translator.give_circuit(circuit_db)\n",
    "circuit"
   ]
  },
  {
   "cell_type": "code",
   "execution_count": 6,
   "id": "delayed-limitation",
   "metadata": {},
   "outputs": [
    {
     "name": "stdout",
     "output_type": "stream",
     "text": [
      "WARNING:tensorflow:From /home/cooper-cooper/.local/lib/python3.6/site-packages/tensorflow/python/ops/math_grad.py:297: setdiff1d (from tensorflow.python.ops.array_ops) is deprecated and will be removed after 2018-11-30.\n",
      "Instructions for updating:\n",
      "This op will be removed after the deprecation date. Please switch to tf.sets.difference().\n",
      "kill 1qbit gate, try 0/18. Increased by: 1.4540061101797619e-06%\n",
      "kill 1qbit gate, try 1/18. Increased by: 1.4540061101797619e-06%\n",
      "kill 1qbit gate, try 2/18. Increased by: 1.4540061101797619e-06%\n",
      "kill 1qbit gate, try 3/18. Increased by: 1.4540061101797619e-06%\n",
      "kill 1qbit gate, try 4/18. Increased by: 2.1810092221130617e-06%\n",
      "kill 1qbit gate, try 5/18. Increased by: 7.270030550898809e-07%\n",
      "kill 1qbit gate, try 6/18. Increased by: 0.0%\n",
      "kill 1qbit gate, try 7/18. Increased by: -7.270030550898809e-07%\n",
      "kill 1qbit gate, try 8/18. Increased by: 0.0%\n",
      "kill 1qbit gate, try 9/18. Increased by: 0.0%\n"
     ]
    }
   ],
   "source": [
    "batch_circuits, trainable_symbols, trainable_params_value = prepare_optimization_discrimination(translator, circuit_db, etas)\n",
    "cost, resolver, training_history = minimizer.minimize(batch_circuits, symbols = trainable_symbols, parameter_values = trainable_params_value )\n",
    "circuit_db = translator.update_circuit_db_param_values(circuit_db, resolver)\n",
    "original_db = circuit_db.copy()\n",
    "\n",
    "\n",
    "circuit_db = original_db.copy()\n",
    "\n",
    "evaluator.add_step(circuit_db, cost, relevant=True)\n",
    "evaluator.save_dicts_and_displaying()\n",
    "\n",
    "circuit_db, cost = killer.remove_irrelevant_gates(cost, circuit_db)\n",
    "evaluator.add_step(circuit_db, cost, relevant=False)\n",
    "evaluator.save_dicts_and_displaying()\n"
   ]
  },
  {
   "cell_type": "code",
   "execution_count": 8,
   "id": "straight-shareware",
   "metadata": {},
   "outputs": [],
   "source": [
    "simplifier = Simplifier(translator)"
   ]
  },
  {
   "cell_type": "code",
   "execution_count": 10,
   "id": "retained-animation",
   "metadata": {},
   "outputs": [
    {
     "name": "stdout",
     "output_type": "stream",
     "text": [
      "vans iteration: 0\n",
      "simplified using  <bound method Simplifier.rule_6 of <utilities.simplifier.Simplifier object at 0x7f40e0296978>>\n",
      "simplified using  <bound method Simplifier.rule_6 of <utilities.simplifier.Simplifier object at 0x7f40e0296978>>\n",
      "simplified using  <bound method Simplifier.rule_6 of <utilities.simplifier.Simplifier object at 0x7f40e0296978>>\n",
      "kill 1qbit gate, try 0/15. Increased by: 0.0%\n",
      "vans iteration: 1\n",
      "simplified using  <bound method Simplifier.rule_5 of <utilities.simplifier.Simplifier object at 0x7f40e0296978>>\n",
      "simplified using  <bound method Simplifier.rule_6 of <utilities.simplifier.Simplifier object at 0x7f40e0296978>>\n",
      "simplified using  <bound method Simplifier.rule_6 of <utilities.simplifier.Simplifier object at 0x7f40e0296978>>\n",
      "simplified using  <bound method Simplifier.rule_6 of <utilities.simplifier.Simplifier object at 0x7f40e0296978>>\n",
      "simplified using  <bound method Simplifier.rule_3 of <utilities.simplifier.Simplifier object at 0x7f40e0296978>>\n",
      "kill 1qbit gate, try 0/18. Increased by: 0.0%\n",
      "vans iteration: 2\n",
      "simplified using  <bound method Simplifier.rule_4 of <utilities.simplifier.Simplifier object at 0x7f40e0296978>>\n",
      "simplified using  <bound method Simplifier.rule_5 of <utilities.simplifier.Simplifier object at 0x7f40e0296978>>\n",
      "simplified using  <bound method Simplifier.rule_5 of <utilities.simplifier.Simplifier object at 0x7f40e0296978>>\n",
      "simplified using  <bound method Simplifier.rule_6 of <utilities.simplifier.Simplifier object at 0x7f40e0296978>>\n",
      "simplified using  <bound method Simplifier.rule_6 of <utilities.simplifier.Simplifier object at 0x7f40e0296978>>\n",
      "simplified using  <bound method Simplifier.rule_3 of <utilities.simplifier.Simplifier object at 0x7f40e0296978>>\n",
      "kill 1qbit gate, try 0/21. Increased by: 0.0%\n"
     ]
    }
   ],
   "source": [
    "for vans_it in range(3):\n",
    "    print(\"vans iteration: {}\".format(vans_it))\n",
    "    mutated_circuit_db = inserter.insert_many_mutations(circuit_db )\n",
    "    simplified_db, nreds = simplifier.reduce_circuit(mutated_circuit_db)\n",
    "\n",
    "    batch_circuits, trainable_symbols, trainable_params_value = prepare_optimization_discrimination(translator, simplified_db, etas)\n",
    "    \n",
    "    cost, resolver, training_history = minimizer.minimize(batch_circuits, symbols = trainable_symbols, parameter_values = trainable_params_value )\n",
    "    mutation_db = translator.update_circuit_db_param_values(mutated_circuit_db, resolver)    \n",
    "\n",
    "    if evaluator.accept_cost(cost):\n",
    "        circuit_db = mutation_db\n",
    "        circuit_db, cost = killer.remove_irrelevant_gates(cost, circuit_db)\n",
    "        evaluator.add_step(circuit_db, cost, relevant=False)\n",
    "        evaluator.save_dicts_and_displaying()"
   ]
  }
 ],
 "metadata": {
  "kernelspec": {
   "display_name": "Python 3",
   "language": "python",
   "name": "python3"
  },
  "language_info": {
   "codemirror_mode": {
    "name": "ipython",
    "version": 3
   },
   "file_extension": ".py",
   "mimetype": "text/x-python",
   "name": "python",
   "nbconvert_exporter": "python",
   "pygments_lexer": "ipython3",
   "version": "3.6.9"
  }
 },
 "nbformat": 4,
 "nbformat_minor": 5
}
