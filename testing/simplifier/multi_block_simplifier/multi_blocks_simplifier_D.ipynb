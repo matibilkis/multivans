{
 "cells": [
  {
   "cell_type": "markdown",
   "id": "israeli-cathedral",
   "metadata": {},
   "source": [
    "In this notebook we give a proof of concept of unitary compiling using TFQ. "
   ]
  },
  {
   "cell_type": "code",
   "execution_count": 9,
   "id": "cleared-explorer",
   "metadata": {},
   "outputs": [
    {
     "name": "stdout",
     "output_type": "stream",
     "text": [
      "The autoreload extension is already loaded. To reload it, use:\n",
      "  %reload_ext autoreload\n"
     ]
    }
   ],
   "source": [
    "%load_ext autoreload\n",
    "%autoreload 2\n",
    "\n",
    "import sympy \n",
    "import numpy as np \n",
    "import pandas as pd \n",
    "import tensorflow as tf\n",
    "from utilities.circuit_database import CirqTranslater\n",
    "from utilities.templates import *\n",
    "from utilities.variational import Minimizer\n",
    "import matplotlib.pyplot as plt \n",
    "import tensorflow_quantum as tfq\n",
    "import cirq\n",
    "from utilities.compiling import *\n",
    "from utilities.misc import *\n",
    "from utilities.simplifier import Simplifier\n",
    "from utilities.discrimination import *\n",
    "from utilities.idinserter import IdInserter\n",
    "from utilities.evaluator import Evaluator\n",
    "from utilities.gate_killer import GateKiller\n",
    "from ast import literal_eval\n"
   ]
  },
  {
   "cell_type": "code",
   "execution_count": 10,
   "id": "nominated-collectible",
   "metadata": {
    "scrolled": true
   },
   "outputs": [
    {
     "name": "stdout",
     "output_type": "stream",
     "text": [
      "simplified using  <bound method Simplifier.rule_2 of <utilities.simplifier.Simplifier object at 0x7f907b8c79e8>>\n",
      "simplified using  <bound method Simplifier.rule_2 of <utilities.simplifier.Simplifier object at 0x7f907b8c79e8>>\n",
      "simplified using  <bound method Simplifier.rule_2 of <utilities.simplifier.Simplifier object at 0x7f907b8c79e8>>\n",
      "simplified using  <bound method Simplifier.rule_2 of <utilities.simplifier.Simplifier object at 0x7f907b8c79e8>>\n",
      "simplified using  <bound method Simplifier.rule_2 of <utilities.simplifier.Simplifier object at 0x7f907b8c79e8>>\n",
      "simplified using  <bound method Simplifier.rule_2 of <utilities.simplifier.Simplifier object at 0x7f907b8c79e8>>\n",
      "simplified using  <bound method Simplifier.rule_2 of <utilities.simplifier.Simplifier object at 0x7f907b8c79e8>>\n",
      "simplified using  <bound method Simplifier.rule_2 of <utilities.simplifier.Simplifier object at 0x7f907b8c79e8>>\n",
      "simplified using  <bound method Simplifier.rule_2 of <utilities.simplifier.Simplifier object at 0x7f907b8c79e8>>\n",
      "simplified using  <bound method Simplifier.rule_2 of <utilities.simplifier.Simplifier object at 0x7f907b8c79e8>>\n",
      "simplified using  <bound method Simplifier.rule_2 of <utilities.simplifier.Simplifier object at 0x7f907b8c79e8>>\n",
      "simplified using  <bound method Simplifier.rule_2 of <utilities.simplifier.Simplifier object at 0x7f907b8c79e8>>\n",
      "simplified using  <bound method Simplifier.rule_4 of <utilities.simplifier.Simplifier object at 0x7f907b8c79e8>>\n",
      "simplified using  <bound method Simplifier.rule_4 of <utilities.simplifier.Simplifier object at 0x7f907b8c79e8>>\n",
      "simplified using  <bound method Simplifier.rule_4 of <utilities.simplifier.Simplifier object at 0x7f907b8c79e8>>\n",
      "simplified using  <bound method Simplifier.rule_4 of <utilities.simplifier.Simplifier object at 0x7f907b8c79e8>>\n",
      "simplified using  <bound method Simplifier.rule_4 of <utilities.simplifier.Simplifier object at 0x7f907b8c79e8>>\n",
      "simplified using  <bound method Simplifier.rule_4 of <utilities.simplifier.Simplifier object at 0x7f907b8c79e8>>\n",
      "simplified using  <bound method Simplifier.rule_4 of <utilities.simplifier.Simplifier object at 0x7f907b8c79e8>>\n",
      "simplified using  <bound method Simplifier.rule_4 of <utilities.simplifier.Simplifier object at 0x7f907b8c79e8>>\n",
      "simplified using  <bound method Simplifier.rule_4 of <utilities.simplifier.Simplifier object at 0x7f907b8c79e8>>\n",
      "simplified using  <bound method Simplifier.rule_4 of <utilities.simplifier.Simplifier object at 0x7f907b8c79e8>>\n",
      "simplified using  <bound method Simplifier.rule_4 of <utilities.simplifier.Simplifier object at 0x7f907b8c79e8>>\n",
      "simplified using  <bound method Simplifier.rule_4 of <utilities.simplifier.Simplifier object at 0x7f907b8c79e8>>\n",
      "simplified using  <bound method Simplifier.rule_4 of <utilities.simplifier.Simplifier object at 0x7f907b8c79e8>>\n",
      "simplified using  <bound method Simplifier.rule_4 of <utilities.simplifier.Simplifier object at 0x7f907b8c79e8>>\n",
      "simplified using  <bound method Simplifier.rule_4 of <utilities.simplifier.Simplifier object at 0x7f907b8c79e8>>\n",
      "simplified using  <bound method Simplifier.rule_4 of <utilities.simplifier.Simplifier object at 0x7f907b8c79e8>>\n",
      "simplified using  <bound method Simplifier.rule_4 of <utilities.simplifier.Simplifier object at 0x7f907b8c79e8>>\n",
      "simplified using  <bound method Simplifier.rule_4 of <utilities.simplifier.Simplifier object at 0x7f907b8c79e8>>\n",
      "simplified using  <bound method Simplifier.rule_4 of <utilities.simplifier.Simplifier object at 0x7f907b8c79e8>>\n",
      "simplified using  <bound method Simplifier.rule_4 of <utilities.simplifier.Simplifier object at 0x7f907b8c79e8>>\n",
      "simplified using  <bound method Simplifier.rule_5 of <utilities.simplifier.Simplifier object at 0x7f907b8c79e8>>\n",
      "simplified using  <bound method Simplifier.rule_5 of <utilities.simplifier.Simplifier object at 0x7f907b8c79e8>>\n",
      "simplified using  <bound method Simplifier.rule_5 of <utilities.simplifier.Simplifier object at 0x7f907b8c79e8>>\n",
      "simplified using  <bound method Simplifier.rule_5 of <utilities.simplifier.Simplifier object at 0x7f907b8c79e8>>\n",
      "simplified using  <bound method Simplifier.rule_2 of <utilities.simplifier.Simplifier object at 0x7f907b8c79e8>>\n",
      "simplified using  <bound method Simplifier.rule_2 of <utilities.simplifier.Simplifier object at 0x7f907b8c79e8>>\n",
      "simplified using  <bound method Simplifier.rule_2 of <utilities.simplifier.Simplifier object at 0x7f907b8c79e8>>\n",
      "simplified using  <bound method Simplifier.rule_2 of <utilities.simplifier.Simplifier object at 0x7f907b8c79e8>>\n",
      "simplified using  <bound method Simplifier.rule_2 of <utilities.simplifier.Simplifier object at 0x7f907b8c79e8>>\n",
      "simplified using  <bound method Simplifier.rule_2 of <utilities.simplifier.Simplifier object at 0x7f907b8c79e8>>\n",
      "simplified using  <bound method Simplifier.rule_2 of <utilities.simplifier.Simplifier object at 0x7f907b8c79e8>>\n",
      "simplified using  <bound method Simplifier.rule_2 of <utilities.simplifier.Simplifier object at 0x7f907b8c79e8>>\n",
      "simplified using  <bound method Simplifier.rule_2 of <utilities.simplifier.Simplifier object at 0x7f907b8c79e8>>\n",
      "simplified using  <bound method Simplifier.rule_2 of <utilities.simplifier.Simplifier object at 0x7f907b8c79e8>>\n",
      "simplified using  <bound method Simplifier.rule_2 of <utilities.simplifier.Simplifier object at 0x7f907b8c79e8>>\n",
      "simplified using  <bound method Simplifier.rule_2 of <utilities.simplifier.Simplifier object at 0x7f907b8c79e8>>\n",
      "simplified using  <bound method Simplifier.rule_4 of <utilities.simplifier.Simplifier object at 0x7f907b8c79e8>>\n",
      "simplified using  <bound method Simplifier.rule_4 of <utilities.simplifier.Simplifier object at 0x7f907b8c79e8>>\n",
      "simplified using  <bound method Simplifier.rule_4 of <utilities.simplifier.Simplifier object at 0x7f907b8c79e8>>\n",
      "simplified using  <bound method Simplifier.rule_4 of <utilities.simplifier.Simplifier object at 0x7f907b8c79e8>>\n",
      "simplified using  <bound method Simplifier.rule_4 of <utilities.simplifier.Simplifier object at 0x7f907b8c79e8>>\n",
      "simplified using  <bound method Simplifier.rule_4 of <utilities.simplifier.Simplifier object at 0x7f907b8c79e8>>\n",
      "simplified using  <bound method Simplifier.rule_4 of <utilities.simplifier.Simplifier object at 0x7f907b8c79e8>>\n",
      "simplified using  <bound method Simplifier.rule_4 of <utilities.simplifier.Simplifier object at 0x7f907b8c79e8>>\n",
      "simplified using  <bound method Simplifier.rule_4 of <utilities.simplifier.Simplifier object at 0x7f907b8c79e8>>\n",
      "simplified using  <bound method Simplifier.rule_4 of <utilities.simplifier.Simplifier object at 0x7f907b8c79e8>>\n",
      "simplified using  <bound method Simplifier.rule_4 of <utilities.simplifier.Simplifier object at 0x7f907b8c79e8>>\n",
      "simplified using  <bound method Simplifier.rule_4 of <utilities.simplifier.Simplifier object at 0x7f907b8c79e8>>\n",
      "simplified using  <bound method Simplifier.rule_4 of <utilities.simplifier.Simplifier object at 0x7f907b8c79e8>>\n",
      "simplified using  <bound method Simplifier.rule_4 of <utilities.simplifier.Simplifier object at 0x7f907b8c79e8>>\n",
      "simplified using  <bound method Simplifier.rule_4 of <utilities.simplifier.Simplifier object at 0x7f907b8c79e8>>\n",
      "simplified using  <bound method Simplifier.rule_4 of <utilities.simplifier.Simplifier object at 0x7f907b8c79e8>>\n",
      "simplified using  <bound method Simplifier.rule_4 of <utilities.simplifier.Simplifier object at 0x7f907b8c79e8>>\n",
      "simplified using  <bound method Simplifier.rule_4 of <utilities.simplifier.Simplifier object at 0x7f907b8c79e8>>\n",
      "simplified using  <bound method Simplifier.rule_4 of <utilities.simplifier.Simplifier object at 0x7f907b8c79e8>>\n",
      "simplified using  <bound method Simplifier.rule_4 of <utilities.simplifier.Simplifier object at 0x7f907b8c79e8>>\n",
      "simplified using  <bound method Simplifier.rule_5 of <utilities.simplifier.Simplifier object at 0x7f907b8c79e8>>\n",
      "simplified using  <bound method Simplifier.rule_5 of <utilities.simplifier.Simplifier object at 0x7f907b8c79e8>>\n",
      "simplified using  <bound method Simplifier.rule_5 of <utilities.simplifier.Simplifier object at 0x7f907b8c79e8>>\n",
      "simplified using  <bound method Simplifier.rule_5 of <utilities.simplifier.Simplifier object at 0x7f907b8c79e8>>\n"
     ]
    }
   ],
   "source": [
    "np.random.seed(0)\n",
    "translator = CirqTranslater(4, untouchable_blocks = [])\n",
    "\n",
    "translator.env_qubits = [2]\n",
    "\n",
    "simplifier = Simplifier(translator)\n",
    "etas = [0.01, 1.]\n",
    "minimizer = Minimizer(translator, mode=\"discrimination\", params=etas)\n",
    "\n",
    "\n",
    "ddb =concatenate_dbs([x_layer_db(translator)]*2 +[z_layer_db(translator)]*2 + [x_layer_db(translator)]*1 + [x_layer_db(translator)]*2 +  [z_layer_db(translator)]*2 )\n",
    "\n",
    "cnots = list(np.squeeze(np.array([[k,k] for k in range(translator.number_of_cnots)]).reshape([-1,1])))\n",
    "ddbc = pd.DataFrame([gate_template(k) for k in cnots])\n",
    "\n",
    "cdb = concatenate_dbs([ddbc, ddb])\n",
    "circuit, circuit_db = translator.give_circuit(cdb)\n",
    "\n",
    "\n",
    "dd1  =circuit_db.copy()\n",
    "dd1[\"block_id\"] = 1\n",
    "dd1[\"symbol\"] = None\n",
    "circuit_db = concatenate_dbs([circuit_db, dd1])\n",
    "c, circuit_db = translator.give_circuit(circuit_db)\n",
    "\n",
    "simplifier = Simplifier(translator, apply_relatives_to_first = True)\n",
    "simplifier.apply_relatives_to_first = True\n",
    "simplifier.relative_rules = [simplifier.rule_1]\n",
    "simplified_db, ns = simplifier.reduce_circuit(circuit_db)\n",
    "ss, simplified_db = translator.give_circuit(simplified_db)"
   ]
  },
  {
   "cell_type": "code",
   "execution_count": 11,
   "id": "imported-stevens",
   "metadata": {},
   "outputs": [
    {
     "name": "stdout",
     "output_type": "stream",
     "text": [
      "\n",
      "\n",
      "0.0003156765387448153\n",
      "                                                   ┌──┐   ┌──┐                                                                                                                                                                                                                    ┌──┐   ┌──┐\n",
      "(0, 0): ───@───@───@───@───@───@───X───X─────────────X──────X────────────────────X───X───Rx(th_0)───Rx(th_4)───Rz(th_8)───Rz(th_12)───Rx(th_16)───Rx(th_20)───Rx(th_24)───Rz(th_28)───Rz(th_32)───────────────────────────@───────────@───────────@───@───@───@───X───X─────────────X──────X────────────────────X───X───Rx(th_36)───Rx(th_40)───Rz(th_44)───Rz(th_48)───Rx(th_52)───Rx(th_56)───Rx(th_60)───Rz(th_64)───Rz(th_68)───────────────────────────────────────────────────\n",
      "           │   │   │   │   │   │   │   │             │      │                    │   │                                                                                                                                    │           │           │   │   │   │   │   │             │      │                    │   │\n",
      "(0, 1): ───X───X───┼───┼───┼───┼───@───@───@───@────@┼─────@┼────X───X───────────┼───┼───X──────────X──────────Rx(th_1)───Rx(th_5)────Rz(th_9)────Rz(th_13)───Rx(th_17)───Rx(th_21)───Rx(th_25)───Rz(th_29)───Rz(th_33)───X───────────X───────────┼───┼───┼───┼───@───@───@───@────@┼─────@┼────X───X───────────┼───┼───X───────────X───────────Rx(th_37)───Rx(th_41)───Rz(th_45)───Rz(th_49)───Rx(th_53)───Rx(th_57)───Rx(th_61)───Rz(th_65)───Rz(th_69)───────────────────────────\n",
      "                   │   │   │   │           │   │    ││     ││    │   │           │   │   │          │                                                                                                                                             │   │   │   │           │   │    ││     ││    │   │           │   │   │           │\n",
      "(0, 2): ───────────X───X───┼───┼───────────X───X────┼@─────┼@────@───@───@───@───┼───┼───┼──────────┼──────────X──────────X───────────Rx(th_2)────Rx(th_6)────Rz(th_10)───Rz(th_14)───Rx(th_18)───Rx(th_22)───Rx(th_26)───Rz(th_30)───Rz(th_34)───X───X───┼───┼───────────X───X────┼@─────┼@────@───@───@───@───┼───┼───┼───────────┼───────────X───────────X───────────Rx(th_38)───Rx(th_42)───Rz(th_46)───Rz(th_50)───Rx(th_54)───Rx(th_58)───Rx(th_62)───Rz(th_66)───Rz(th_70)───\n",
      "                           │   │                    │      │             │   │   │   │   │          │          │          │                                                                                                                               │   │                    │      │             │   │   │   │   │           │           │           │\n",
      "(0, 3): ───────────────────X───X────────────────────X──────X─────────────X───X───@───@───@──────────@──────────@──────────@───────────Rx(th_3)────Rx(th_7)────Rz(th_11)───Rz(th_15)───Rx(th_19)───Rx(th_23)───Rx(th_27)───Rz(th_31)───Rz(th_35)───────────X───X────────────────────X──────X─────────────X───X───@───@───@───────────@───────────@───────────@───────────Rx(th_39)───Rx(th_43)───Rz(th_47)───Rz(th_51)───Rx(th_55)───Rx(th_59)───Rx(th_63)───Rz(th_67)───Rz(th_71)───\n",
      "                                                   └──┘   └──┘                                                                                                                                                                                                                    └──┘   └──┘\n",
      "\n",
      "(0, 0): ───Rz(th_0)───Rx(th_4)───Rz(th_8)────Rz(th_12)───Rx(th_16)───Rz(th_20)───\n",
      "\n",
      "(0, 1): ───Rz(th_1)───Rx(th_5)───Rz(th_9)────Rz(th_13)───Rx(th_17)───Rz(th_21)───\n",
      "\n",
      "(0, 2): ───Rz(th_2)───Rx(th_6)───Rz(th_10)───Rz(th_14)───Rx(th_18)───Rz(th_22)───\n",
      "\n",
      "(0, 3): ───Rz(th_3)───Rx(th_7)───Rz(th_11)───Rz(th_15)───Rx(th_19)───Rz(th_23)───\n"
     ]
    }
   ],
   "source": [
    "mdif = max_diff(translator , circuit_db, simplified_db)\n",
    "print(\"\\n\")\n",
    "print(mdif)\n",
    "print(c)\n",
    "print()\n",
    "print(ss)"
   ]
  },
  {
   "cell_type": "code",
   "execution_count": 12,
   "id": "tough-auckland",
   "metadata": {},
   "outputs": [
    {
     "data": {
      "text/plain": [
       "24"
      ]
     },
     "execution_count": 12,
     "metadata": {},
     "output_type": "execute_result"
    }
   ],
   "source": [
    "len(simplified_db)"
   ]
  },
  {
   "cell_type": "code",
   "execution_count": 13,
   "id": "wired-europe",
   "metadata": {},
   "outputs": [
    {
     "data": {
      "text/plain": [
       "120"
      ]
     },
     "execution_count": 13,
     "metadata": {},
     "output_type": "execute_result"
    }
   ],
   "source": [
    "len(circuit_db)"
   ]
  },
  {
   "cell_type": "code",
   "execution_count": 16,
   "id": "developmental-empire",
   "metadata": {},
   "outputs": [
    {
     "name": "stdout",
     "output_type": "stream",
     "text": [
      "simplified using  <bound method Simplifier.rule_2 of <utilities.simplifier.Simplifier object at 0x7f90a45dd160>>\n",
      "simplified using  <bound method Simplifier.rule_2 of <utilities.simplifier.Simplifier object at 0x7f90a45dd160>>\n",
      "simplified using  <bound method Simplifier.rule_2 of <utilities.simplifier.Simplifier object at 0x7f90a45dd160>>\n",
      "simplified using  <bound method Simplifier.rule_2 of <utilities.simplifier.Simplifier object at 0x7f90a45dd160>>\n",
      "simplified using  <bound method Simplifier.rule_2 of <utilities.simplifier.Simplifier object at 0x7f90a45dd160>>\n",
      "simplified using  <bound method Simplifier.rule_2 of <utilities.simplifier.Simplifier object at 0x7f90a45dd160>>\n",
      "simplified using  <bound method Simplifier.rule_2 of <utilities.simplifier.Simplifier object at 0x7f90a45dd160>>\n",
      "simplified using  <bound method Simplifier.rule_2 of <utilities.simplifier.Simplifier object at 0x7f90a45dd160>>\n",
      "simplified using  <bound method Simplifier.rule_2 of <utilities.simplifier.Simplifier object at 0x7f90a45dd160>>\n",
      "simplified using  <bound method Simplifier.rule_2 of <utilities.simplifier.Simplifier object at 0x7f90a45dd160>>\n",
      "simplified using  <bound method Simplifier.rule_2 of <utilities.simplifier.Simplifier object at 0x7f90a45dd160>>\n",
      "simplified using  <bound method Simplifier.rule_2 of <utilities.simplifier.Simplifier object at 0x7f90a45dd160>>\n",
      "simplified using  <bound method Simplifier.rule_4 of <utilities.simplifier.Simplifier object at 0x7f90a45dd160>>\n",
      "simplified using  <bound method Simplifier.rule_4 of <utilities.simplifier.Simplifier object at 0x7f90a45dd160>>\n",
      "simplified using  <bound method Simplifier.rule_4 of <utilities.simplifier.Simplifier object at 0x7f90a45dd160>>\n",
      "simplified using  <bound method Simplifier.rule_4 of <utilities.simplifier.Simplifier object at 0x7f90a45dd160>>\n",
      "simplified using  <bound method Simplifier.rule_4 of <utilities.simplifier.Simplifier object at 0x7f90a45dd160>>\n",
      "simplified using  <bound method Simplifier.rule_4 of <utilities.simplifier.Simplifier object at 0x7f90a45dd160>>\n",
      "simplified using  <bound method Simplifier.rule_4 of <utilities.simplifier.Simplifier object at 0x7f90a45dd160>>\n",
      "simplified using  <bound method Simplifier.rule_4 of <utilities.simplifier.Simplifier object at 0x7f90a45dd160>>\n",
      "simplified using  <bound method Simplifier.rule_4 of <utilities.simplifier.Simplifier object at 0x7f90a45dd160>>\n",
      "simplified using  <bound method Simplifier.rule_4 of <utilities.simplifier.Simplifier object at 0x7f90a45dd160>>\n",
      "simplified using  <bound method Simplifier.rule_4 of <utilities.simplifier.Simplifier object at 0x7f90a45dd160>>\n",
      "simplified using  <bound method Simplifier.rule_4 of <utilities.simplifier.Simplifier object at 0x7f90a45dd160>>\n",
      "simplified using  <bound method Simplifier.rule_4 of <utilities.simplifier.Simplifier object at 0x7f90a45dd160>>\n",
      "simplified using  <bound method Simplifier.rule_4 of <utilities.simplifier.Simplifier object at 0x7f90a45dd160>>\n",
      "simplified using  <bound method Simplifier.rule_4 of <utilities.simplifier.Simplifier object at 0x7f90a45dd160>>\n",
      "simplified using  <bound method Simplifier.rule_4 of <utilities.simplifier.Simplifier object at 0x7f90a45dd160>>\n",
      "simplified using  <bound method Simplifier.rule_4 of <utilities.simplifier.Simplifier object at 0x7f90a45dd160>>\n",
      "simplified using  <bound method Simplifier.rule_4 of <utilities.simplifier.Simplifier object at 0x7f90a45dd160>>\n",
      "simplified using  <bound method Simplifier.rule_4 of <utilities.simplifier.Simplifier object at 0x7f90a45dd160>>\n",
      "simplified using  <bound method Simplifier.rule_4 of <utilities.simplifier.Simplifier object at 0x7f90a45dd160>>\n",
      "simplified using  <bound method Simplifier.rule_5 of <utilities.simplifier.Simplifier object at 0x7f90a45dd160>>\n",
      "simplified using  <bound method Simplifier.rule_5 of <utilities.simplifier.Simplifier object at 0x7f90a45dd160>>\n",
      "simplified using  <bound method Simplifier.rule_5 of <utilities.simplifier.Simplifier object at 0x7f90a45dd160>>\n",
      "simplified using  <bound method Simplifier.rule_5 of <utilities.simplifier.Simplifier object at 0x7f90a45dd160>>\n"
     ]
    }
   ],
   "source": [
    "np.random.seed(0)\n",
    "translator = CirqTranslater(4, untouchable_blocks = [0])\n",
    "\n",
    "translator.env_qubits = [2]\n",
    "\n",
    "simplifier = Simplifier(translator)\n",
    "etas = [0.01, 1.]\n",
    "minimizer = Minimizer(translator, mode=\"discrimination\", params=etas)\n",
    "\n",
    "\n",
    "ddb =concatenate_dbs([x_layer_db(translator)]*2 +[z_layer_db(translator)]*2 + [x_layer_db(translator)]*1 + [x_layer_db(translator)]*2 +  [z_layer_db(translator)]*2 )\n",
    "\n",
    "cnots = list(np.squeeze(np.array([[k,k] for k in range(translator.number_of_cnots)]).reshape([-1,1])))\n",
    "ddbc = pd.DataFrame([gate_template(k) for k in cnots])\n",
    "\n",
    "cdb = concatenate_dbs([ddbc, ddb])\n",
    "circuit, circuit_db = translator.give_circuit(cdb)\n",
    "\n",
    "\n",
    "dd1  =circuit_db.copy()\n",
    "dd1[\"block_id\"] = 1\n",
    "dd1[\"symbol\"] = None\n",
    "circuit_db = concatenate_dbs([circuit_db, dd1])\n",
    "c, circuit_db = translator.give_circuit(circuit_db)\n",
    "\n",
    "simplifier = Simplifier(translator, apply_relatives_to_first = True)\n",
    "simplifier.apply_relatives_to_first = True\n",
    "simplifier.relative_rules = [simplifier.rule_1, simplifier.rule_3]\n",
    "simplified_db, ns = simplifier.reduce_circuit(circuit_db)\n",
    "ss, simplified_db = translator.give_circuit(simplified_db)"
   ]
  },
  {
   "cell_type": "code",
   "execution_count": 17,
   "id": "corporate-upgrade",
   "metadata": {},
   "outputs": [
    {
     "name": "stdout",
     "output_type": "stream",
     "text": [
      "\n",
      "\n",
      "0.00030185333546601135\n",
      "                                                   ┌──┐   ┌──┐                                                                                                                                                                                                                    ┌──┐   ┌──┐\n",
      "(0, 0): ───@───@───@───@───@───@───X───X─────────────X──────X────────────────────X───X───Rx(th_0)───Rx(th_4)───Rz(th_8)───Rz(th_12)───Rx(th_16)───Rx(th_20)───Rx(th_24)───Rz(th_28)───Rz(th_32)───────────────────────────@───────────@───────────@───@───@───@───X───X─────────────X──────X────────────────────X───X───Rx(th_36)───Rx(th_40)───Rz(th_44)───Rz(th_48)───Rx(th_52)───Rx(th_56)───Rx(th_60)───Rz(th_64)───Rz(th_68)───────────────────────────────────────────────────\n",
      "           │   │   │   │   │   │   │   │             │      │                    │   │                                                                                                                                    │           │           │   │   │   │   │   │             │      │                    │   │\n",
      "(0, 1): ───X───X───┼───┼───┼───┼───@───@───@───@────@┼─────@┼────X───X───────────┼───┼───X──────────X──────────Rx(th_1)───Rx(th_5)────Rz(th_9)────Rz(th_13)───Rx(th_17)───Rx(th_21)───Rx(th_25)───Rz(th_29)───Rz(th_33)───X───────────X───────────┼───┼───┼───┼───@───@───@───@────@┼─────@┼────X───X───────────┼───┼───X───────────X───────────Rx(th_37)───Rx(th_41)───Rz(th_45)───Rz(th_49)───Rx(th_53)───Rx(th_57)───Rx(th_61)───Rz(th_65)───Rz(th_69)───────────────────────────\n",
      "                   │   │   │   │           │   │    ││     ││    │   │           │   │   │          │                                                                                                                                             │   │   │   │           │   │    ││     ││    │   │           │   │   │           │\n",
      "(0, 2): ───────────X───X───┼───┼───────────X───X────┼@─────┼@────@───@───@───@───┼───┼───┼──────────┼──────────X──────────X───────────Rx(th_2)────Rx(th_6)────Rz(th_10)───Rz(th_14)───Rx(th_18)───Rx(th_22)───Rx(th_26)───Rz(th_30)───Rz(th_34)───X───X───┼───┼───────────X───X────┼@─────┼@────@───@───@───@───┼───┼───┼───────────┼───────────X───────────X───────────Rx(th_38)───Rx(th_42)───Rz(th_46)───Rz(th_50)───Rx(th_54)───Rx(th_58)───Rx(th_62)───Rz(th_66)───Rz(th_70)───\n",
      "                           │   │                    │      │             │   │   │   │   │          │          │          │                                                                                                                               │   │                    │      │             │   │   │   │   │           │           │           │\n",
      "(0, 3): ───────────────────X───X────────────────────X──────X─────────────X───X───@───@───@──────────@──────────@──────────@───────────Rx(th_3)────Rx(th_7)────Rz(th_11)───Rz(th_15)───Rx(th_19)───Rx(th_23)───Rx(th_27)───Rz(th_31)───Rz(th_35)───────────X───X────────────────────X──────X─────────────X───X───@───@───@───────────@───────────@───────────@───────────Rx(th_39)───Rx(th_43)───Rz(th_47)───Rz(th_51)───Rx(th_55)───Rx(th_59)───Rx(th_63)───Rz(th_67)───Rz(th_71)───\n",
      "                                                   └──┘   └──┘                                                                                                                                                                                                                    └──┘   └──┘\n",
      "\n",
      "                                                   ┌──┐   ┌──┐\n",
      "(0, 0): ───@───@───@───@───@───@───X───X─────────────X──────X────────────────────X───X───Rx(th_0)───Rx(th_4)───Rz(th_8)───Rz(th_12)───Rx(th_16)───Rx(th_20)───Rx(th_24)───Rz(th_28)───Rz(th_32)───Rz(th_36)───Rx(th_40)───Rz(th_44)───────────────────────────────────────────────────\n",
      "           │   │   │   │   │   │   │   │             │      │                    │   │\n",
      "(0, 1): ───X───X───┼───┼───┼───┼───@───@───@───@────@┼─────@┼────X───X───────────┼───┼───X──────────X──────────Rx(th_1)───Rx(th_5)────Rz(th_9)────Rz(th_13)───Rx(th_17)───Rx(th_21)───Rx(th_25)───Rz(th_29)───Rz(th_33)───Rz(th_37)───Rx(th_41)───Rz(th_45)───────────────────────────\n",
      "                   │   │   │   │           │   │    ││     ││    │   │           │   │   │          │\n",
      "(0, 2): ───────────X───X───┼───┼───────────X───X────┼@─────┼@────@───@───@───@───┼───┼───┼──────────┼──────────X──────────X───────────Rx(th_2)────Rx(th_6)────Rz(th_10)───Rz(th_14)───Rx(th_18)───Rx(th_22)───Rx(th_26)───Rz(th_30)───Rz(th_34)───Rz(th_38)───Rx(th_42)───Rz(th_46)───\n",
      "                           │   │                    │      │             │   │   │   │   │          │          │          │\n",
      "(0, 3): ───────────────────X───X────────────────────X──────X─────────────X───X───@───@───@──────────@──────────@──────────@───────────Rx(th_3)────Rx(th_7)────Rz(th_11)───Rz(th_15)───Rx(th_19)───Rx(th_23)───Rx(th_27)───Rz(th_31)───Rz(th_35)───Rz(th_39)───Rx(th_43)───Rz(th_47)───\n",
      "                                                   └──┘   └──┘\n"
     ]
    }
   ],
   "source": [
    "mdif = max_diff(translator , circuit_db, simplified_db)\n",
    "print(\"\\n\")\n",
    "print(mdif)\n",
    "print(c)\n",
    "print()\n",
    "print(ss)"
   ]
  },
  {
   "cell_type": "code",
   "execution_count": 8,
   "id": "heard-square",
   "metadata": {},
   "outputs": [
    {
     "data": {
      "text/plain": [
       "(120, 72)"
      ]
     },
     "execution_count": 8,
     "metadata": {},
     "output_type": "execute_result"
    }
   ],
   "source": [
    "len(circuit_db), len(simplified_db)"
   ]
  },
  {
   "cell_type": "code",
   "execution_count": null,
   "id": "northern-donna",
   "metadata": {},
   "outputs": [],
   "source": []
  }
 ],
 "metadata": {
  "kernelspec": {
   "display_name": "Python 3",
   "language": "python",
   "name": "python3"
  },
  "language_info": {
   "codemirror_mode": {
    "name": "ipython",
    "version": 3
   },
   "file_extension": ".py",
   "mimetype": "text/x-python",
   "name": "python",
   "nbconvert_exporter": "python",
   "pygments_lexer": "ipython3",
   "version": "3.6.9"
  }
 },
 "nbformat": 4,
 "nbformat_minor": 5
}
