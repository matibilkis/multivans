{
 "cells": [
  {
   "cell_type": "markdown",
   "id": "israeli-cathedral",
   "metadata": {},
   "source": [
    "In this notebook we give a proof of concept of unitary compiling using TFQ. "
   ]
  },
  {
   "cell_type": "code",
   "execution_count": 1,
   "id": "cleared-explorer",
   "metadata": {},
   "outputs": [],
   "source": [
    "%load_ext autoreload\n",
    "%autoreload 2\n",
    "\n",
    "import sympy \n",
    "import numpy as np \n",
    "import pandas as pd \n",
    "import tensorflow as tf\n",
    "from utilities.circuit_database import CirqTranslater\n",
    "from utilities.templates import *\n",
    "from utilities.variational import Minimizer\n",
    "import matplotlib.pyplot as plt \n",
    "import tensorflow_quantum as tfq\n",
    "import cirq\n",
    "from utilities.compiling import *\n",
    "from utilities.misc import *\n",
    "from utilities.simplifier import Simplifier\n",
    "from utilities.discrimination import *\n",
    "from utilities.idinserter import IdInserter\n",
    "from utilities.evaluator import Evaluator\n",
    "from utilities.gate_killer import GateKiller\n",
    "from ast import literal_eval\n"
   ]
  },
  {
   "cell_type": "code",
   "execution_count": 2,
   "id": "nominated-collectible",
   "metadata": {
    "scrolled": true
   },
   "outputs": [
    {
     "name": "stdout",
     "output_type": "stream",
     "text": [
      "simplified using  <bound method Simplifier.rule_4 of <utilities.simplifier.Simplifier object at 0x7f94262e70f0>>\n",
      "simplified using  <bound method Simplifier.rule_4 of <utilities.simplifier.Simplifier object at 0x7f94262e70f0>>\n",
      "simplified using  <bound method Simplifier.rule_4 of <utilities.simplifier.Simplifier object at 0x7f94262e70f0>>\n",
      "simplified using  <bound method Simplifier.rule_4 of <utilities.simplifier.Simplifier object at 0x7f94262e70f0>>\n",
      "simplified using  <bound method Simplifier.rule_4 of <utilities.simplifier.Simplifier object at 0x7f94262e70f0>>\n",
      "simplified using  <bound method Simplifier.rule_4 of <utilities.simplifier.Simplifier object at 0x7f94262e70f0>>\n",
      "simplified using  <bound method Simplifier.rule_4 of <utilities.simplifier.Simplifier object at 0x7f94262e70f0>>\n",
      "simplified using  <bound method Simplifier.rule_4 of <utilities.simplifier.Simplifier object at 0x7f94262e70f0>>\n",
      "simplified using  <bound method Simplifier.rule_4 of <utilities.simplifier.Simplifier object at 0x7f94262e70f0>>\n",
      "simplified using  <bound method Simplifier.rule_5 of <utilities.simplifier.Simplifier object at 0x7f94262e70f0>>\n",
      "simplified using  <bound method Simplifier.rule_5 of <utilities.simplifier.Simplifier object at 0x7f94262e70f0>>\n",
      "simplified using  <bound method Simplifier.rule_5 of <utilities.simplifier.Simplifier object at 0x7f94262e70f0>>\n",
      "simplified using  <bound method Simplifier.rule_5 of <utilities.simplifier.Simplifier object at 0x7f94262e70f0>>\n",
      "simplified using  <bound method Simplifier.rule_5 of <utilities.simplifier.Simplifier object at 0x7f94262e70f0>>\n",
      "simplified using  <bound method Simplifier.rule_5 of <utilities.simplifier.Simplifier object at 0x7f94262e70f0>>\n",
      "simplified using  <bound method Simplifier.rule_5 of <utilities.simplifier.Simplifier object at 0x7f94262e70f0>>\n",
      "simplified using  <bound method Simplifier.rule_5 of <utilities.simplifier.Simplifier object at 0x7f94262e70f0>>\n",
      "simplified using  <bound method Simplifier.rule_5 of <utilities.simplifier.Simplifier object at 0x7f94262e70f0>>\n",
      "simplified using  <bound method Simplifier.rule_6 of <utilities.simplifier.Simplifier object at 0x7f94262e70f0>>\n",
      "simplified using  <bound method Simplifier.rule_6 of <utilities.simplifier.Simplifier object at 0x7f94262e70f0>>\n",
      "simplified using  <bound method Simplifier.rule_6 of <utilities.simplifier.Simplifier object at 0x7f94262e70f0>>\n",
      "simplified using  <bound method Simplifier.rule_6 of <utilities.simplifier.Simplifier object at 0x7f94262e70f0>>\n",
      "simplified using  <bound method Simplifier.rule_6 of <utilities.simplifier.Simplifier object at 0x7f94262e70f0>>\n",
      "simplified using  <bound method Simplifier.rule_6 of <utilities.simplifier.Simplifier object at 0x7f94262e70f0>>\n",
      "simplified using  <bound method Simplifier.rule_4 of <utilities.simplifier.Simplifier object at 0x7f94262e70f0>>\n",
      "simplified using  <bound method Simplifier.rule_4 of <utilities.simplifier.Simplifier object at 0x7f94262e70f0>>\n",
      "simplified using  <bound method Simplifier.rule_4 of <utilities.simplifier.Simplifier object at 0x7f94262e70f0>>\n",
      "simplified using  <bound method Simplifier.rule_4 of <utilities.simplifier.Simplifier object at 0x7f94262e70f0>>\n",
      "simplified using  <bound method Simplifier.rule_4 of <utilities.simplifier.Simplifier object at 0x7f94262e70f0>>\n",
      "simplified using  <bound method Simplifier.rule_4 of <utilities.simplifier.Simplifier object at 0x7f94262e70f0>>\n",
      "simplified using  <bound method Simplifier.rule_4 of <utilities.simplifier.Simplifier object at 0x7f94262e70f0>>\n",
      "simplified using  <bound method Simplifier.rule_4 of <utilities.simplifier.Simplifier object at 0x7f94262e70f0>>\n",
      "simplified using  <bound method Simplifier.rule_4 of <utilities.simplifier.Simplifier object at 0x7f94262e70f0>>\n",
      "simplified using  <bound method Simplifier.rule_4 of <utilities.simplifier.Simplifier object at 0x7f94262e70f0>>\n",
      "simplified using  <bound method Simplifier.rule_4 of <utilities.simplifier.Simplifier object at 0x7f94262e70f0>>\n",
      "simplified using  <bound method Simplifier.rule_4 of <utilities.simplifier.Simplifier object at 0x7f94262e70f0>>\n",
      "simplified using  <bound method Simplifier.rule_4 of <utilities.simplifier.Simplifier object at 0x7f94262e70f0>>\n",
      "simplified using  <bound method Simplifier.rule_4 of <utilities.simplifier.Simplifier object at 0x7f94262e70f0>>\n",
      "simplified using  <bound method Simplifier.rule_4 of <utilities.simplifier.Simplifier object at 0x7f94262e70f0>>\n",
      "simplified using  <bound method Simplifier.rule_4 of <utilities.simplifier.Simplifier object at 0x7f94262e70f0>>\n",
      "simplified using  <bound method Simplifier.rule_4 of <utilities.simplifier.Simplifier object at 0x7f94262e70f0>>\n",
      "simplified using  <bound method Simplifier.rule_4 of <utilities.simplifier.Simplifier object at 0x7f94262e70f0>>\n",
      "simplified using  <bound method Simplifier.rule_4 of <utilities.simplifier.Simplifier object at 0x7f94262e70f0>>\n",
      "simplified using  <bound method Simplifier.rule_4 of <utilities.simplifier.Simplifier object at 0x7f94262e70f0>>\n",
      "simplified using  <bound method Simplifier.rule_4 of <utilities.simplifier.Simplifier object at 0x7f94262e70f0>>\n",
      "simplified using  <bound method Simplifier.rule_5 of <utilities.simplifier.Simplifier object at 0x7f94262e70f0>>\n",
      "simplified using  <bound method Simplifier.rule_5 of <utilities.simplifier.Simplifier object at 0x7f94262e70f0>>\n",
      "simplified using  <bound method Simplifier.rule_5 of <utilities.simplifier.Simplifier object at 0x7f94262e70f0>>\n",
      "simplified using  <bound method Simplifier.rule_5 of <utilities.simplifier.Simplifier object at 0x7f94262e70f0>>\n",
      "simplified using  <bound method Simplifier.rule_5 of <utilities.simplifier.Simplifier object at 0x7f94262e70f0>>\n",
      "simplified using  <bound method Simplifier.rule_5 of <utilities.simplifier.Simplifier object at 0x7f94262e70f0>>\n",
      "simplified using  <bound method Simplifier.rule_5 of <utilities.simplifier.Simplifier object at 0x7f94262e70f0>>\n",
      "simplified using  <bound method Simplifier.rule_5 of <utilities.simplifier.Simplifier object at 0x7f94262e70f0>>\n",
      "simplified using  <bound method Simplifier.rule_5 of <utilities.simplifier.Simplifier object at 0x7f94262e70f0>>\n",
      "simplified using  <bound method Simplifier.rule_5 of <utilities.simplifier.Simplifier object at 0x7f94262e70f0>>\n",
      "simplified using  <bound method Simplifier.rule_5 of <utilities.simplifier.Simplifier object at 0x7f94262e70f0>>\n",
      "simplified using  <bound method Simplifier.rule_5 of <utilities.simplifier.Simplifier object at 0x7f94262e70f0>>\n",
      "simplified using  <bound method Simplifier.rule_5 of <utilities.simplifier.Simplifier object at 0x7f94262e70f0>>\n",
      "simplified using  <bound method Simplifier.rule_5 of <utilities.simplifier.Simplifier object at 0x7f94262e70f0>>\n",
      "simplified using  <bound method Simplifier.rule_5 of <utilities.simplifier.Simplifier object at 0x7f94262e70f0>>\n",
      "simplified using  <bound method Simplifier.rule_5 of <utilities.simplifier.Simplifier object at 0x7f94262e70f0>>\n",
      "simplified using  <bound method Simplifier.rule_5 of <utilities.simplifier.Simplifier object at 0x7f94262e70f0>>\n",
      "simplified using  <bound method Simplifier.rule_5 of <utilities.simplifier.Simplifier object at 0x7f94262e70f0>>\n",
      "simplified using  <bound method Simplifier.rule_5 of <utilities.simplifier.Simplifier object at 0x7f94262e70f0>>\n",
      "simplified using  <bound method Simplifier.rule_5 of <utilities.simplifier.Simplifier object at 0x7f94262e70f0>>\n",
      "simplified using  <bound method Simplifier.rule_5 of <utilities.simplifier.Simplifier object at 0x7f94262e70f0>>\n",
      "simplified using  <bound method Simplifier.rule_6 of <utilities.simplifier.Simplifier object at 0x7f94262e70f0>>\n",
      "simplified using  <bound method Simplifier.rule_6 of <utilities.simplifier.Simplifier object at 0x7f94262e70f0>>\n",
      "simplified using  <bound method Simplifier.rule_6 of <utilities.simplifier.Simplifier object at 0x7f94262e70f0>>\n",
      "simplified using  <bound method Simplifier.rule_6 of <utilities.simplifier.Simplifier object at 0x7f94262e70f0>>\n",
      "simplified using  <bound method Simplifier.rule_6 of <utilities.simplifier.Simplifier object at 0x7f94262e70f0>>\n",
      "simplified using  <bound method Simplifier.rule_6 of <utilities.simplifier.Simplifier object at 0x7f94262e70f0>>\n",
      "simplified using  <bound method Simplifier.rule_6 of <utilities.simplifier.Simplifier object at 0x7f94262e70f0>>\n",
      "simplified using  <bound method Simplifier.rule_6 of <utilities.simplifier.Simplifier object at 0x7f94262e70f0>>\n",
      "simplified using  <bound method Simplifier.rule_6 of <utilities.simplifier.Simplifier object at 0x7f94262e70f0>>\n",
      "simplified using  <bound method Simplifier.rule_6 of <utilities.simplifier.Simplifier object at 0x7f94262e70f0>>\n"
     ]
    },
    {
     "name": "stdout",
     "output_type": "stream",
     "text": [
      "simplified using  <bound method Simplifier.rule_6 of <utilities.simplifier.Simplifier object at 0x7f94262e70f0>>\n",
      "simplified using  <bound method Simplifier.rule_6 of <utilities.simplifier.Simplifier object at 0x7f94262e70f0>>\n"
     ]
    }
   ],
   "source": [
    "np.random.seed(0)\n",
    "translator = CirqTranslater(3, untouchable_blocks = [1])\n",
    "\n",
    "translator.env_qubits = [2]\n",
    "\n",
    "simplifier = Simplifier(translator)\n",
    "etas = [0.01, 1.]\n",
    "minimizer = Minimizer(translator, mode=\"discrimination\", params=etas)\n",
    "\n",
    "circuit_db = concatenate_dbs([u2_layer(translator)]*2)\n",
    "\n",
    "c, circuit_db = translator.give_circuit(circuit_db)\n",
    "\n",
    "dd1  =circuit_db.copy()\n",
    "dd1[\"block_id\"] = 1\n",
    "dd1[\"symbol\"] = None\n",
    "circuit_db = concatenate_dbs([circuit_db, dd1])\n",
    "c, circuit_db = translator.give_circuit(circuit_db)\n",
    "\n",
    "\n",
    "dd1  =circuit_db.copy()\n",
    "dd1[\"block_id\"] = 2\n",
    "dd1[\"symbol\"] = None\n",
    "circuit_db = concatenate_dbs([circuit_db, dd1])\n",
    "c, circuit_db = translator.give_circuit(circuit_db)\n",
    "\n",
    "\n",
    "simplifier = Simplifier(translator, apply_relatives_to_first = True)\n",
    "simplifier.apply_relatives_to_first = True\n",
    "simplifier.relative_rules = [simplifier.rule_1]\n",
    "simplified_db, ns = simplifier.reduce_circuit(circuit_db)\n",
    "ss, simplified_db = translator.give_circuit(simplified_db)"
   ]
  },
  {
   "cell_type": "code",
   "execution_count": 3,
   "id": "imported-stevens",
   "metadata": {},
   "outputs": [
    {
     "name": "stdout",
     "output_type": "stream",
     "text": [
      "\n",
      "\n",
      "0.002840115185851185\n",
      "(0, 0): ───Rz(th_0)────Rx(th_1)────Rz(th_2)────@───Rz(th_6)───X──────────────@───Rz(th_9)────Rx(th_10)───Rz(th_11)───Rz(th_33)───Rx(th_34)───Rz(th_35)───────────────────────────────────────────────────────────────────────────────────────────────────────────────X───Ry(th_37)───@───Ry(th_38)───X───Rz(th_42)───Rx(th_43)───Rz(th_44)───Rz(th_45)───Rx(th_46)───Rz(th_47)───@───Rz(th_51)───X───────────────@───Rz(th_54)───Rx(th_55)───Rz(th_56)───Rz(th_78)───Rx(th_79)───Rz(th_80)───────────────────────────────────────────────────────────────────────────────────────────────────────────────X───Ry(th_82)───@───Ry(th_83)───X───Rz(th_87)───Rx(th_88)───Rz(th_89)───Rz(th_90)────Rx(th_91)────Rz(th_92)────@───Rz(th_96)───X───────────────@───Rz(th_99)────Rx(th_100)───Rz(th_101)───Rz(th_123)───Rx(th_124)───Rz(th_125)───────────────────────────────────────────────────────────────────────────────────────────────────────────────────────X───Ry(th_127)───@───Ry(th_128)───X───Rz(th_132)───Rx(th_133)───Rz(th_134)───Rz(th_135)───Rx(th_136)───Rz(th_137)───@───Rz(th_141)───X────────────────@───Rz(th_144)───Rx(th_145)───Rz(th_146)───Rz(th_168)───Rx(th_169)───Rz(th_170)───────────────────────────────────────────────────────────────────────────────────────────────────────────────────────X───Ry(th_172)───@───Ry(th_173)───X───Rz(th_177)───Rx(th_178)───Rz(th_179)───Rz(th_180)───Rx(th_181)───Rz(th_182)───@───Rz(th_186)───X────────────────@───Rz(th_189)───Rx(th_190)───Rz(th_191)───Rz(th_213)───Rx(th_214)───Rz(th_215)───────────────────────────────────────────────────────────────────────────────────────────────────────────────────────X───Ry(th_217)───@───Ry(th_218)───X───Rz(th_222)───Rx(th_223)───Rz(th_224)───Rz(th_225)───Rx(th_226)───Rz(th_227)───@───Rz(th_231)───X────────────────@───Rz(th_234)───Rx(th_235)───Rz(th_236)───Rz(th_258)───Rx(th_259)───Rz(th_260)───────────────────────────────────────────────────────────────────────────────────────────────────────────────────────X───Ry(th_262)───@───Ry(th_263)───X───Rz(th_267)───Rx(th_268)───Rz(th_269)───Rz(th_270)───Rx(th_271)───Rz(th_272)───@───Rz(th_276)───X────────────────@───Rz(th_279)───Rx(th_280)───Rz(th_281)───Rz(th_303)───Rx(th_304)───Rz(th_305)───────────────────────────────────────────────────────────────────────────────────────────────────────────────────────X───Ry(th_307)───@───Ry(th_308)───X───Rz(th_312)───Rx(th_313)───Rz(th_314)───Rz(th_315)───Rx(th_316)───Rz(th_317)───@───Rz(th_321)───X────────────────@───Rz(th_324)───Rx(th_325)───Rz(th_326)───Rz(th_348)───Rx(th_349)───Rz(th_350)───────────────────────────────────────────────────────────────────────────────────────────────────────────────────────X───Ry(th_352)───@───Ry(th_353)───X───Rz(th_357)───Rx(th_358)───Rz(th_359)───\n",
      "                                               │              │              │                                                                                                                                                                                       │               │               │                                                                           │               │               │                                                                                                                                                                                       │               │               │                                                                              │               │               │                                                                                                                                                                                                     │                │                │                                                                                 │                │                │                                                                                                                                                                                                     │                │                │                                                                                 │                │                │                                                                                                                                                                                                     │                │                │                                                                                 │                │                │                                                                                                                                                                                                     │                │                │                                                                                 │                │                │                                                                                                                                                                                                     │                │                │                                                                                 │                │                │                                                                                                                                                                                                     │                │                │\n",
      "(0, 1): ───Rz(th_3)────Rx(th_4)────Rz(th_5)────X───Ry(th_7)───@───Ry(th_8)───X───Rz(th_12)───Rx(th_13)───Rz(th_14)───Rz(th_15)───Rx(th_16)───Rz(th_17)───@───Rz(th_21)───X───────────────@───Rz(th_24)───Rx(th_25)───Rz(th_26)───Rz(th_48)───Rx(th_49)───Rz(th_50)───┼───────────────┼───────────────┼───────────────────────────────────────────────────────────────────────────X───Ry(th_52)───@───Ry(th_53)───X───Rz(th_57)───Rx(th_58)───Rz(th_59)───Rz(th_60)───Rx(th_61)───Rz(th_62)───@───Rz(th_66)───X───────────────@───Rz(th_69)───Rx(th_70)───Rz(th_71)───Rz(th_93)───Rx(th_94)───Rz(th_95)───┼───────────────┼───────────────┼──────────────────────────────────────────────────────────────────────────────X───Ry(th_97)───@───Ry(th_98)───X───Rz(th_102)───Rx(th_103)───Rz(th_104)───Rz(th_105)───Rx(th_106)───Rz(th_107)───@───Rz(th_111)───X────────────────@───Rz(th_114)───Rx(th_115)───Rz(th_116)───Rz(th_138)───Rx(th_139)───Rz(th_140)───┼────────────────┼────────────────┼─────────────────────────────────────────────────────────────────────────────────X───Ry(th_142)───@───Ry(th_143)───X───Rz(th_147)───Rx(th_148)───Rz(th_149)───Rz(th_150)───Rx(th_151)───Rz(th_152)───@───Rz(th_156)───X────────────────@───Rz(th_159)───Rx(th_160)───Rz(th_161)───Rz(th_183)───Rx(th_184)───Rz(th_185)───┼────────────────┼────────────────┼─────────────────────────────────────────────────────────────────────────────────X───Ry(th_187)───@───Ry(th_188)───X───Rz(th_192)───Rx(th_193)───Rz(th_194)───Rz(th_195)───Rx(th_196)───Rz(th_197)───@───Rz(th_201)───X────────────────@───Rz(th_204)───Rx(th_205)───Rz(th_206)───Rz(th_228)───Rx(th_229)───Rz(th_230)───┼────────────────┼────────────────┼─────────────────────────────────────────────────────────────────────────────────X───Ry(th_232)───@───Ry(th_233)───X───Rz(th_237)───Rx(th_238)───Rz(th_239)───Rz(th_240)───Rx(th_241)───Rz(th_242)───@───Rz(th_246)───X────────────────@───Rz(th_249)───Rx(th_250)───Rz(th_251)───Rz(th_273)───Rx(th_274)───Rz(th_275)───┼────────────────┼────────────────┼─────────────────────────────────────────────────────────────────────────────────X───Ry(th_277)───@───Ry(th_278)───X───Rz(th_282)───Rx(th_283)───Rz(th_284)───Rz(th_285)───Rx(th_286)───Rz(th_287)───@───Rz(th_291)───X────────────────@───Rz(th_294)───Rx(th_295)───Rz(th_296)───Rz(th_318)───Rx(th_319)───Rz(th_320)───┼────────────────┼────────────────┼─────────────────────────────────────────────────────────────────────────────────X───Ry(th_322)───@───Ry(th_323)───X───Rz(th_327)───Rx(th_328)───Rz(th_329)───Rz(th_330)───Rx(th_331)───Rz(th_332)───@───Rz(th_336)───X────────────────@───Rz(th_339)───Rx(th_340)───Rz(th_341)──────────────────────────────────────────┼────────────────┼────────────────┼──────────────────────────────────────────\n",
      "                                                                                                                                                         │               │               │                                                                           │               │               │                                                                                                                                                                                       │               │               │                                                                           │               │               │                                                                                                                                                                                                │                │                │                                                                                 │                │                │                                                                                                                                                                                                     │                │                │                                                                                 │                │                │                                                                                                                                                                                                     │                │                │                                                                                 │                │                │                                                                                                                                                                                                     │                │                │                                                                                 │                │                │                                                                                                                                                                                                     │                │                │                                                                                 │                │                │                                                                                                                                                                                                     │                │                │                                                                                 │                │                │\n",
      "(0, 2): ───Rz(th_18)───Rx(th_19)───Rz(th_20)─────────────────────────────────────────────────────────────────────────────────────────────────────────────X───Ry(th_22)───@───Ry(th_23)───X───Rz(th_27)───Rx(th_28)───Rz(th_29)───Rz(th_30)───Rx(th_31)───Rz(th_32)───@───Rz(th_36)───X───────────────@───Rz(th_39)───Rx(th_40)───Rz(th_41)───Rz(th_63)───Rx(th_64)───Rz(th_65)───────────────────────────────────────────────────────────────────────────────────────────────────────────────X───Ry(th_67)───@───Ry(th_68)───X───Rz(th_72)───Rx(th_73)───Rz(th_74)───Rz(th_75)───Rx(th_76)───Rz(th_77)───@───Rz(th_81)───X───────────────@───Rz(th_84)───Rx(th_85)───Rz(th_86)───Rz(th_108)───Rx(th_109)───Rz(th_110)─────────────────────────────────────────────────────────────────────────────────────────────────────────────────────X───Ry(th_112)───@───Ry(th_113)───X───Rz(th_117)───Rx(th_118)───Rz(th_119)───Rz(th_120)───Rx(th_121)───Rz(th_122)───@───Rz(th_126)───X────────────────@───Rz(th_129)───Rx(th_130)───Rz(th_131)───Rz(th_153)───Rx(th_154)───Rz(th_155)───────────────────────────────────────────────────────────────────────────────────────────────────────────────────────X───Ry(th_157)───@───Ry(th_158)───X───Rz(th_162)───Rx(th_163)───Rz(th_164)───Rz(th_165)───Rx(th_166)───Rz(th_167)───@───Rz(th_171)───X────────────────@───Rz(th_174)───Rx(th_175)───Rz(th_176)───Rz(th_198)───Rx(th_199)───Rz(th_200)───────────────────────────────────────────────────────────────────────────────────────────────────────────────────────X───Ry(th_202)───@───Ry(th_203)───X───Rz(th_207)───Rx(th_208)───Rz(th_209)───Rz(th_210)───Rx(th_211)───Rz(th_212)───@───Rz(th_216)───X────────────────@───Rz(th_219)───Rx(th_220)───Rz(th_221)───Rz(th_243)───Rx(th_244)───Rz(th_245)───────────────────────────────────────────────────────────────────────────────────────────────────────────────────────X───Ry(th_247)───@───Ry(th_248)───X───Rz(th_252)───Rx(th_253)───Rz(th_254)───Rz(th_255)───Rx(th_256)───Rz(th_257)───@───Rz(th_261)───X────────────────@───Rz(th_264)───Rx(th_265)───Rz(th_266)───Rz(th_288)───Rx(th_289)───Rz(th_290)───────────────────────────────────────────────────────────────────────────────────────────────────────────────────────X───Ry(th_292)───@───Ry(th_293)───X───Rz(th_297)───Rx(th_298)───Rz(th_299)───Rz(th_300)───Rx(th_301)───Rz(th_302)───@───Rz(th_306)───X────────────────@───Rz(th_309)───Rx(th_310)───Rz(th_311)───Rz(th_333)───Rx(th_334)───Rz(th_335)───────────────────────────────────────────────────────────────────────────────────────────────────────────────────────X───Ry(th_337)───@───Ry(th_338)───X───Rz(th_342)───Rx(th_343)───Rz(th_344)───Rz(th_345)───Rx(th_346)───Rz(th_347)───@───Rz(th_351)───X────────────────@───Rz(th_354)───Rx(th_355)───Rz(th_356)───\n",
      "\n"
     ]
    },
    {
     "name": "stdout",
     "output_type": "stream",
     "text": [
      "                                                                                                                                                                                                    ┌──────────┐                                                                                                                                                                                                                                       ┌──────────┐                           ┌──────────┐                                                                                                                                                                                                                                                                                                                                                                                                                                                                                                                                                                                                                                                                                                                                                                                                                                                                                                                                                                     ┌───────────┐                                                                                                                                                                                                                                                        ┌───────────┐                                                                                                                                                                                                                                                        ┌───────────┐                                                                                                                                                                                                                                                        ┌───────────┐\n",
      "(0, 0): ───Rz(th_0)────Rx(th_1)────────────────@───Rz(th_5)───Rz(th_6)───X──────────────@───Rz(th_9)────Rx(th_10)───Rz(th_24)────────────────────────────────────────────────────────────────────────X─────────────Ry(th_27)───────────────@───Ry(th_28)───X───Rz(th_31)───Rx(th_32)───@───────────Rz(th_34)───Rz(th_35)───X───────────────@───Rz(th_38)───Rx(th_39)───Rz(th_52)─────────────────────────────────────────────────────────────────────────────────X────Ry(th_55)────────────────@─────────────Ry(th_56)───X───Rz(th_60)───Rx(th_61)───Rz(th_62)───Rz(th_63)───Rx(th_64)───Rz(th_65)───@───Rz(th_69)───X───────────────@───Rz(th_72)───Rx(th_73)───Rz(th_74)───Rz(th_96)───Rx(th_97)───Rz(th_98)──────────────────────────────────────────────────────────────────────────────────────────────────────────────────X───Ry(th_100)───@───Ry(th_101)───X───Rz(th_105)───Rx(th_106)───Rz(th_107)───Rz(th_108)───Rx(th_109)───Rz(th_110)───@───Rz(th_114)───X────────────────@───Rz(th_117)───Rx(th_118)───Rz(th_119)───Rz(th_141)───Rx(th_142)───Rz(th_143)───────────────────────────────────────────────────────────────────────────────────────────────────────────────────────X───Ry(th_145)───@───Ry(th_146)───X───Rz(th_150)───Rx(th_151)───Rz(th_152)───Rz(th_153)───Rx(th_154)───@────────────Rz(th_158)───Rz(th_159)───X────────────────@───Rz(th_162)───Rx(th_163)───Rz(th_177)─────────────────────────────────────────────────────────────────────────────X──────────────Ry(th_180)────────────────@───Ry(th_181)───X───Rz(th_184)───Rx(th_185)───@────────────Rz(th_187)───Rz(th_188)───X────────────────@───Rz(th_191)───Rx(th_192)───Rz(th_204)─────────────────────────────────────────────────────────────────────────────X──────────────Ry(th_207)────────────────@───Ry(th_208)───X───Rz(th_211)───Rx(th_212)───@────────────Rz(th_214)───Rz(th_215)───X────────────────@───Rz(th_218)───Rx(th_219)───Rz(th_231)─────────────────────────────────────────────────────────────────────────────X──────────────Ry(th_234)────────────────@───Ry(th_235)───X───Rz(th_238)───Rx(th_239)───@────────────Rz(th_241)───Rz(th_242)───X────────────────@───Rz(th_245)───Rx(th_246)───Rz(th_259)───────────────────────────────────────────────────────────────────────────────────────X────Ry(th_262)────────────────@───Ry(th_263)───X───Rz(th_267)───Rx(th_268)───Rz(th_269)───\n",
      "                                               │                         │              │                                                                                                            │                                     │               │                           │                                   │               │                                                                                                                     │                             │                         │                                                                           │               │               │                                                                                                                                                                                          │                │                │                                                                                 │                │                │                                                                                                                                                                                                     │                │                │                                                                    │                                      │                │                                                                                                                    │                                        │                │                             │                                      │                │                                                                                                                    │                                        │                │                             │                                      │                │                                                                                                                    │                                        │                │                             │                                      │                │                                                                                                                              │                              │                │\n",
      "(0, 1): ───Rz(th_2)────Rx(th_3)────Rz(th_4)────X───Ry(th_7)──────────────@───Ry(th_8)───X───Rz(th_11)───Rx(th_12)───@───────────Rz(th_16)───Rz(th_17)───X───────────────@───Rz(th_20)───Rx(th_21)────┼Rz(th_33)────────────────────────────┼───────────────┼───────────────────────────X───────────Ry(th_36)───────────────@───Ry(th_37)───X───Rz(th_40)───Rx(th_41)───@───────────Rz(th_43)───Rz(th_44)───X───────────────@───Rz(th_47)───Rx(th_48)────Rz(th_49)┼────Rz(th_66)───Rx(th_67)────┼Rz(th_68)────────────────┼───────────────────────────────────────────────────────────────────────────X───Ry(th_70)───@───Ry(th_71)───X───Rz(th_75)───Rx(th_76)───Rz(th_77)───Rz(th_78)───Rx(th_79)───Rz(th_80)───@───Rz(th_84)───X───────────────@───Rz(th_87)───Rx(th_88)───Rz(th_89)───Rz(th_111)───Rx(th_112)───Rz(th_113)───┼────────────────┼────────────────┼─────────────────────────────────────────────────────────────────────────────────X───Ry(th_115)───@───Ry(th_116)───X───Rz(th_120)───Rx(th_121)───Rz(th_122)───Rz(th_123)───Rx(th_124)───Rz(th_125)───@───Rz(th_129)───X────────────────@───Rz(th_132)───Rx(th_133)───Rz(th_134)───Rz(th_155)───Rx(th_156)───Rz(th_157)───┼────────────────┼────────────────┼────────────────────────────────────────────────────────────────────X────────────Ry(th_160)────────────────@───Ry(th_161)───X───Rz(th_164)───Rx(th_165)───@────────────Rz(th_169)───Rz(th_170)───X────────────────@───Rz(th_173)───Rx(th_174)────┼Rz(th_186)──────────────────────────────┼────────────────┼─────────────────────────────X────────────Ry(th_189)────────────────@───Ry(th_190)───X───Rz(th_193)───Rx(th_194)───@────────────Rz(th_196)───Rz(th_197)───X────────────────@───Rz(th_200)───Rx(th_201)────┼Rz(th_213)──────────────────────────────┼────────────────┼─────────────────────────────X────────────Ry(th_216)────────────────@───Ry(th_217)───X───Rz(th_220)───Rx(th_221)───@────────────Rz(th_223)───Rz(th_224)───X────────────────@───Rz(th_227)───Rx(th_228)────┼Rz(th_240)──────────────────────────────┼────────────────┼─────────────────────────────X────────────Ry(th_243)────────────────@───Ry(th_244)───X───Rz(th_247)───Rx(th_248)───@────────────Rz(th_250)───Rz(th_251)───X────────────────@───Rz(th_254)───Rx(th_255)────Rz(th_256)┼──────────────────────────────┼────────────────┼──────────────────────────────────────────\n",
      "                                                                                                                    │                                   │               │                            │                                     │               │                                                                                                           │                                   │               │                                     │                             │                         │                                                                                                                                                                                       │               │               │                                                                              │                │                │                                                                                                                                                                                                     │                │                │                                                                                 │                │                │                                                                                                                                                          │                                      │                │                              │                                        │                │                                                                                                                   │                                      │                │                              │                                        │                │                                                                                                                   │                                      │                │                              │                                        │                │                                                                                                                   │                                      │                │                                        │                              │                │\n",
      "(0, 2): ───Rz(th_13)───Rx(th_14)───Rz(th_15)────────────────────────────────────────────────────────────────────────X───────────Ry(th_18)───────────────@───Ry(th_19)───X───Rz(th_22)───Rx(th_23)────@─────────────Rz(th_25)───Rz(th_26)───X───────────────@───Rz(th_29)───Rx(th_30)───Rz(th_42)───────────────────────────────────────────────────────────────────────X───────────Ry(th_45)───────────────@───Ry(th_46)───X───Rz(th_50)───Rx(th_51)─────────────@────Rz(th_53)───Rz(th_54)────X─────────────────────────@───Rz(th_57)───Rx(th_58)───Rz(th_59)───Rz(th_81)───Rx(th_82)───Rz(th_83)───────────────────────────────────────────────────────────────────────────────────────────────────────────────X───Ry(th_85)───@───Ry(th_86)───X───Rz(th_90)───Rx(th_91)───Rz(th_92)───Rz(th_93)────Rx(th_94)────Rz(th_95)────@───Rz(th_99)────X────────────────@───Rz(th_102)───Rx(th_103)───Rz(th_104)───Rz(th_126)───Rx(th_127)───Rz(th_128)───────────────────────────────────────────────────────────────────────────────────────────────────────────────────────X───Ry(th_130)───@───Ry(th_131)───X───Rz(th_135)───Rx(th_136)───Rz(th_137)───Rz(th_138)───Rx(th_139)───Rz(th_140)───@───Rz(th_144)───X────────────────@───Rz(th_147)───Rx(th_148)───Rz(th_149)───Rz(th_166)───Rx(th_167)───Rz(th_168)────────────────────────────────────────────────────────────────────────────X────────────Ry(th_171)────────────────@───Ry(th_172)───X───Rz(th_175)───Rx(th_176)────@──────────────Rz(th_178)───Rz(th_179)───X────────────────@───Rz(th_182)───Rx(th_183)───Rz(th_195)────────────────────────────────────────────────────────────────────────────X────────────Ry(th_198)────────────────@───Ry(th_199)───X───Rz(th_202)───Rx(th_203)────@──────────────Rz(th_205)───Rz(th_206)───X────────────────@───Rz(th_209)───Rx(th_210)───Rz(th_222)────────────────────────────────────────────────────────────────────────────X────────────Ry(th_225)────────────────@───Ry(th_226)───X───Rz(th_229)───Rx(th_230)────@──────────────Rz(th_232)───Rz(th_233)───X────────────────@───Rz(th_236)───Rx(th_237)───Rz(th_249)────────────────────────────────────────────────────────────────────────────X────────────Ry(th_252)────────────────@───Ry(th_253)───X───Rz(th_257)───Rx(th_258)──────────────@────Rz(th_260)───Rz(th_261)───X────────────────@───Rz(th_264)───Rx(th_265)───Rz(th_266)───\n",
      "                                                                                                                                                                                                    └──────────┘                                                                                                                                                                                                                                       └──────────┘                           └──────────┘                                                                                                                                                                                                                                                                                                                                                                                                                                                                                                                                                                                                                                                                                                                                                                                                                                                                                                                                                                     └───────────┘                                                                                                                                                                                                                                                        └───────────┘                                                                                                                                                                                                                                                        └───────────┘                                                                                                                                                                                                                                                        └───────────┘\n"
     ]
    }
   ],
   "source": [
    "mdif = max_diff(translator , circuit_db, simplified_db)\n",
    "print(\"\\n\")\n",
    "print(mdif)\n",
    "print(c)\n",
    "print()\n",
    "print(ss)"
   ]
  },
  {
   "cell_type": "code",
   "execution_count": 4,
   "id": "tough-auckland",
   "metadata": {},
   "outputs": [
    {
     "data": {
      "text/plain": [
       "342"
      ]
     },
     "execution_count": 4,
     "metadata": {},
     "output_type": "execute_result"
    }
   ],
   "source": [
    "len(simplified_db)"
   ]
  },
  {
   "cell_type": "code",
   "execution_count": 5,
   "id": "wired-europe",
   "metadata": {},
   "outputs": [
    {
     "data": {
      "text/plain": [
       "432"
      ]
     },
     "execution_count": 5,
     "metadata": {},
     "output_type": "execute_result"
    }
   ],
   "source": [
    "len(circuit_db)"
   ]
  },
  {
   "cell_type": "code",
   "execution_count": null,
   "id": "developmental-empire",
   "metadata": {},
   "outputs": [],
   "source": []
  }
 ],
 "metadata": {
  "kernelspec": {
   "display_name": "Python 3",
   "language": "python",
   "name": "python3"
  },
  "language_info": {
   "codemirror_mode": {
    "name": "ipython",
    "version": 3
   },
   "file_extension": ".py",
   "mimetype": "text/x-python",
   "name": "python",
   "nbconvert_exporter": "python",
   "pygments_lexer": "ipython3",
   "version": "3.6.9"
  }
 },
 "nbformat": 4,
 "nbformat_minor": 5
}
