{
 "cells": [
  {
   "cell_type": "markdown",
   "id": "israeli-cathedral",
   "metadata": {},
   "source": [
    "In this notebook we give a proof of concept of unitary compiling using TFQ. "
   ]
  },
  {
   "cell_type": "code",
   "execution_count": 9,
   "id": "cleared-explorer",
   "metadata": {},
   "outputs": [
    {
     "name": "stdout",
     "output_type": "stream",
     "text": [
      "The autoreload extension is already loaded. To reload it, use:\n",
      "  %reload_ext autoreload\n"
     ]
    }
   ],
   "source": [
    "%load_ext autoreload\n",
    "%autoreload 2\n",
    "\n",
    "import sympy \n",
    "import numpy as np \n",
    "import pandas as pd \n",
    "import tensorflow as tf\n",
    "from utilities.circuit_database import CirqTranslater\n",
    "from utilities.templates import *\n",
    "from utilities.variational import Minimizer\n",
    "import matplotlib.pyplot as plt \n",
    "import tensorflow_quantum as tfq\n",
    "import cirq\n",
    "from utilities.compiling import *\n",
    "from utilities.misc import *\n",
    "from utilities.simplifier import Simplifier\n",
    "from utilities.discrimination import *\n",
    "from utilities.idinserter import IdInserter\n",
    "from utilities.evaluator import Evaluator\n",
    "from utilities.gate_killer import GateKiller\n",
    "from ast import literal_eval\n"
   ]
  },
  {
   "cell_type": "code",
   "execution_count": 10,
   "id": "nominated-collectible",
   "metadata": {
    "scrolled": true
   },
   "outputs": [
    {
     "name": "stdout",
     "output_type": "stream",
     "text": [
      "simplified using  <bound method Simplifier.rule_4 of <utilities.simplifier.Simplifier object at 0x7fa0540f49b0>>\n",
      "simplified using  <bound method Simplifier.rule_4 of <utilities.simplifier.Simplifier object at 0x7fa0540f49b0>>\n",
      "simplified using  <bound method Simplifier.rule_4 of <utilities.simplifier.Simplifier object at 0x7fa0540f49b0>>\n",
      "simplified using  <bound method Simplifier.rule_4 of <utilities.simplifier.Simplifier object at 0x7fa0540f49b0>>\n",
      "simplified using  <bound method Simplifier.rule_4 of <utilities.simplifier.Simplifier object at 0x7fa0540f49b0>>\n",
      "simplified using  <bound method Simplifier.rule_4 of <utilities.simplifier.Simplifier object at 0x7fa0540f49b0>>\n",
      "simplified using  <bound method Simplifier.rule_4 of <utilities.simplifier.Simplifier object at 0x7fa0540f49b0>>\n",
      "simplified using  <bound method Simplifier.rule_4 of <utilities.simplifier.Simplifier object at 0x7fa0540f49b0>>\n",
      "simplified using  <bound method Simplifier.rule_4 of <utilities.simplifier.Simplifier object at 0x7fa0540f49b0>>\n",
      "simplified using  <bound method Simplifier.rule_4 of <utilities.simplifier.Simplifier object at 0x7fa0540f49b0>>\n",
      "simplified using  <bound method Simplifier.rule_4 of <utilities.simplifier.Simplifier object at 0x7fa0540f49b0>>\n",
      "simplified using  <bound method Simplifier.rule_4 of <utilities.simplifier.Simplifier object at 0x7fa0540f49b0>>\n",
      "simplified using  <bound method Simplifier.rule_4 of <utilities.simplifier.Simplifier object at 0x7fa0540f49b0>>\n",
      "simplified using  <bound method Simplifier.rule_5 of <utilities.simplifier.Simplifier object at 0x7fa0540f49b0>>\n",
      "simplified using  <bound method Simplifier.rule_5 of <utilities.simplifier.Simplifier object at 0x7fa0540f49b0>>\n",
      "simplified using  <bound method Simplifier.rule_5 of <utilities.simplifier.Simplifier object at 0x7fa0540f49b0>>\n",
      "simplified using  <bound method Simplifier.rule_5 of <utilities.simplifier.Simplifier object at 0x7fa0540f49b0>>\n",
      "simplified using  <bound method Simplifier.rule_5 of <utilities.simplifier.Simplifier object at 0x7fa0540f49b0>>\n",
      "simplified using  <bound method Simplifier.rule_5 of <utilities.simplifier.Simplifier object at 0x7fa0540f49b0>>\n",
      "simplified using  <bound method Simplifier.rule_5 of <utilities.simplifier.Simplifier object at 0x7fa0540f49b0>>\n",
      "simplified using  <bound method Simplifier.rule_5 of <utilities.simplifier.Simplifier object at 0x7fa0540f49b0>>\n",
      "simplified using  <bound method Simplifier.rule_5 of <utilities.simplifier.Simplifier object at 0x7fa0540f49b0>>\n",
      "simplified using  <bound method Simplifier.rule_5 of <utilities.simplifier.Simplifier object at 0x7fa0540f49b0>>\n",
      "simplified using  <bound method Simplifier.rule_5 of <utilities.simplifier.Simplifier object at 0x7fa0540f49b0>>\n",
      "simplified using  <bound method Simplifier.rule_5 of <utilities.simplifier.Simplifier object at 0x7fa0540f49b0>>\n",
      "simplified using  <bound method Simplifier.rule_5 of <utilities.simplifier.Simplifier object at 0x7fa0540f49b0>>\n",
      "simplified using  <bound method Simplifier.rule_5 of <utilities.simplifier.Simplifier object at 0x7fa0540f49b0>>\n",
      "simplified using  <bound method Simplifier.rule_5 of <utilities.simplifier.Simplifier object at 0x7fa0540f49b0>>\n",
      "simplified using  <bound method Simplifier.rule_6 of <utilities.simplifier.Simplifier object at 0x7fa0540f49b0>>\n",
      "simplified using  <bound method Simplifier.rule_6 of <utilities.simplifier.Simplifier object at 0x7fa0540f49b0>>\n",
      "simplified using  <bound method Simplifier.rule_6 of <utilities.simplifier.Simplifier object at 0x7fa0540f49b0>>\n",
      "simplified using  <bound method Simplifier.rule_6 of <utilities.simplifier.Simplifier object at 0x7fa0540f49b0>>\n",
      "simplified using  <bound method Simplifier.rule_6 of <utilities.simplifier.Simplifier object at 0x7fa0540f49b0>>\n",
      "simplified using  <bound method Simplifier.rule_6 of <utilities.simplifier.Simplifier object at 0x7fa0540f49b0>>\n",
      "simplified using  <bound method Simplifier.rule_6 of <utilities.simplifier.Simplifier object at 0x7fa0540f49b0>>\n",
      "simplified using  <bound method Simplifier.rule_6 of <utilities.simplifier.Simplifier object at 0x7fa0540f49b0>>\n",
      "simplified using  <bound method Simplifier.rule_6 of <utilities.simplifier.Simplifier object at 0x7fa0540f49b0>>\n",
      "simplified using  <bound method Simplifier.rule_6 of <utilities.simplifier.Simplifier object at 0x7fa0540f49b0>>\n",
      "simplified using  <bound method Simplifier.rule_6 of <utilities.simplifier.Simplifier object at 0x7fa0540f49b0>>\n",
      "simplified using  <bound method Simplifier.rule_6 of <utilities.simplifier.Simplifier object at 0x7fa0540f49b0>>\n",
      "simplified using  <bound method Simplifier.rule_6 of <utilities.simplifier.Simplifier object at 0x7fa0540f49b0>>\n",
      "simplified using  <bound method Simplifier.rule_6 of <utilities.simplifier.Simplifier object at 0x7fa0540f49b0>>\n",
      "simplified using  <bound method Simplifier.rule_6 of <utilities.simplifier.Simplifier object at 0x7fa0540f49b0>>\n",
      "simplified using  <bound method Simplifier.rule_6 of <utilities.simplifier.Simplifier object at 0x7fa0540f49b0>>\n",
      "simplified using  <bound method Simplifier.rule_6 of <utilities.simplifier.Simplifier object at 0x7fa0540f49b0>>\n",
      "simplified using  <bound method Simplifier.rule_6 of <utilities.simplifier.Simplifier object at 0x7fa0540f49b0>>\n",
      "simplified using  <bound method Simplifier.rule_6 of <utilities.simplifier.Simplifier object at 0x7fa0540f49b0>>\n",
      "simplified using  <bound method Simplifier.rule_6 of <utilities.simplifier.Simplifier object at 0x7fa0540f49b0>>\n",
      "simplified using  <bound method Simplifier.rule_6 of <utilities.simplifier.Simplifier object at 0x7fa0540f49b0>>\n",
      "simplified using  <bound method Simplifier.rule_6 of <utilities.simplifier.Simplifier object at 0x7fa0540f49b0>>\n",
      "simplified using  <bound method Simplifier.rule_6 of <utilities.simplifier.Simplifier object at 0x7fa0540f49b0>>\n",
      "simplified using  <bound method Simplifier.rule_6 of <utilities.simplifier.Simplifier object at 0x7fa0540f49b0>>\n",
      "simplified using  <bound method Simplifier.rule_6 of <utilities.simplifier.Simplifier object at 0x7fa0540f49b0>>\n",
      "simplified using  <bound method Simplifier.rule_6 of <utilities.simplifier.Simplifier object at 0x7fa0540f49b0>>\n",
      "simplified using  <bound method Simplifier.rule_6 of <utilities.simplifier.Simplifier object at 0x7fa0540f49b0>>\n",
      "simplified using  <bound method Simplifier.rule_6 of <utilities.simplifier.Simplifier object at 0x7fa0540f49b0>>\n",
      "simplified using  <bound method Simplifier.rule_1 of <utilities.simplifier.Simplifier object at 0x7fa0540f49b0>>\n",
      "simplified using  <bound method Simplifier.rule_1 of <utilities.simplifier.Simplifier object at 0x7fa0540f49b0>>\n",
      "simplified using  <bound method Simplifier.rule_1 of <utilities.simplifier.Simplifier object at 0x7fa0540f49b0>>\n",
      "simplified using  <bound method Simplifier.rule_4 of <utilities.simplifier.Simplifier object at 0x7fa0540f49b0>>\n",
      "simplified using  <bound method Simplifier.rule_4 of <utilities.simplifier.Simplifier object at 0x7fa0540f49b0>>\n",
      "simplified using  <bound method Simplifier.rule_4 of <utilities.simplifier.Simplifier object at 0x7fa0540f49b0>>\n",
      "simplified using  <bound method Simplifier.rule_4 of <utilities.simplifier.Simplifier object at 0x7fa0540f49b0>>\n",
      "simplified using  <bound method Simplifier.rule_4 of <utilities.simplifier.Simplifier object at 0x7fa0540f49b0>>\n",
      "simplified using  <bound method Simplifier.rule_4 of <utilities.simplifier.Simplifier object at 0x7fa0540f49b0>>\n",
      "simplified using  <bound method Simplifier.rule_4 of <utilities.simplifier.Simplifier object at 0x7fa0540f49b0>>\n",
      "simplified using  <bound method Simplifier.rule_4 of <utilities.simplifier.Simplifier object at 0x7fa0540f49b0>>\n",
      "simplified using  <bound method Simplifier.rule_4 of <utilities.simplifier.Simplifier object at 0x7fa0540f49b0>>\n",
      "simplified using  <bound method Simplifier.rule_4 of <utilities.simplifier.Simplifier object at 0x7fa0540f49b0>>\n",
      "simplified using  <bound method Simplifier.rule_4 of <utilities.simplifier.Simplifier object at 0x7fa0540f49b0>>\n",
      "simplified using  <bound method Simplifier.rule_4 of <utilities.simplifier.Simplifier object at 0x7fa0540f49b0>>\n",
      "simplified using  <bound method Simplifier.rule_4 of <utilities.simplifier.Simplifier object at 0x7fa0540f49b0>>\n",
      "simplified using  <bound method Simplifier.rule_5 of <utilities.simplifier.Simplifier object at 0x7fa0540f49b0>>\n"
     ]
    },
    {
     "name": "stdout",
     "output_type": "stream",
     "text": [
      "simplified using  <bound method Simplifier.rule_5 of <utilities.simplifier.Simplifier object at 0x7fa0540f49b0>>\n",
      "simplified using  <bound method Simplifier.rule_5 of <utilities.simplifier.Simplifier object at 0x7fa0540f49b0>>\n",
      "simplified using  <bound method Simplifier.rule_5 of <utilities.simplifier.Simplifier object at 0x7fa0540f49b0>>\n",
      "simplified using  <bound method Simplifier.rule_5 of <utilities.simplifier.Simplifier object at 0x7fa0540f49b0>>\n",
      "simplified using  <bound method Simplifier.rule_5 of <utilities.simplifier.Simplifier object at 0x7fa0540f49b0>>\n",
      "simplified using  <bound method Simplifier.rule_5 of <utilities.simplifier.Simplifier object at 0x7fa0540f49b0>>\n",
      "simplified using  <bound method Simplifier.rule_5 of <utilities.simplifier.Simplifier object at 0x7fa0540f49b0>>\n",
      "simplified using  <bound method Simplifier.rule_5 of <utilities.simplifier.Simplifier object at 0x7fa0540f49b0>>\n",
      "simplified using  <bound method Simplifier.rule_5 of <utilities.simplifier.Simplifier object at 0x7fa0540f49b0>>\n",
      "simplified using  <bound method Simplifier.rule_5 of <utilities.simplifier.Simplifier object at 0x7fa0540f49b0>>\n",
      "simplified using  <bound method Simplifier.rule_5 of <utilities.simplifier.Simplifier object at 0x7fa0540f49b0>>\n",
      "simplified using  <bound method Simplifier.rule_5 of <utilities.simplifier.Simplifier object at 0x7fa0540f49b0>>\n",
      "simplified using  <bound method Simplifier.rule_5 of <utilities.simplifier.Simplifier object at 0x7fa0540f49b0>>\n",
      "simplified using  <bound method Simplifier.rule_5 of <utilities.simplifier.Simplifier object at 0x7fa0540f49b0>>\n",
      "simplified using  <bound method Simplifier.rule_6 of <utilities.simplifier.Simplifier object at 0x7fa0540f49b0>>\n",
      "simplified using  <bound method Simplifier.rule_6 of <utilities.simplifier.Simplifier object at 0x7fa0540f49b0>>\n",
      "simplified using  <bound method Simplifier.rule_6 of <utilities.simplifier.Simplifier object at 0x7fa0540f49b0>>\n",
      "simplified using  <bound method Simplifier.rule_6 of <utilities.simplifier.Simplifier object at 0x7fa0540f49b0>>\n",
      "simplified using  <bound method Simplifier.rule_6 of <utilities.simplifier.Simplifier object at 0x7fa0540f49b0>>\n",
      "simplified using  <bound method Simplifier.rule_6 of <utilities.simplifier.Simplifier object at 0x7fa0540f49b0>>\n",
      "simplified using  <bound method Simplifier.rule_6 of <utilities.simplifier.Simplifier object at 0x7fa0540f49b0>>\n",
      "simplified using  <bound method Simplifier.rule_6 of <utilities.simplifier.Simplifier object at 0x7fa0540f49b0>>\n",
      "simplified using  <bound method Simplifier.rule_6 of <utilities.simplifier.Simplifier object at 0x7fa0540f49b0>>\n",
      "simplified using  <bound method Simplifier.rule_6 of <utilities.simplifier.Simplifier object at 0x7fa0540f49b0>>\n",
      "simplified using  <bound method Simplifier.rule_6 of <utilities.simplifier.Simplifier object at 0x7fa0540f49b0>>\n",
      "simplified using  <bound method Simplifier.rule_6 of <utilities.simplifier.Simplifier object at 0x7fa0540f49b0>>\n",
      "simplified using  <bound method Simplifier.rule_6 of <utilities.simplifier.Simplifier object at 0x7fa0540f49b0>>\n",
      "simplified using  <bound method Simplifier.rule_6 of <utilities.simplifier.Simplifier object at 0x7fa0540f49b0>>\n",
      "simplified using  <bound method Simplifier.rule_6 of <utilities.simplifier.Simplifier object at 0x7fa0540f49b0>>\n",
      "simplified using  <bound method Simplifier.rule_6 of <utilities.simplifier.Simplifier object at 0x7fa0540f49b0>>\n",
      "simplified using  <bound method Simplifier.rule_6 of <utilities.simplifier.Simplifier object at 0x7fa0540f49b0>>\n",
      "simplified using  <bound method Simplifier.rule_6 of <utilities.simplifier.Simplifier object at 0x7fa0540f49b0>>\n",
      "simplified using  <bound method Simplifier.rule_6 of <utilities.simplifier.Simplifier object at 0x7fa0540f49b0>>\n",
      "simplified using  <bound method Simplifier.rule_6 of <utilities.simplifier.Simplifier object at 0x7fa0540f49b0>>\n",
      "simplified using  <bound method Simplifier.rule_6 of <utilities.simplifier.Simplifier object at 0x7fa0540f49b0>>\n",
      "simplified using  <bound method Simplifier.rule_6 of <utilities.simplifier.Simplifier object at 0x7fa0540f49b0>>\n",
      "simplified using  <bound method Simplifier.rule_6 of <utilities.simplifier.Simplifier object at 0x7fa0540f49b0>>\n",
      "simplified using  <bound method Simplifier.rule_6 of <utilities.simplifier.Simplifier object at 0x7fa0540f49b0>>\n",
      "simplified using  <bound method Simplifier.rule_6 of <utilities.simplifier.Simplifier object at 0x7fa0540f49b0>>\n",
      "simplified using  <bound method Simplifier.rule_6 of <utilities.simplifier.Simplifier object at 0x7fa0540f49b0>>\n",
      "simplified using  <bound method Simplifier.rule_6 of <utilities.simplifier.Simplifier object at 0x7fa0540f49b0>>\n",
      "simplified using  <bound method Simplifier.rule_6 of <utilities.simplifier.Simplifier object at 0x7fa0540f49b0>>\n"
     ]
    }
   ],
   "source": [
    "np.random.seed(0)\n",
    "translator = CirqTranslater(4, untouchable_blocks = [])\n",
    "\n",
    "translator.env_qubits = [2]\n",
    "\n",
    "simplifier = Simplifier(translator)\n",
    "etas = [0.01, 1.]\n",
    "minimizer = Minimizer(translator, mode=\"discrimination\", params=etas)\n",
    "\n",
    "circuit_db = concatenate_dbs([u2_layer(translator)]*2)\n",
    "\n",
    "cdb = []\n",
    "for ind, qubits in list(translator.indexed_cnots.items()):\n",
    "    cdb.append(gate_template(int(ind), block_id=0))\n",
    "    con, tar = qubits\n",
    "    cdb.append(gate_template(int(con + translator.number_of_cnots), param_value = np.random.random()))\n",
    "    cdb.append(gate_template(int(tar + translator.number_of_cnots + translator.n_qubits), param_value = np.random.random()))\n",
    "cdb = pd.DataFrame(cdb)\n",
    "\n",
    "circuit_db = concatenate_dbs([cdb, circuit_db])\n",
    "circuit, circuit_db = translator.give_circuit(circuit_db)\n",
    "\n",
    "\n",
    "dd1  =circuit_db.copy()\n",
    "dd1[\"block_id\"] = 1\n",
    "dd1[\"symbol\"] = None\n",
    "circuit_db = concatenate_dbs([circuit_db, dd1])\n",
    "c, circuit_db = translator.give_circuit(circuit_db)\n",
    "\n",
    "simplifier = Simplifier(translator, apply_relatives_to_first = True)\n",
    "simplifier.apply_relatives_to_first = True\n",
    "simplifier.relative_rules = [simplifier.rule_1]\n",
    "simplified_db, ns = simplifier.reduce_circuit(circuit_db)\n",
    "ss, simplified_db = translator.give_circuit(simplified_db)"
   ]
  },
  {
   "cell_type": "code",
   "execution_count": 11,
   "id": "imported-stevens",
   "metadata": {},
   "outputs": [
    {
     "name": "stdout",
     "output_type": "stream",
     "text": [
      "\n",
      "\n",
      "0.0013587190511328555\n",
      "                                                                                      ┌──┐                                                                                                                                                                                                                                                                                                                                                                                                                                                                                                                                                                                                                                                                                                                                                                                                                                                                                                                                                                                                                                                                                                                  ┌──┐\n",
      "(0, 0): ───@───Rz(th_0)───@───Rz(th_2)───@───Rz(th_4)───X───Rx(th_7)────────────────────X────Rx(th_13)───────────────────────────────────X───Rx(th_19)───Rz(th_24)───Rx(th_25)───Rz(th_26)───────────────────────────@───────────Rz(th_30)───X───────────────@───Rz(th_33)───Rx(th_34)───Rz(th_35)───Rz(th_72)───Rx(th_73)───Rz(th_74)──────────────────────────────────────────────────────────────────────────────────────────────────────────────────────────────────────────────────────────────────────────────────────────────────────────────────────────────X───Ry(th_76)───@───Ry(th_77)───X───Rz(th_81)───Rx(th_82)───Rz(th_83)───Rz(th_84)────Rx(th_85)────Rz(th_86)────@───Rz(th_90)───X───────────────@───Rz(th_93)───Rx(th_94)───Rz(th_95)───Rz(th_132)───Rx(th_133)───Rz(th_134)───────────────────────────────────────────────────────────────────────────────────────────────────────────────────────────────────────────────────────────────────────────────────────────────────────────────────────────────────────────X───Ry(th_136)───@───Ry(th_137)───X───Rz(th_141)───Rx(th_142)───Rz(th_143)───@───Rz(th_144)───@───Rz(th_146)───@───Rz(th_148)───X───Rx(th_151)──────────────────────X────Rx(th_157)─────────────────────────────────────X───Rx(th_163)───Rz(th_168)───Rx(th_169)───Rz(th_170)─────────────────────────────@────────────Rz(th_174)───X────────────────@───Rz(th_177)───Rx(th_178)───Rz(th_179)───Rz(th_216)───Rx(th_217)───Rz(th_218)───────────────────────────────────────────────────────────────────────────────────────────────────────────────────────────────────────────────────────────────────────────────────────────────────────────────────────────────────────────X───Ry(th_220)───@───Ry(th_221)───X───Rz(th_225)───Rx(th_226)───Rz(th_227)───Rz(th_228)───Rx(th_229)───Rz(th_230)───@───Rz(th_234)───X────────────────@───Rz(th_237)───Rx(th_238)───Rz(th_239)───Rz(th_276)───Rx(th_277)───Rz(th_278)───────────────────────────────────────────────────────────────────────────────────────────────────────────────────────────────────────────────────────────────────────────────────────────────────────────────────────────────────────────X───Ry(th_280)───@───Ry(th_281)───X───Rz(th_285)───Rx(th_286)───Rz(th_287)───\n",
      "           │              │              │              │                               │                                                │                                                                           │                       │               │                                                                                                                                                                                                                                                                                                      │               │               │                                                                              │               │               │                                                                                                                                                                                                                                                                                                                      │                │                │                                          │                │                │                │                                   │                                                   │                                                                                 │                         │                │                                                                                                                                                                                                                                                                                                                         │                │                │                                                                                 │                │                │                                                                                                                                                                                                                                                                                                                         │                │                │\n",
      "(0, 1): ───X───Rx(th_1)───┼──────────────┼──────────────@───Rz(th_6)───@───Rz(th_8)────@┼────Rz(th_10)───X───Rx(th_15)───────────────────┼───────────────X───────────Rx(th_21)───Rz(th_27)───Rx(th_28)───Rz(th_29)───X───────────Ry(th_31)───@───Ry(th_32)───X───Rz(th_36)───Rx(th_37)───Rz(th_38)───Rz(th_39)───Rx(th_40)───Rz(th_41)───@───Rz(th_45)───X───────────────@───Rz(th_48)───Rx(th_49)───Rz(th_50)───Rz(th_87)───Rx(th_88)───Rz(th_89)──────────────────────────────────────────────────────────────────────────────────────────────────────────────────┼───────────────┼───────────────┼──────────────────────────────────────────────────────────────────────────────X───Ry(th_91)───@───Ry(th_92)───X───Rz(th_96)───Rx(th_97)───Rz(th_98)───Rz(th_99)────Rx(th_100)───Rz(th_101)───@───Rz(th_105)───X────────────────@───Rz(th_108)───Rx(th_109)───Rz(th_110)──────────────────────────────────────────────────────────────────────────────────────────────────────────────────────────────────────────────────────────────┼────────────────┼────────────────┼──────────────────────────────────────────X───Rx(th_145)───┼────────────────┼────────────────@───Rz(th_150)───@───Rz(th_152)────@┼────Rz(th_154)───X───Rx(th_159)────────────────────┼────────────────X────────────Rx(th_165)───Rz(th_171)───Rx(th_172)───Rz(th_173)───X────────────Ry(th_175)───@───Ry(th_176)───X───Rz(th_180)───Rx(th_181)───Rz(th_182)───Rz(th_183)───Rx(th_184)───Rz(th_185)───@───Rz(th_189)───X────────────────@───Rz(th_192)───Rx(th_193)───Rz(th_194)───Rz(th_231)───Rx(th_232)───Rz(th_233)───────────────────────────────────────────────────────────────────────────────────────────────────────────────────────┼────────────────┼────────────────┼─────────────────────────────────────────────────────────────────────────────────X───Ry(th_235)───@───Ry(th_236)───X───Rz(th_240)───Rx(th_241)───Rz(th_242)───Rz(th_243)───Rx(th_244)───Rz(th_245)───@───Rz(th_249)───X────────────────@───Rz(th_252)───Rx(th_253)───Rz(th_254)──────────────────────────────────────────────────────────────────────────────────────────────────────────────────────────────────────────────────────────────┼────────────────┼────────────────┼──────────────────────────────────────────\n",
      "                          │              │                             │               ││                │                               │               │                                                                                                                                                                               │               │               │                                                                                                                                                                                          │               │               │                                                                                                                                                                                             │                │                │                                                                                                                                                                                                     │                │                │                                                           │                │                                 │                 ││                 │                                 │                │                                                                                                                                                                                             │                │                │                                                                                                                                                                                                     │                │                │                                                                                                                                                                                                     │                │                │                                                                                                                                                                                                     │                │                │\n",
      "(0, 2): ──────────────────X───Rx(th_3)───┼─────────────────────────────X───Rx(th_9)────┼@────Rz(th_12)───@───Rz(th_14)───@───Rz(th_16)───┼───────────────┼───────────────────────X───────────Rx(th_23)───Rz(th_42)───Rx(th_43)───Rz(th_44)───────────────────────────────────────────────────────────────────────────────────────────────X───Ry(th_46)───@───Ry(th_47)───X───Rz(th_51)───Rx(th_52)───Rz(th_53)───Rz(th_54)───Rx(th_55)───Rz(th_56)───@───Rz(th_60)───X───────────────@───Rz(th_63)───Rx(th_64)───Rz(th_65)───Rz(th_102)───Rx(th_103)───Rz(th_104)───┼───────────────┼───────────────┼─────────────────────────────────────────────────────────────────────────────────────────────────────────────────────────────────────────────────────────────────────────────────────────────X───Ry(th_106)───@───Ry(th_107)───X───Rz(th_111)───Rx(th_112)───Rz(th_113)───Rz(th_114)───Rx(th_115)───Rz(th_116)───@───Rz(th_120)───X────────────────@───Rz(th_123)───Rx(th_124)───Rz(th_125)──────────────────────────────────────────┼────────────────┼────────────────┼───────────────────────────────────────────────────────────X───Rx(th_147)───┼─────────────────────────────────X───Rx(th_153)────┼@────Rz(th_156)───@───Rz(th_158)───@───Rz(th_160)───┼────────────────┼─────────────────────────X────────────Rx(th_167)───Rz(th_186)───Rx(th_187)───Rz(th_188)──────────────────────────────────────────────────────────────────────────────────────────────────────X───Ry(th_190)───@───Ry(th_191)───X───Rz(th_195)───Rx(th_196)───Rz(th_197)───Rz(th_198)───Rx(th_199)───Rz(th_200)───@───Rz(th_204)───X────────────────@───Rz(th_207)───Rx(th_208)───Rz(th_209)───Rz(th_246)───Rx(th_247)───Rz(th_248)───┼────────────────┼────────────────┼─────────────────────────────────────────────────────────────────────────────────────────────────────────────────────────────────────────────────────────────────────────────────────────────────────X───Ry(th_250)───@───Ry(th_251)───X───Rz(th_255)───Rx(th_256)───Rz(th_257)───Rz(th_258)───Rx(th_259)───Rz(th_260)───@───Rz(th_264)───X────────────────@───Rz(th_267)───Rx(th_268)───Rz(th_269)──────────────────────────────────────────┼────────────────┼────────────────┼──────────────────────────────────────────\n",
      "                                         │                                             │                                 │               │               │                       │                                                                                                                                                                                                                                                                   │               │               │                                                                              │               │               │                                                                                                                                                                                                                                                                                                                 │                │                │                                                                                 │                │                │                                                                            │                                                   │                                   │                │                │                         │                                                                                                                                                                                                                                                                                       │                │                │                                                                                 │                │                │                                                                                                                                                                                                                                                                                                                         │                │                │                                                                                 │                │                │\n",
      "(0, 3): ─────────────────────────────────X───Rx(th_5)──────────────────────────────────X─────Rx(th_11)───────────────────X───Rx(th_17)───@───Rz(th_18)───@───────────Rz(th_20)───@───────────Rz(th_22)───Rz(th_57)───Rx(th_58)───Rz(th_59)───────────────────────────────────────────────────────────────────────────────────────────────────────────────────────────────────────────────────────────────────────────────────────────────────────────X───Ry(th_61)───@───Ry(th_62)───X───Rz(th_66)───Rx(th_67)───Rz(th_68)───Rz(th_69)────Rx(th_70)────Rz(th_71)────@───Rz(th_75)───X───────────────@───Rz(th_78)───Rx(th_79)───Rz(th_80)───Rz(th_117)───Rx(th_118)───Rz(th_119)──────────────────────────────────────────────────────────────────────────────────────────────────────────────────────────────────────────────────────────────────────────────────────────────────────────────────────────────────────X───Ry(th_121)───@───Ry(th_122)───X───Rz(th_126)───Rx(th_127)───Rz(th_128)───Rz(th_129)───Rx(th_130)───Rz(th_131)───@───Rz(th_135)───X────────────────@───Rz(th_138)───Rx(th_139)───Rz(th_140)─────────────────────────────────────X───Rx(th_149)──────────────────────────────────────X─────Rx(th_155)────────────────────X───Rx(th_161)───@───Rz(th_162)───@────────────Rz(th_164)───@────────────Rz(th_166)───Rz(th_201)───Rx(th_202)───Rz(th_203)──────────────────────────────────────────────────────────────────────────────────────────────────────────────────────────────────────────────────────────────────────────────────────────────────────────────────────────X───Ry(th_205)───@───Ry(th_206)───X───Rz(th_210)───Rx(th_211)───Rz(th_212)───Rz(th_213)───Rx(th_214)───Rz(th_215)───@───Rz(th_219)───X────────────────@───Rz(th_222)───Rx(th_223)───Rz(th_224)───Rz(th_261)───Rx(th_262)───Rz(th_263)───────────────────────────────────────────────────────────────────────────────────────────────────────────────────────────────────────────────────────────────────────────────────────────────────────────────────────────────────────────X───Ry(th_265)───@───Ry(th_266)───X───Rz(th_270)───Rx(th_271)───Rz(th_272)───Rz(th_273)───Rx(th_274)───Rz(th_275)───@───Rz(th_279)───X────────────────@───Rz(th_282)───Rx(th_283)───Rz(th_284)───\n",
      "                                                                                      └──┘                                                                                                                                                                                                                                                                                                                                                                                                                                                                                                                                                                                                                                                                                                                                                                                                                                                                                                                                                                                                                                                                                                                  └──┘\n",
      "\n"
     ]
    },
    {
     "name": "stdout",
     "output_type": "stream",
     "text": [
      "                                                    ┌─────────┐              ┌─────────┐                                                                                                                                                                                                                                                                                                                                                                          ┌──────────┐                                                                                                                                                                                                                                                                                                                       ┌──────────┐                                                                                          ┌───────────┐                                                      ┌───────────┐                ┌───────────┐                                                                                                                                                                                                                                                                                                                                                                                                      ┌───────────┐                                                                                                                                                                                                                                                                                                                                              ┌───────────┐\n",
      "(0, 0): ───Rz(th_1)───Rz(th_2)───Rz(th_3)───X─────────────────────────────────────────X───────────────────────────────────────────────────────────X───Rx(th_15)───Rx(th_16)───Rz(th_17)───Rx(th_23)───────────────@───────────Rz(th_26)───Rz(th_27)───X───────────────@───Rz(th_30)───Rx(th_31)───Rz(th_55)────────────────────────────────────────────────────────────────────────────────────────────────────────────────────────────────────────────────────────X─────────────Ry(th_58)───────────────@───Ry(th_59)───X───Rz(th_62)───Rx(th_63)───@───────────Rz(th_65)───Rz(th_66)───X───────────────@───Rz(th_69)───Rx(th_70)───Rz(th_93)─────────────────────────────────────────────────────────────────────────────────────────────────────────────────────────────────────────────────────────────────X────Ry(th_96)───────────────@───Ry(th_97)───X───Rz(th_101)───Rx(th_102)───Rz(th_103)───@──────────────@────@───Rz(th_105)───Rz(th_106)───Rz(th_107)───X───────────────────────────────────────────────X────────────────────────────────────────────────────────────────X───Rx(th_119)───Rx(th_120)───Rz(th_121)───Rx(th_127)────────────────@────────────Rz(th_130)───Rz(th_131)───X────────────────@───Rz(th_134)───Rx(th_135)───Rz(th_159)───────────────────────────────────────────────────────────────────────────────────────────────────────────────────────────────────────────────────────────────────X──────────────Ry(th_162)────────────────@───Ry(th_163)───X───Rz(th_166)───Rx(th_167)───@────────────Rz(th_169)───Rz(th_170)───X────────────────@───Rz(th_173)───Rx(th_174)───Rz(th_197)─────────────────────────────────────────────────────────────────────────────────────────────────────────────────────────────────────────────────────────────────────────────X────Ry(th_200)────────────────@───Ry(th_201)───X───Rz(th_205)───Rx(th_206)───Rz(th_207)───\n",
      "                                            │                                         │                                                           │                                                               │                                   │               │                                                                                                                                                                                            │                                     │               │                           │                                   │               │                                                                                                                                                                                                     │                            │               │                                          │              │    │                                          │                                               │                                                                │                                                                    │                                      │                │                                                                                                                                                                                                          │                                        │                │                             │                                      │                │                                                                                                                                                                                                                    │                              │                │\n",
      "(0, 1): ───Rx(th_0)─────────────────────────@───@────────────@────Rz(th_6)────Rz(th_7)┼────Rz(th_8)───X───────────────────────────────────────────┼───X───────────Rx(th_18)───Rz(th_19)───Rx(th_24)───Rz(th_25)───X───────────Ry(th_28)───────────────@───Ry(th_29)───X───Rz(th_32)───Rx(th_33)───@───────────Rz(th_36)───Rz(th_37)───X───────────────@───Rz(th_40)───Rx(th_41)───Rz(th_64)────────────────────────────────────────────────────────────────────────┼─────────────────────────────────────┼───────────────┼───────────────────────────X───────────Ry(th_67)───────────────@───Ry(th_68)───X───Rz(th_71)───Rx(th_72)───@───────────Rz(th_74)───Rz(th_75)───X───────────────@───Rz(th_78)───Rx(th_79)───Rz(th_80)─────────────────────────────────────────────────────────────────────────────────┼────────────────────────────┼───────────────┼──────────────────────────────────────────X────Rx(th_104)┼────┼──────────────────────────────────────────@───@──────────────@────Rz(th_110)────Rz(th_111)┼────Rz(th_112)───X──────────────────────────────────────────────┼───X────────────Rx(th_122)───Rz(th_123)───Rx(th_128)───Rz(th_129)───X────────────Ry(th_132)────────────────@───Ry(th_133)───X───Rz(th_136)───Rx(th_137)───@────────────Rz(th_140)───Rz(th_141)───X────────────────@───Rz(th_144)───Rx(th_145)───Rz(th_168)─────────────────────────────────────────────────────────────────────────────┼────────────────────────────────────────┼────────────────┼─────────────────────────────X────────────Ry(th_171)────────────────@───Ry(th_172)───X───Rz(th_175)───Rx(th_176)───@────────────Rz(th_178)───Rz(th_179)───X────────────────@───Rz(th_182)───Rx(th_183)───Rz(th_184)───────────────────────────────────────────────────────────────────────────────────────┼──────────────────────────────┼────────────────┼──────────────────────────────────────────\n",
      "                                                │            │                        │               │                                           │   │                                                                                                                                           │                                   │               │                                                                                                            │                                     │               │                                                                                                           │                                   │               │                                                                                                                     │                            │               │                                                         │    │                                              │              │                            │                 │                                              │   │                                                                                                                                                      │                                      │                │                                                                                                                    │                                        │                │                                                                                                                   │                                      │                │                                                                                                                              │                              │                │\n",
      "(0, 2): ────────────────────────────────────────X────Rx(th_4)┼────Rx(th_5)────────────@───────────────@───@───Rz(th_11)───Rz(th_12)───Rz(th_13)───┼───┼───────────X───────────Rz(th_22)───Rx(th_34)───Rz(th_35)───────────────────────────────────────────────────────────────────────────────────X───────────Ry(th_38)───────────────@───Ry(th_39)───X───Rz(th_42)───Rx(th_43)───@───────────Rz(th_47)───Rz(th_48)───X───────────────@───Rz(th_51)───Rx(th_52)────┼Rz(th_73)────────────────────────────┼───────────────┼───────────────────────────────────────────────────────────────────────────────────────────────────────────X───────────Ry(th_76)───────────────@───Ry(th_77)───X───Rz(th_81)───Rx(th_82)───@───────────Rz(th_84)───Rz(th_85)───X───────────────@───Rz(th_88)───Rx(th_89)────Rz(th_90)┼────────────────────────────┼───────────────┼─────────────────────────────────────────────────────────X────┼──────────────────────────────────────────────X────Rx(th_108)┼────Rx(th_109)──────────────@─────────────────@───@───Rz(th_115)───Rz(th_116)───Rz(th_117)───┼───┼────────────X────────────Rz(th_126)───Rx(th_138)───Rz(th_139)─────────────────────────────────────────────────────────────────────────────────────────X────────────Ry(th_142)────────────────@───Ry(th_143)───X───Rz(th_146)───Rx(th_147)───@────────────Rz(th_151)───Rz(th_152)───X────────────────@───Rz(th_155)───Rx(th_156)────┼Rz(th_177)──────────────────────────────┼────────────────┼───────────────────────────────────────────────────────────────────────────────────────────────────────────────────X────────────Ry(th_180)────────────────@───Ry(th_181)───X───Rz(th_185)───Rx(th_186)───@────────────Rz(th_188)───Rz(th_189)───X────────────────@───Rz(th_192)───Rx(th_193)────Rz(th_194)┼──────────────────────────────┼────────────────┼──────────────────────────────────────────\n",
      "                                                             │                                            │                                       │   │           │                                                                                                                                                                                                               │                                   │               │                            │                                     │               │                                                                                                                                                                                           │                                   │               │                                     │                            │               │                                                              │                                                             │                                                  │                                          │   │            │                                                                                                                                                                                                                               │                                      │                │                              │                                        │                │                                                                                                                                                                                                         │                                      │                │                                        │                              │                │\n",
      "(0, 3): ─────────────────────────────────────────────────────X────────────────────────────────────────────X───Rx(th_9)────Rx(th_10)───Rx(th_14)───@───@───────────@───────────Rz(th_20)───Rz(th_21)───Rz(th_44)───Rx(th_45)───Rz(th_46)───────────────────────────────────────────────────────────────────────────────────────────────────────────────────────────────────────────X───────────Ry(th_49)───────────────@───Ry(th_50)───X───Rz(th_53)───Rx(th_54)────@─────────────Rz(th_56)───Rz(th_57)───X───────────────@───Rz(th_60)───Rx(th_61)───Rz(th_83)───────────────────────────────────────────────────────────────────────────────────────────────────────────────────────────────────────────────────────X───────────Ry(th_86)───────────────@───Ry(th_87)───X───Rz(th_91)───Rx(th_92)─────────────@────Rz(th_94)───Rz(th_95)───X───────────────@───Rz(th_98)────Rx(th_99)────Rz(th_100)───────────────────────X─────────────────────────────────────────────────────────────X──────────────────────────────────────────────────X───Rx(th_113)───Rx(th_114)───Rx(th_118)───@───@────────────@────────────Rz(th_124)───Rz(th_125)───Rz(th_148)───Rx(th_149)───Rz(th_150)─────────────────────────────────────────────────────────────────────────────────────────────────────────────────────────────────────────────────────X────────────Ry(th_153)────────────────@───Ry(th_154)───X───Rz(th_157)───Rx(th_158)────@──────────────Rz(th_160)───Rz(th_161)───X────────────────@───Rz(th_164)───Rx(th_165)───Rz(th_187)──────────────────────────────────────────────────────────────────────────────────────────────────────────────────────────────────────────────────────────────────X────────────Ry(th_190)────────────────@───Ry(th_191)───X───Rz(th_195)───Rx(th_196)──────────────@────Rz(th_198)───Rz(th_199)───X────────────────@───Rz(th_202)───Rx(th_203)───Rz(th_204)───\n",
      "                                                    └─────────┘              └─────────┘                                                                                                                                                                                                                                                                                                                                                                          └──────────┘                                                                                                                                                                                                                                                                                                                       └──────────┘                                                                                          └───────────┘                                                      └───────────┘                └───────────┘                                                                                                                                                                                                                                                                                                                                                                                                      └───────────┘                                                                                                                                                                                                                                                                                                                                              └───────────┘\n"
     ]
    }
   ],
   "source": [
    "mdif = max_diff(translator , circuit_db, simplified_db)\n",
    "print(\"\\n\")\n",
    "print(mdif)\n",
    "print(c)\n",
    "print()\n",
    "print(ss)"
   ]
  },
  {
   "cell_type": "code",
   "execution_count": 12,
   "id": "tough-auckland",
   "metadata": {},
   "outputs": [
    {
     "data": {
      "text/plain": [
       "277"
      ]
     },
     "execution_count": 12,
     "metadata": {},
     "output_type": "execute_result"
    }
   ],
   "source": [
    "len(simplified_db)"
   ]
  },
  {
   "cell_type": "code",
   "execution_count": 13,
   "id": "wired-europe",
   "metadata": {},
   "outputs": [
    {
     "data": {
      "text/plain": [
       "360"
      ]
     },
     "execution_count": 13,
     "metadata": {},
     "output_type": "execute_result"
    }
   ],
   "source": [
    "len(circuit_db)"
   ]
  },
  {
   "cell_type": "code",
   "execution_count": 14,
   "id": "developmental-empire",
   "metadata": {},
   "outputs": [
    {
     "name": "stdout",
     "output_type": "stream",
     "text": [
      "simplified using  <bound method Simplifier.rule_4 of <utilities.simplifier.Simplifier object at 0x7f9fea60bba8>>\n",
      "simplified using  <bound method Simplifier.rule_4 of <utilities.simplifier.Simplifier object at 0x7f9fea60bba8>>\n",
      "simplified using  <bound method Simplifier.rule_4 of <utilities.simplifier.Simplifier object at 0x7f9fea60bba8>>\n",
      "simplified using  <bound method Simplifier.rule_4 of <utilities.simplifier.Simplifier object at 0x7f9fea60bba8>>\n",
      "simplified using  <bound method Simplifier.rule_4 of <utilities.simplifier.Simplifier object at 0x7f9fea60bba8>>\n",
      "simplified using  <bound method Simplifier.rule_4 of <utilities.simplifier.Simplifier object at 0x7f9fea60bba8>>\n",
      "simplified using  <bound method Simplifier.rule_4 of <utilities.simplifier.Simplifier object at 0x7f9fea60bba8>>\n",
      "simplified using  <bound method Simplifier.rule_4 of <utilities.simplifier.Simplifier object at 0x7f9fea60bba8>>\n",
      "simplified using  <bound method Simplifier.rule_4 of <utilities.simplifier.Simplifier object at 0x7f9fea60bba8>>\n",
      "simplified using  <bound method Simplifier.rule_4 of <utilities.simplifier.Simplifier object at 0x7f9fea60bba8>>\n",
      "simplified using  <bound method Simplifier.rule_4 of <utilities.simplifier.Simplifier object at 0x7f9fea60bba8>>\n",
      "simplified using  <bound method Simplifier.rule_4 of <utilities.simplifier.Simplifier object at 0x7f9fea60bba8>>\n",
      "simplified using  <bound method Simplifier.rule_4 of <utilities.simplifier.Simplifier object at 0x7f9fea60bba8>>\n",
      "simplified using  <bound method Simplifier.rule_5 of <utilities.simplifier.Simplifier object at 0x7f9fea60bba8>>\n",
      "simplified using  <bound method Simplifier.rule_5 of <utilities.simplifier.Simplifier object at 0x7f9fea60bba8>>\n",
      "simplified using  <bound method Simplifier.rule_5 of <utilities.simplifier.Simplifier object at 0x7f9fea60bba8>>\n",
      "simplified using  <bound method Simplifier.rule_5 of <utilities.simplifier.Simplifier object at 0x7f9fea60bba8>>\n",
      "simplified using  <bound method Simplifier.rule_5 of <utilities.simplifier.Simplifier object at 0x7f9fea60bba8>>\n",
      "simplified using  <bound method Simplifier.rule_5 of <utilities.simplifier.Simplifier object at 0x7f9fea60bba8>>\n",
      "simplified using  <bound method Simplifier.rule_5 of <utilities.simplifier.Simplifier object at 0x7f9fea60bba8>>\n",
      "simplified using  <bound method Simplifier.rule_5 of <utilities.simplifier.Simplifier object at 0x7f9fea60bba8>>\n",
      "simplified using  <bound method Simplifier.rule_5 of <utilities.simplifier.Simplifier object at 0x7f9fea60bba8>>\n",
      "simplified using  <bound method Simplifier.rule_5 of <utilities.simplifier.Simplifier object at 0x7f9fea60bba8>>\n",
      "simplified using  <bound method Simplifier.rule_5 of <utilities.simplifier.Simplifier object at 0x7f9fea60bba8>>\n",
      "simplified using  <bound method Simplifier.rule_5 of <utilities.simplifier.Simplifier object at 0x7f9fea60bba8>>\n",
      "simplified using  <bound method Simplifier.rule_5 of <utilities.simplifier.Simplifier object at 0x7f9fea60bba8>>\n",
      "simplified using  <bound method Simplifier.rule_5 of <utilities.simplifier.Simplifier object at 0x7f9fea60bba8>>\n",
      "simplified using  <bound method Simplifier.rule_5 of <utilities.simplifier.Simplifier object at 0x7f9fea60bba8>>\n",
      "simplified using  <bound method Simplifier.rule_6 of <utilities.simplifier.Simplifier object at 0x7f9fea60bba8>>\n",
      "simplified using  <bound method Simplifier.rule_6 of <utilities.simplifier.Simplifier object at 0x7f9fea60bba8>>\n",
      "simplified using  <bound method Simplifier.rule_6 of <utilities.simplifier.Simplifier object at 0x7f9fea60bba8>>\n",
      "simplified using  <bound method Simplifier.rule_6 of <utilities.simplifier.Simplifier object at 0x7f9fea60bba8>>\n",
      "simplified using  <bound method Simplifier.rule_6 of <utilities.simplifier.Simplifier object at 0x7f9fea60bba8>>\n",
      "simplified using  <bound method Simplifier.rule_6 of <utilities.simplifier.Simplifier object at 0x7f9fea60bba8>>\n",
      "simplified using  <bound method Simplifier.rule_6 of <utilities.simplifier.Simplifier object at 0x7f9fea60bba8>>\n",
      "simplified using  <bound method Simplifier.rule_6 of <utilities.simplifier.Simplifier object at 0x7f9fea60bba8>>\n",
      "simplified using  <bound method Simplifier.rule_6 of <utilities.simplifier.Simplifier object at 0x7f9fea60bba8>>\n",
      "simplified using  <bound method Simplifier.rule_6 of <utilities.simplifier.Simplifier object at 0x7f9fea60bba8>>\n",
      "simplified using  <bound method Simplifier.rule_6 of <utilities.simplifier.Simplifier object at 0x7f9fea60bba8>>\n",
      "simplified using  <bound method Simplifier.rule_6 of <utilities.simplifier.Simplifier object at 0x7f9fea60bba8>>\n",
      "simplified using  <bound method Simplifier.rule_6 of <utilities.simplifier.Simplifier object at 0x7f9fea60bba8>>\n",
      "simplified using  <bound method Simplifier.rule_6 of <utilities.simplifier.Simplifier object at 0x7f9fea60bba8>>\n",
      "simplified using  <bound method Simplifier.rule_6 of <utilities.simplifier.Simplifier object at 0x7f9fea60bba8>>\n",
      "simplified using  <bound method Simplifier.rule_6 of <utilities.simplifier.Simplifier object at 0x7f9fea60bba8>>\n",
      "simplified using  <bound method Simplifier.rule_6 of <utilities.simplifier.Simplifier object at 0x7f9fea60bba8>>\n",
      "simplified using  <bound method Simplifier.rule_6 of <utilities.simplifier.Simplifier object at 0x7f9fea60bba8>>\n",
      "simplified using  <bound method Simplifier.rule_6 of <utilities.simplifier.Simplifier object at 0x7f9fea60bba8>>\n",
      "simplified using  <bound method Simplifier.rule_6 of <utilities.simplifier.Simplifier object at 0x7f9fea60bba8>>\n",
      "simplified using  <bound method Simplifier.rule_6 of <utilities.simplifier.Simplifier object at 0x7f9fea60bba8>>\n",
      "simplified using  <bound method Simplifier.rule_6 of <utilities.simplifier.Simplifier object at 0x7f9fea60bba8>>\n",
      "simplified using  <bound method Simplifier.rule_6 of <utilities.simplifier.Simplifier object at 0x7f9fea60bba8>>\n",
      "simplified using  <bound method Simplifier.rule_6 of <utilities.simplifier.Simplifier object at 0x7f9fea60bba8>>\n",
      "simplified using  <bound method Simplifier.rule_6 of <utilities.simplifier.Simplifier object at 0x7f9fea60bba8>>\n",
      "simplified using  <bound method Simplifier.rule_6 of <utilities.simplifier.Simplifier object at 0x7f9fea60bba8>>\n",
      "simplified using  <bound method Simplifier.rule_6 of <utilities.simplifier.Simplifier object at 0x7f9fea60bba8>>\n",
      "simplified using  <bound method Simplifier.rule_6 of <utilities.simplifier.Simplifier object at 0x7f9fea60bba8>>\n"
     ]
    }
   ],
   "source": [
    "np.random.seed(0)\n",
    "translator = CirqTranslater(4, untouchable_blocks = [0])\n",
    "\n",
    "translator.env_qubits = [2]\n",
    "\n",
    "simplifier = Simplifier(translator)\n",
    "etas = [0.01, 1.]\n",
    "minimizer = Minimizer(translator, mode=\"discrimination\", params=etas)\n",
    "\n",
    "circuit_db = concatenate_dbs([u2_layer(translator)]*2)\n",
    "\n",
    "cdb = []\n",
    "for ind, qubits in list(translator.indexed_cnots.items()):\n",
    "    cdb.append(gate_template(int(ind), block_id=0))\n",
    "    con, tar = qubits\n",
    "    cdb.append(gate_template(int(con + translator.number_of_cnots), param_value = np.random.random()))\n",
    "    cdb.append(gate_template(int(tar + translator.number_of_cnots + translator.n_qubits), param_value = np.random.random()))\n",
    "cdb = pd.DataFrame(cdb)\n",
    "\n",
    "circuit_db = concatenate_dbs([cdb, circuit_db])\n",
    "circuit, circuit_db = translator.give_circuit(circuit_db)\n",
    "\n",
    "\n",
    "dd1  =circuit_db.copy()\n",
    "dd1[\"block_id\"] = 1\n",
    "dd1[\"symbol\"] = None\n",
    "circuit_db = concatenate_dbs([circuit_db, dd1])\n",
    "c, circuit_db = translator.give_circuit(circuit_db)\n",
    "\n",
    "simplifier = Simplifier(translator, apply_relatives_to_first = True)\n",
    "simplifier.apply_relatives_to_first = True\n",
    "simplifier.relative_rules = [simplifier.rule_1]\n",
    "simplified_db, ns = simplifier.reduce_circuit(circuit_db)\n",
    "ss, simplified_db = translator.give_circuit(simplified_db)"
   ]
  },
  {
   "cell_type": "code",
   "execution_count": 15,
   "id": "secure-touch",
   "metadata": {},
   "outputs": [
    {
     "name": "stdout",
     "output_type": "stream",
     "text": [
      "\n",
      "\n",
      "0.00019779819116462876\n",
      "                                                                                      ┌──┐                                                                                                                                                                                                                                                                                                                                                                                                                                                                                                                                                                                                                                                                                                                                                                                                                                                                                                                                                                                                                                                                                                                  ┌──┐\n",
      "(0, 0): ───@───Rz(th_0)───@───Rz(th_2)───@───Rz(th_4)───X───Rx(th_7)────────────────────X────Rx(th_13)───────────────────────────────────X───Rx(th_19)───Rz(th_24)───Rx(th_25)───Rz(th_26)───────────────────────────@───────────Rz(th_30)───X───────────────@───Rz(th_33)───Rx(th_34)───Rz(th_35)───Rz(th_72)───Rx(th_73)───Rz(th_74)──────────────────────────────────────────────────────────────────────────────────────────────────────────────────────────────────────────────────────────────────────────────────────────────────────────────────────────────X───Ry(th_76)───@───Ry(th_77)───X───Rz(th_81)───Rx(th_82)───Rz(th_83)───Rz(th_84)────Rx(th_85)────Rz(th_86)────@───Rz(th_90)───X───────────────@───Rz(th_93)───Rx(th_94)───Rz(th_95)───Rz(th_132)───Rx(th_133)───Rz(th_134)───────────────────────────────────────────────────────────────────────────────────────────────────────────────────────────────────────────────────────────────────────────────────────────────────────────────────────────────────────────X───Ry(th_136)───@───Ry(th_137)───X───Rz(th_141)───Rx(th_142)───Rz(th_143)───@───Rz(th_144)───@───Rz(th_146)───@───Rz(th_148)───X───Rx(th_151)──────────────────────X────Rx(th_157)─────────────────────────────────────X───Rx(th_163)───Rz(th_168)───Rx(th_169)───Rz(th_170)─────────────────────────────@────────────Rz(th_174)───X────────────────@───Rz(th_177)───Rx(th_178)───Rz(th_179)───Rz(th_216)───Rx(th_217)───Rz(th_218)───────────────────────────────────────────────────────────────────────────────────────────────────────────────────────────────────────────────────────────────────────────────────────────────────────────────────────────────────────────X───Ry(th_220)───@───Ry(th_221)───X───Rz(th_225)───Rx(th_226)───Rz(th_227)───Rz(th_228)───Rx(th_229)───Rz(th_230)───@───Rz(th_234)───X────────────────@───Rz(th_237)───Rx(th_238)───Rz(th_239)───Rz(th_276)───Rx(th_277)───Rz(th_278)───────────────────────────────────────────────────────────────────────────────────────────────────────────────────────────────────────────────────────────────────────────────────────────────────────────────────────────────────────────X───Ry(th_280)───@───Ry(th_281)───X───Rz(th_285)───Rx(th_286)───Rz(th_287)───\n",
      "           │              │              │              │                               │                                                │                                                                           │                       │               │                                                                                                                                                                                                                                                                                                      │               │               │                                                                              │               │               │                                                                                                                                                                                                                                                                                                                      │                │                │                                          │                │                │                │                                   │                                                   │                                                                                 │                         │                │                                                                                                                                                                                                                                                                                                                         │                │                │                                                                                 │                │                │                                                                                                                                                                                                                                                                                                                         │                │                │\n",
      "(0, 1): ───X───Rx(th_1)───┼──────────────┼──────────────@───Rz(th_6)───@───Rz(th_8)────@┼────Rz(th_10)───X───Rx(th_15)───────────────────┼───────────────X───────────Rx(th_21)───Rz(th_27)───Rx(th_28)───Rz(th_29)───X───────────Ry(th_31)───@───Ry(th_32)───X───Rz(th_36)───Rx(th_37)───Rz(th_38)───Rz(th_39)───Rx(th_40)───Rz(th_41)───@───Rz(th_45)───X───────────────@───Rz(th_48)───Rx(th_49)───Rz(th_50)───Rz(th_87)───Rx(th_88)───Rz(th_89)──────────────────────────────────────────────────────────────────────────────────────────────────────────────────┼───────────────┼───────────────┼──────────────────────────────────────────────────────────────────────────────X───Ry(th_91)───@───Ry(th_92)───X───Rz(th_96)───Rx(th_97)───Rz(th_98)───Rz(th_99)────Rx(th_100)───Rz(th_101)───@───Rz(th_105)───X────────────────@───Rz(th_108)───Rx(th_109)───Rz(th_110)──────────────────────────────────────────────────────────────────────────────────────────────────────────────────────────────────────────────────────────────┼────────────────┼────────────────┼──────────────────────────────────────────X───Rx(th_145)───┼────────────────┼────────────────@───Rz(th_150)───@───Rz(th_152)────@┼────Rz(th_154)───X───Rx(th_159)────────────────────┼────────────────X────────────Rx(th_165)───Rz(th_171)───Rx(th_172)───Rz(th_173)───X────────────Ry(th_175)───@───Ry(th_176)───X───Rz(th_180)───Rx(th_181)───Rz(th_182)───Rz(th_183)───Rx(th_184)───Rz(th_185)───@───Rz(th_189)───X────────────────@───Rz(th_192)───Rx(th_193)───Rz(th_194)───Rz(th_231)───Rx(th_232)───Rz(th_233)───────────────────────────────────────────────────────────────────────────────────────────────────────────────────────┼────────────────┼────────────────┼─────────────────────────────────────────────────────────────────────────────────X───Ry(th_235)───@───Ry(th_236)───X───Rz(th_240)───Rx(th_241)───Rz(th_242)───Rz(th_243)───Rx(th_244)───Rz(th_245)───@───Rz(th_249)───X────────────────@───Rz(th_252)───Rx(th_253)───Rz(th_254)──────────────────────────────────────────────────────────────────────────────────────────────────────────────────────────────────────────────────────────────┼────────────────┼────────────────┼──────────────────────────────────────────\n",
      "                          │              │                             │               ││                │                               │               │                                                                                                                                                                               │               │               │                                                                                                                                                                                          │               │               │                                                                                                                                                                                             │                │                │                                                                                                                                                                                                     │                │                │                                                           │                │                                 │                 ││                 │                                 │                │                                                                                                                                                                                             │                │                │                                                                                                                                                                                                     │                │                │                                                                                                                                                                                                     │                │                │                                                                                                                                                                                                     │                │                │\n",
      "(0, 2): ──────────────────X───Rx(th_3)───┼─────────────────────────────X───Rx(th_9)────┼@────Rz(th_12)───@───Rz(th_14)───@───Rz(th_16)───┼───────────────┼───────────────────────X───────────Rx(th_23)───Rz(th_42)───Rx(th_43)───Rz(th_44)───────────────────────────────────────────────────────────────────────────────────────────────X───Ry(th_46)───@───Ry(th_47)───X───Rz(th_51)───Rx(th_52)───Rz(th_53)───Rz(th_54)───Rx(th_55)───Rz(th_56)───@───Rz(th_60)───X───────────────@───Rz(th_63)───Rx(th_64)───Rz(th_65)───Rz(th_102)───Rx(th_103)───Rz(th_104)───┼───────────────┼───────────────┼─────────────────────────────────────────────────────────────────────────────────────────────────────────────────────────────────────────────────────────────────────────────────────────────X───Ry(th_106)───@───Ry(th_107)───X───Rz(th_111)───Rx(th_112)───Rz(th_113)───Rz(th_114)───Rx(th_115)───Rz(th_116)───@───Rz(th_120)───X────────────────@───Rz(th_123)───Rx(th_124)───Rz(th_125)──────────────────────────────────────────┼────────────────┼────────────────┼───────────────────────────────────────────────────────────X───Rx(th_147)───┼─────────────────────────────────X───Rx(th_153)────┼@────Rz(th_156)───@───Rz(th_158)───@───Rz(th_160)───┼────────────────┼─────────────────────────X────────────Rx(th_167)───Rz(th_186)───Rx(th_187)───Rz(th_188)──────────────────────────────────────────────────────────────────────────────────────────────────────X───Ry(th_190)───@───Ry(th_191)───X───Rz(th_195)───Rx(th_196)───Rz(th_197)───Rz(th_198)───Rx(th_199)───Rz(th_200)───@───Rz(th_204)───X────────────────@───Rz(th_207)───Rx(th_208)───Rz(th_209)───Rz(th_246)───Rx(th_247)───Rz(th_248)───┼────────────────┼────────────────┼─────────────────────────────────────────────────────────────────────────────────────────────────────────────────────────────────────────────────────────────────────────────────────────────────────X───Ry(th_250)───@───Ry(th_251)───X───Rz(th_255)───Rx(th_256)───Rz(th_257)───Rz(th_258)───Rx(th_259)───Rz(th_260)───@───Rz(th_264)───X────────────────@───Rz(th_267)───Rx(th_268)───Rz(th_269)──────────────────────────────────────────┼────────────────┼────────────────┼──────────────────────────────────────────\n",
      "                                         │                                             │                                 │               │               │                       │                                                                                                                                                                                                                                                                   │               │               │                                                                              │               │               │                                                                                                                                                                                                                                                                                                                 │                │                │                                                                                 │                │                │                                                                            │                                                   │                                   │                │                │                         │                                                                                                                                                                                                                                                                                       │                │                │                                                                                 │                │                │                                                                                                                                                                                                                                                                                                                         │                │                │                                                                                 │                │                │\n",
      "(0, 3): ─────────────────────────────────X───Rx(th_5)──────────────────────────────────X─────Rx(th_11)───────────────────X───Rx(th_17)───@───Rz(th_18)───@───────────Rz(th_20)───@───────────Rz(th_22)───Rz(th_57)───Rx(th_58)───Rz(th_59)───────────────────────────────────────────────────────────────────────────────────────────────────────────────────────────────────────────────────────────────────────────────────────────────────────────X───Ry(th_61)───@───Ry(th_62)───X───Rz(th_66)───Rx(th_67)───Rz(th_68)───Rz(th_69)────Rx(th_70)────Rz(th_71)────@───Rz(th_75)───X───────────────@───Rz(th_78)───Rx(th_79)───Rz(th_80)───Rz(th_117)───Rx(th_118)───Rz(th_119)──────────────────────────────────────────────────────────────────────────────────────────────────────────────────────────────────────────────────────────────────────────────────────────────────────────────────────────────────────X───Ry(th_121)───@───Ry(th_122)───X───Rz(th_126)───Rx(th_127)───Rz(th_128)───Rz(th_129)───Rx(th_130)───Rz(th_131)───@───Rz(th_135)───X────────────────@───Rz(th_138)───Rx(th_139)───Rz(th_140)─────────────────────────────────────X───Rx(th_149)──────────────────────────────────────X─────Rx(th_155)────────────────────X───Rx(th_161)───@───Rz(th_162)───@────────────Rz(th_164)───@────────────Rz(th_166)───Rz(th_201)───Rx(th_202)───Rz(th_203)──────────────────────────────────────────────────────────────────────────────────────────────────────────────────────────────────────────────────────────────────────────────────────────────────────────────────────────X───Ry(th_205)───@───Ry(th_206)───X───Rz(th_210)───Rx(th_211)───Rz(th_212)───Rz(th_213)───Rx(th_214)───Rz(th_215)───@───Rz(th_219)───X────────────────@───Rz(th_222)───Rx(th_223)───Rz(th_224)───Rz(th_261)───Rx(th_262)───Rz(th_263)───────────────────────────────────────────────────────────────────────────────────────────────────────────────────────────────────────────────────────────────────────────────────────────────────────────────────────────────────────────X───Ry(th_265)───@───Ry(th_266)───X───Rz(th_270)───Rx(th_271)───Rz(th_272)───Rz(th_273)───Rx(th_274)───Rz(th_275)───@───Rz(th_279)───X────────────────@───Rz(th_282)───Rx(th_283)───Rz(th_284)───\n",
      "                                                                                      └──┘                                                                                                                                                                                                                                                                                                                                                                                                                                                                                                                                                                                                                                                                                                                                                                                                                                                                                                                                                                                                                                                                                                                  └──┘\n",
      "\n",
      "                                                                                      ┌──┐                                                                                                                                                                                                                                                                                                                                                                                                                                                                                                                                                                                                                                                                                                                                                                                                                                                                                                                                                                                                                                 ┌───────────┐                                                      ┌───────────┐                ┌───────────┐                                                                                                                                                                                                                                                                                                                                                                                                      ┌───────────┐                                                                                                                                                                                                                                                                                                                                              ┌───────────┐\n",
      "(0, 0): ───@───Rz(th_0)───@───Rz(th_2)───@───Rz(th_4)───X───Rx(th_7)────────────────────X────Rx(th_13)───────────────────────────────────X───Rx(th_19)───Rz(th_24)───Rx(th_25)───Rz(th_26)───────────────────────────@───────────Rz(th_30)───X───────────────@───Rz(th_33)───Rx(th_34)───Rz(th_35)───Rz(th_72)───Rx(th_73)───Rz(th_74)──────────────────────────────────────────────────────────────────────────────────────────────────────────────────────────────────────────────────────────────────────────────────────────────────────────────────────────────X───Ry(th_76)───@───Ry(th_77)───X───Rz(th_81)───Rx(th_82)───Rz(th_83)───Rz(th_84)────Rx(th_85)────Rz(th_86)────@───Rz(th_90)───X───────────────@───Rz(th_93)───Rx(th_94)───Rz(th_95)───Rz(th_132)───Rx(th_133)───Rz(th_134)───────────────────────────────────────────────────────────────────────────────────────────────────────────────────────────────────────────────────────────────────────────────────────────────────────────────────────────────────────────X───Ry(th_136)───@───Ry(th_137)───X───Rz(th_141)───Rx(th_142)───Rz(th_143)───@──────────────@────@───Rz(th_145)───Rz(th_146)───Rz(th_147)───X───────────────────────────────────────────────X────────────────────────────────────────────────────────────────X───Rx(th_159)───Rx(th_160)───Rz(th_161)───Rx(th_167)────────────────@────────────Rz(th_170)───Rz(th_171)───X────────────────@───Rz(th_174)───Rx(th_175)───Rz(th_199)───────────────────────────────────────────────────────────────────────────────────────────────────────────────────────────────────────────────────────────────────X──────────────Ry(th_202)────────────────@───Ry(th_203)───X───Rz(th_206)───Rx(th_207)───@────────────Rz(th_209)───Rz(th_210)───X────────────────@───Rz(th_213)───Rx(th_214)───Rz(th_237)─────────────────────────────────────────────────────────────────────────────────────────────────────────────────────────────────────────────────────────────────────────────X────Ry(th_240)────────────────@───Ry(th_241)───X───Rz(th_245)───Rx(th_246)───Rz(th_247)───\n",
      "           │              │              │              │                               │                                                │                                                                           │                       │               │                                                                                                                                                                                                                                                                                                      │               │               │                                                                              │               │               │                                                                                                                                                                                                                                                                                                                      │                │                │                                          │              │    │                                          │                                               │                                                                │                                                                    │                                      │                │                                                                                                                                                                                                          │                                        │                │                             │                                      │                │                                                                                                                                                                                                                    │                              │                │\n",
      "(0, 1): ───X───Rx(th_1)───┼──────────────┼──────────────@───Rz(th_6)───@───Rz(th_8)────@┼────Rz(th_10)───X───Rx(th_15)───────────────────┼───────────────X───────────Rx(th_21)───Rz(th_27)───Rx(th_28)───Rz(th_29)───X───────────Ry(th_31)───@───Ry(th_32)───X───Rz(th_36)───Rx(th_37)───Rz(th_38)───Rz(th_39)───Rx(th_40)───Rz(th_41)───@───Rz(th_45)───X───────────────@───Rz(th_48)───Rx(th_49)───Rz(th_50)───Rz(th_87)───Rx(th_88)───Rz(th_89)──────────────────────────────────────────────────────────────────────────────────────────────────────────────────┼───────────────┼───────────────┼──────────────────────────────────────────────────────────────────────────────X───Ry(th_91)───@───Ry(th_92)───X───Rz(th_96)───Rx(th_97)───Rz(th_98)───Rz(th_99)────Rx(th_100)───Rz(th_101)───@───Rz(th_105)───X────────────────@───Rz(th_108)───Rx(th_109)───Rz(th_110)──────────────────────────────────────────────────────────────────────────────────────────────────────────────────────────────────────────────────────────────┼────────────────┼────────────────┼──────────────────────────────────────────X────Rx(th_144)┼────┼──────────────────────────────────────────@───@──────────────@────Rz(th_150)────Rz(th_151)┼────Rz(th_152)───X──────────────────────────────────────────────┼───X────────────Rx(th_162)───Rz(th_163)───Rx(th_168)───Rz(th_169)───X────────────Ry(th_172)────────────────@───Ry(th_173)───X───Rz(th_176)───Rx(th_177)───@────────────Rz(th_180)───Rz(th_181)───X────────────────@───Rz(th_184)───Rx(th_185)───Rz(th_208)─────────────────────────────────────────────────────────────────────────────┼────────────────────────────────────────┼────────────────┼─────────────────────────────X────────────Ry(th_211)────────────────@───Ry(th_212)───X───Rz(th_215)───Rx(th_216)───@────────────Rz(th_218)───Rz(th_219)───X────────────────@───Rz(th_222)───Rx(th_223)───Rz(th_224)───────────────────────────────────────────────────────────────────────────────────────┼──────────────────────────────┼────────────────┼──────────────────────────────────────────\n",
      "                          │              │                             │               ││                │                               │               │                                                                                                                                                                               │               │               │                                                                                                                                                                                          │               │               │                                                                                                                                                                                             │                │                │                                                                                                                                                                                                     │                │                │                                                         │    │                                              │              │                            │                 │                                              │   │                                                                                                                                                      │                                      │                │                                                                                                                    │                                        │                │                                                                                                                   │                                      │                │                                                                                                                              │                              │                │\n",
      "(0, 2): ──────────────────X───Rx(th_3)───┼─────────────────────────────X───Rx(th_9)────┼@────Rz(th_12)───@───Rz(th_14)───@───Rz(th_16)───┼───────────────┼───────────────────────X───────────Rx(th_23)───Rz(th_42)───Rx(th_43)───Rz(th_44)───────────────────────────────────────────────────────────────────────────────────────────────X───Ry(th_46)───@───Ry(th_47)───X───Rz(th_51)───Rx(th_52)───Rz(th_53)───Rz(th_54)───Rx(th_55)───Rz(th_56)───@───Rz(th_60)───X───────────────@───Rz(th_63)───Rx(th_64)───Rz(th_65)───Rz(th_102)───Rx(th_103)───Rz(th_104)───┼───────────────┼───────────────┼─────────────────────────────────────────────────────────────────────────────────────────────────────────────────────────────────────────────────────────────────────────────────────────────X───Ry(th_106)───@───Ry(th_107)───X───Rz(th_111)───Rx(th_112)───Rz(th_113)───Rz(th_114)───Rx(th_115)───Rz(th_116)───@───Rz(th_120)───X────────────────@───Rz(th_123)───Rx(th_124)───Rz(th_125)──────────────────────────────────────────┼────────────────┼────────────────┼─────────────────────────────────────────────────────────X────┼──────────────────────────────────────────────X────Rx(th_148)┼────Rx(th_149)──────────────@─────────────────@───@───Rz(th_155)───Rz(th_156)───Rz(th_157)───┼───┼────────────X────────────Rz(th_166)───Rx(th_178)───Rz(th_179)─────────────────────────────────────────────────────────────────────────────────────────X────────────Ry(th_182)────────────────@───Ry(th_183)───X───Rz(th_186)───Rx(th_187)───@────────────Rz(th_191)───Rz(th_192)───X────────────────@───Rz(th_195)───Rx(th_196)────┼Rz(th_217)──────────────────────────────┼────────────────┼───────────────────────────────────────────────────────────────────────────────────────────────────────────────────X────────────Ry(th_220)────────────────@───Ry(th_221)───X───Rz(th_225)───Rx(th_226)───@────────────Rz(th_228)───Rz(th_229)───X────────────────@───Rz(th_232)───Rx(th_233)────Rz(th_234)┼──────────────────────────────┼────────────────┼──────────────────────────────────────────\n",
      "                                         │                                             │                                 │               │               │                       │                                                                                                                                                                                                                                                                   │               │               │                                                                              │               │               │                                                                                                                                                                                                                                                                                                                 │                │                │                                                                                 │                │                │                                                              │                                                             │                                                  │                                          │   │            │                                                                                                                                                                                                                               │                                      │                │                              │                                        │                │                                                                                                                                                                                                         │                                      │                │                                        │                              │                │\n",
      "(0, 3): ─────────────────────────────────X───Rx(th_5)──────────────────────────────────X─────Rx(th_11)───────────────────X───Rx(th_17)───@───Rz(th_18)───@───────────Rz(th_20)───@───────────Rz(th_22)───Rz(th_57)───Rx(th_58)───Rz(th_59)───────────────────────────────────────────────────────────────────────────────────────────────────────────────────────────────────────────────────────────────────────────────────────────────────────────X───Ry(th_61)───@───Ry(th_62)───X───Rz(th_66)───Rx(th_67)───Rz(th_68)───Rz(th_69)────Rx(th_70)────Rz(th_71)────@───Rz(th_75)───X───────────────@───Rz(th_78)───Rx(th_79)───Rz(th_80)───Rz(th_117)───Rx(th_118)───Rz(th_119)──────────────────────────────────────────────────────────────────────────────────────────────────────────────────────────────────────────────────────────────────────────────────────────────────────────────────────────────────────X───Ry(th_121)───@───Ry(th_122)───X───Rz(th_126)───Rx(th_127)───Rz(th_128)───Rz(th_129)───Rx(th_130)───Rz(th_131)───@───Rz(th_135)───X────────────────@───Rz(th_138)───Rx(th_139)───Rz(th_140)───────────────────────X─────────────────────────────────────────────────────────────X──────────────────────────────────────────────────X───Rx(th_153)───Rx(th_154)───Rx(th_158)───@───@────────────@────────────Rz(th_164)───Rz(th_165)───Rz(th_188)───Rx(th_189)───Rz(th_190)─────────────────────────────────────────────────────────────────────────────────────────────────────────────────────────────────────────────────────X────────────Ry(th_193)────────────────@───Ry(th_194)───X───Rz(th_197)───Rx(th_198)────@──────────────Rz(th_200)───Rz(th_201)───X────────────────@───Rz(th_204)───Rx(th_205)───Rz(th_227)──────────────────────────────────────────────────────────────────────────────────────────────────────────────────────────────────────────────────────────────────X────────────Ry(th_230)────────────────@───Ry(th_231)───X───Rz(th_235)───Rx(th_236)──────────────@────Rz(th_238)───Rz(th_239)───X────────────────@───Rz(th_242)───Rx(th_243)───Rz(th_244)───\n",
      "                                                                                      └──┘                                                                                                                                                                                                                                                                                                                                                                                                                                                                                                                                                                                                                                                                                                                                                                                                                                                                                                                                                                                                                                 └───────────┘                                                      └───────────┘                └───────────┘                                                                                                                                                                                                                                                                                                                                                                                                      └───────────┘                                                                                                                                                                                                                                                                                                                                              └───────────┘\n"
     ]
    }
   ],
   "source": [
    "mdif = max_diff(translator , circuit_db, simplified_db)\n",
    "print(\"\\n\")\n",
    "print(mdif)\n",
    "print(c)\n",
    "print()\n",
    "print(ss)"
   ]
  },
  {
   "cell_type": "code",
   "execution_count": 16,
   "id": "verified-maine",
   "metadata": {},
   "outputs": [
    {
     "data": {
      "text/plain": [
       "(360, 320)"
      ]
     },
     "execution_count": 16,
     "metadata": {},
     "output_type": "execute_result"
    }
   ],
   "source": [
    "len(circuit_db), len(simplified_db)"
   ]
  },
  {
   "cell_type": "code",
   "execution_count": null,
   "id": "disabled-investigator",
   "metadata": {},
   "outputs": [],
   "source": []
  }
 ],
 "metadata": {
  "kernelspec": {
   "display_name": "Python 3",
   "language": "python",
   "name": "python3"
  },
  "language_info": {
   "codemirror_mode": {
    "name": "ipython",
    "version": 3
   },
   "file_extension": ".py",
   "mimetype": "text/x-python",
   "name": "python",
   "nbconvert_exporter": "python",
   "pygments_lexer": "ipython3",
   "version": "3.6.9"
  }
 },
 "nbformat": 4,
 "nbformat_minor": 5
}
