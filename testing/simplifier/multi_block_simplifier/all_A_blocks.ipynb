{
 "cells": [
  {
   "cell_type": "markdown",
   "id": "israeli-cathedral",
   "metadata": {},
   "source": [
    "In this notebook we give a proof of concept of unitary compiling using TFQ. "
   ]
  },
  {
   "cell_type": "code",
   "execution_count": 23,
   "id": "cleared-explorer",
   "metadata": {},
   "outputs": [
    {
     "name": "stdout",
     "output_type": "stream",
     "text": [
      "The autoreload extension is already loaded. To reload it, use:\n",
      "  %reload_ext autoreload\n"
     ]
    }
   ],
   "source": [
    "%load_ext autoreload\n",
    "%autoreload 2\n",
    "\n",
    "import sympy \n",
    "import numpy as np \n",
    "import pandas as pd \n",
    "import tensorflow as tf\n",
    "from utilities.circuit_database import CirqTranslater\n",
    "from utilities.templates import *\n",
    "from utilities.variational import Minimizer\n",
    "from utilities.misc import get_qubits_involved, reindex_symbol, shift_symbols_down\n",
    "import matplotlib.pyplot as plt \n",
    "import tensorflow_quantum as tfq\n",
    "import cirq\n",
    "from utilities.compiling import *\n",
    "from utilities.misc import *\n",
    "from utilities.simplifier import Simplifier\n",
    "from utilities.discrimination import *\n",
    "from utilities.idinserter import IdInserter\n",
    "from utilities.evaluator import Evaluator\n",
    "from utilities.gate_killer import GateKiller\n",
    "from ast import literal_eval\n"
   ]
  },
  {
   "cell_type": "code",
   "execution_count": 24,
   "id": "administrative-aquatic",
   "metadata": {},
   "outputs": [],
   "source": [
    "np.random.seed(0)\n",
    "translator = CirqTranslater(4, untouchable_blocks = [])\n",
    "translator.env_qubits = [2]\n",
    "\n",
    "simplifier = Simplifier(translator)\n",
    "etas = [0.01, 1.]\n",
    "minimizer = Minimizer(translator, mode=\"discrimination\", params=etas)\n",
    "\n",
    "cdb = []\n",
    "for ind, qubits in list(translator.indexed_cnots.items()):\n",
    "    cdb.append(gate_template(int(ind), block_id=0))\n",
    "    con, tar = qubits\n",
    "    cdb.append(gate_template(int(con + translator.number_of_cnots), param_value = np.random.random()))\n",
    "    cdb.append(gate_template(int(tar + translator.number_of_cnots + translator.n_qubits), param_value = np.random.random()))\n",
    "circuit_db = pd.DataFrame(cdb)\n",
    "c0, cdb0 = translator.give_circuit(x_layer_db(translator))\n",
    "circuit_db = concatenate_dbs([circuit_db, cdb0])\n",
    "circuit_db[\"symbol\"] = None\n",
    "circuit, circuit_db  = translator.give_circuit(circuit_db)\n",
    "\n",
    "dd1  =circuit_db.copy()\n",
    "dd1[\"block_id\"] = 1\n",
    "dd1[\"symbol\"] = None\n",
    "circuit_db = concatenate_dbs([circuit_db, dd1])\n",
    "c, circuit_db = translator.give_circuit(circuit_db)\n",
    "\n",
    "dd1  =circuit_db.copy()\n",
    "dd1[\"block_id\"] = 2\n",
    "dd1[\"symbol\"] = None\n",
    "circuit_db = concatenate_dbs([circuit_db, dd1])\n",
    "c, circuit_db = translator.give_circuit(circuit_db)"
   ]
  },
  {
   "cell_type": "code",
   "execution_count": 25,
   "id": "great-voluntary",
   "metadata": {},
   "outputs": [
    {
     "name": "stdout",
     "output_type": "stream",
     "text": [
      "simplified using  <bound method Simplifier.rule_4 of <utilities.simplifier.Simplifier object at 0x7f83018f1c18>>\n",
      "simplified using  <bound method Simplifier.rule_4 of <utilities.simplifier.Simplifier object at 0x7f83018f1c18>>\n",
      "simplified using  <bound method Simplifier.rule_4 of <utilities.simplifier.Simplifier object at 0x7f83018f1c18>>\n",
      "simplified using  <bound method Simplifier.rule_6 of <utilities.simplifier.Simplifier object at 0x7f83018f1c18>>\n",
      "simplified using  <bound method Simplifier.rule_6 of <utilities.simplifier.Simplifier object at 0x7f83018f1c18>>\n",
      "simplified using  <bound method Simplifier.rule_6 of <utilities.simplifier.Simplifier object at 0x7f83018f1c18>>\n",
      "simplified using  <bound method Simplifier.rule_6 of <utilities.simplifier.Simplifier object at 0x7f83018f1c18>>\n",
      "simplified using  <bound method Simplifier.rule_6 of <utilities.simplifier.Simplifier object at 0x7f83018f1c18>>\n",
      "simplified using  <bound method Simplifier.rule_6 of <utilities.simplifier.Simplifier object at 0x7f83018f1c18>>\n",
      "simplified using  <bound method Simplifier.rule_6 of <utilities.simplifier.Simplifier object at 0x7f83018f1c18>>\n",
      "simplified using  <bound method Simplifier.rule_6 of <utilities.simplifier.Simplifier object at 0x7f83018f1c18>>\n",
      "simplified using  <bound method Simplifier.rule_6 of <utilities.simplifier.Simplifier object at 0x7f83018f1c18>>\n",
      "simplified using  <bound method Simplifier.rule_6 of <utilities.simplifier.Simplifier object at 0x7f83018f1c18>>\n",
      "simplified using  <bound method Simplifier.rule_6 of <utilities.simplifier.Simplifier object at 0x7f83018f1c18>>\n",
      "simplified using  <bound method Simplifier.rule_6 of <utilities.simplifier.Simplifier object at 0x7f83018f1c18>>\n",
      "simplified using  <bound method Simplifier.rule_6 of <utilities.simplifier.Simplifier object at 0x7f83018f1c18>>\n",
      "simplified using  <bound method Simplifier.rule_6 of <utilities.simplifier.Simplifier object at 0x7f83018f1c18>>\n",
      "simplified using  <bound method Simplifier.rule_6 of <utilities.simplifier.Simplifier object at 0x7f83018f1c18>>\n",
      "simplified using  <bound method Simplifier.rule_6 of <utilities.simplifier.Simplifier object at 0x7f83018f1c18>>\n",
      "simplified using  <bound method Simplifier.rule_6 of <utilities.simplifier.Simplifier object at 0x7f83018f1c18>>\n",
      "simplified using  <bound method Simplifier.rule_6 of <utilities.simplifier.Simplifier object at 0x7f83018f1c18>>\n",
      "simplified using  <bound method Simplifier.rule_6 of <utilities.simplifier.Simplifier object at 0x7f83018f1c18>>\n",
      "simplified using  <bound method Simplifier.rule_6 of <utilities.simplifier.Simplifier object at 0x7f83018f1c18>>\n",
      "simplified using  <bound method Simplifier.rule_1 of <utilities.simplifier.Simplifier object at 0x7f83018f1c18>>\n",
      "simplified using  <bound method Simplifier.rule_1 of <utilities.simplifier.Simplifier object at 0x7f83018f1c18>>\n",
      "simplified using  <bound method Simplifier.rule_1 of <utilities.simplifier.Simplifier object at 0x7f83018f1c18>>\n",
      "simplified using  <bound method Simplifier.rule_4 of <utilities.simplifier.Simplifier object at 0x7f83018f1c18>>\n",
      "simplified using  <bound method Simplifier.rule_4 of <utilities.simplifier.Simplifier object at 0x7f83018f1c18>>\n",
      "simplified using  <bound method Simplifier.rule_4 of <utilities.simplifier.Simplifier object at 0x7f83018f1c18>>\n",
      "simplified using  <bound method Simplifier.rule_6 of <utilities.simplifier.Simplifier object at 0x7f83018f1c18>>\n",
      "simplified using  <bound method Simplifier.rule_6 of <utilities.simplifier.Simplifier object at 0x7f83018f1c18>>\n",
      "simplified using  <bound method Simplifier.rule_6 of <utilities.simplifier.Simplifier object at 0x7f83018f1c18>>\n",
      "simplified using  <bound method Simplifier.rule_6 of <utilities.simplifier.Simplifier object at 0x7f83018f1c18>>\n",
      "simplified using  <bound method Simplifier.rule_6 of <utilities.simplifier.Simplifier object at 0x7f83018f1c18>>\n",
      "simplified using  <bound method Simplifier.rule_6 of <utilities.simplifier.Simplifier object at 0x7f83018f1c18>>\n",
      "simplified using  <bound method Simplifier.rule_6 of <utilities.simplifier.Simplifier object at 0x7f83018f1c18>>\n",
      "simplified using  <bound method Simplifier.rule_6 of <utilities.simplifier.Simplifier object at 0x7f83018f1c18>>\n",
      "simplified using  <bound method Simplifier.rule_6 of <utilities.simplifier.Simplifier object at 0x7f83018f1c18>>\n",
      "simplified using  <bound method Simplifier.rule_6 of <utilities.simplifier.Simplifier object at 0x7f83018f1c18>>\n",
      "simplified using  <bound method Simplifier.rule_6 of <utilities.simplifier.Simplifier object at 0x7f83018f1c18>>\n",
      "simplified using  <bound method Simplifier.rule_6 of <utilities.simplifier.Simplifier object at 0x7f83018f1c18>>\n",
      "simplified using  <bound method Simplifier.rule_6 of <utilities.simplifier.Simplifier object at 0x7f83018f1c18>>\n",
      "simplified using  <bound method Simplifier.rule_6 of <utilities.simplifier.Simplifier object at 0x7f83018f1c18>>\n",
      "simplified using  <bound method Simplifier.rule_6 of <utilities.simplifier.Simplifier object at 0x7f83018f1c18>>\n",
      "simplified using  <bound method Simplifier.rule_6 of <utilities.simplifier.Simplifier object at 0x7f83018f1c18>>\n",
      "simplified using  <bound method Simplifier.rule_6 of <utilities.simplifier.Simplifier object at 0x7f83018f1c18>>\n",
      "simplified using  <bound method Simplifier.rule_6 of <utilities.simplifier.Simplifier object at 0x7f83018f1c18>>\n",
      "simplified using  <bound method Simplifier.rule_6 of <utilities.simplifier.Simplifier object at 0x7f83018f1c18>>\n",
      "simplified using  <bound method Simplifier.rule_6 of <utilities.simplifier.Simplifier object at 0x7f83018f1c18>>\n",
      "simplified using  <bound method Simplifier.rule_4 of <utilities.simplifier.Simplifier object at 0x7f83018f1c18>>\n",
      "simplified using  <bound method Simplifier.rule_4 of <utilities.simplifier.Simplifier object at 0x7f83018f1c18>>\n",
      "simplified using  <bound method Simplifier.rule_4 of <utilities.simplifier.Simplifier object at 0x7f83018f1c18>>\n",
      "simplified using  <bound method Simplifier.rule_4 of <utilities.simplifier.Simplifier object at 0x7f83018f1c18>>\n",
      "simplified using  <bound method Simplifier.rule_4 of <utilities.simplifier.Simplifier object at 0x7f83018f1c18>>\n",
      "simplified using  <bound method Simplifier.rule_4 of <utilities.simplifier.Simplifier object at 0x7f83018f1c18>>\n",
      "simplified using  <bound method Simplifier.rule_6 of <utilities.simplifier.Simplifier object at 0x7f83018f1c18>>\n",
      "simplified using  <bound method Simplifier.rule_6 of <utilities.simplifier.Simplifier object at 0x7f83018f1c18>>\n",
      "simplified using  <bound method Simplifier.rule_6 of <utilities.simplifier.Simplifier object at 0x7f83018f1c18>>\n",
      "simplified using  <bound method Simplifier.rule_6 of <utilities.simplifier.Simplifier object at 0x7f83018f1c18>>\n",
      "simplified using  <bound method Simplifier.rule_6 of <utilities.simplifier.Simplifier object at 0x7f83018f1c18>>\n",
      "simplified using  <bound method Simplifier.rule_6 of <utilities.simplifier.Simplifier object at 0x7f83018f1c18>>\n",
      "simplified using  <bound method Simplifier.rule_6 of <utilities.simplifier.Simplifier object at 0x7f83018f1c18>>\n",
      "simplified using  <bound method Simplifier.rule_6 of <utilities.simplifier.Simplifier object at 0x7f83018f1c18>>\n",
      "simplified using  <bound method Simplifier.rule_6 of <utilities.simplifier.Simplifier object at 0x7f83018f1c18>>\n",
      "simplified using  <bound method Simplifier.rule_6 of <utilities.simplifier.Simplifier object at 0x7f83018f1c18>>\n",
      "simplified using  <bound method Simplifier.rule_6 of <utilities.simplifier.Simplifier object at 0x7f83018f1c18>>\n",
      "simplified using  <bound method Simplifier.rule_6 of <utilities.simplifier.Simplifier object at 0x7f83018f1c18>>\n",
      "simplified using  <bound method Simplifier.rule_6 of <utilities.simplifier.Simplifier object at 0x7f83018f1c18>>\n",
      "simplified using  <bound method Simplifier.rule_6 of <utilities.simplifier.Simplifier object at 0x7f83018f1c18>>\n",
      "simplified using  <bound method Simplifier.rule_6 of <utilities.simplifier.Simplifier object at 0x7f83018f1c18>>\n",
      "simplified using  <bound method Simplifier.rule_6 of <utilities.simplifier.Simplifier object at 0x7f83018f1c18>>\n",
      "simplified using  <bound method Simplifier.rule_6 of <utilities.simplifier.Simplifier object at 0x7f83018f1c18>>\n",
      "simplified using  <bound method Simplifier.rule_6 of <utilities.simplifier.Simplifier object at 0x7f83018f1c18>>\n",
      "simplified using  <bound method Simplifier.rule_6 of <utilities.simplifier.Simplifier object at 0x7f83018f1c18>>\n",
      "simplified using  <bound method Simplifier.rule_6 of <utilities.simplifier.Simplifier object at 0x7f83018f1c18>>\n"
     ]
    },
    {
     "name": "stdout",
     "output_type": "stream",
     "text": [
      "simplified using  <bound method Simplifier.rule_6 of <utilities.simplifier.Simplifier object at 0x7f83018f1c18>>\n",
      "simplified using  <bound method Simplifier.rule_6 of <utilities.simplifier.Simplifier object at 0x7f83018f1c18>>\n",
      "simplified using  <bound method Simplifier.rule_6 of <utilities.simplifier.Simplifier object at 0x7f83018f1c18>>\n",
      "simplified using  <bound method Simplifier.rule_6 of <utilities.simplifier.Simplifier object at 0x7f83018f1c18>>\n",
      "simplified using  <bound method Simplifier.rule_6 of <utilities.simplifier.Simplifier object at 0x7f83018f1c18>>\n",
      "simplified using  <bound method Simplifier.rule_6 of <utilities.simplifier.Simplifier object at 0x7f83018f1c18>>\n",
      "simplified using  <bound method Simplifier.rule_6 of <utilities.simplifier.Simplifier object at 0x7f83018f1c18>>\n",
      "simplified using  <bound method Simplifier.rule_6 of <utilities.simplifier.Simplifier object at 0x7f83018f1c18>>\n",
      "simplified using  <bound method Simplifier.rule_6 of <utilities.simplifier.Simplifier object at 0x7f83018f1c18>>\n",
      "simplified using  <bound method Simplifier.rule_6 of <utilities.simplifier.Simplifier object at 0x7f83018f1c18>>\n",
      "simplified using  <bound method Simplifier.rule_6 of <utilities.simplifier.Simplifier object at 0x7f83018f1c18>>\n",
      "simplified using  <bound method Simplifier.rule_6 of <utilities.simplifier.Simplifier object at 0x7f83018f1c18>>\n",
      "simplified using  <bound method Simplifier.rule_6 of <utilities.simplifier.Simplifier object at 0x7f83018f1c18>>\n",
      "simplified using  <bound method Simplifier.rule_6 of <utilities.simplifier.Simplifier object at 0x7f83018f1c18>>\n",
      "simplified using  <bound method Simplifier.rule_6 of <utilities.simplifier.Simplifier object at 0x7f83018f1c18>>\n",
      "simplified using  <bound method Simplifier.rule_6 of <utilities.simplifier.Simplifier object at 0x7f83018f1c18>>\n",
      "simplified using  <bound method Simplifier.rule_6 of <utilities.simplifier.Simplifier object at 0x7f83018f1c18>>\n",
      "simplified using  <bound method Simplifier.rule_6 of <utilities.simplifier.Simplifier object at 0x7f83018f1c18>>\n",
      "simplified using  <bound method Simplifier.rule_6 of <utilities.simplifier.Simplifier object at 0x7f83018f1c18>>\n",
      "simplified using  <bound method Simplifier.rule_6 of <utilities.simplifier.Simplifier object at 0x7f83018f1c18>>\n",
      "simplified using  <bound method Simplifier.rule_6 of <utilities.simplifier.Simplifier object at 0x7f83018f1c18>>\n",
      "simplified using  <bound method Simplifier.rule_6 of <utilities.simplifier.Simplifier object at 0x7f83018f1c18>>\n",
      "simplified using  <bound method Simplifier.rule_6 of <utilities.simplifier.Simplifier object at 0x7f83018f1c18>>\n",
      "simplified using  <bound method Simplifier.rule_6 of <utilities.simplifier.Simplifier object at 0x7f83018f1c18>>\n",
      "simplified using  <bound method Simplifier.rule_6 of <utilities.simplifier.Simplifier object at 0x7f83018f1c18>>\n",
      "simplified using  <bound method Simplifier.rule_6 of <utilities.simplifier.Simplifier object at 0x7f83018f1c18>>\n",
      "simplified using  <bound method Simplifier.rule_6 of <utilities.simplifier.Simplifier object at 0x7f83018f1c18>>\n",
      "\n",
      "\n",
      "3.6638411145107034e-16\n",
      "                                                                                      ┌──┐\n",
      "(0, 0): ───@───Rz(th_0)───@───Rz(th_2)───@───Rz(th_4)───X───Rx(th_7)────────────────────X────Rx(th_13)───────────────────────────────────X───Rx(th_19)───Rx(th_24)───────────────────────────────────────────────────\n",
      "           │              │              │              │                               │                                                │\n",
      "(0, 1): ───X───Rx(th_1)───┼──────────────┼──────────────@───Rz(th_6)───@───Rz(th_8)────@┼────Rz(th_10)───X───Rx(th_15)───────────────────┼───────────────X───────────Rx(th_21)───Rx(th_25)───────────────────────────\n",
      "                          │              │                             │               ││                │                               │               │\n",
      "(0, 2): ──────────────────X───Rx(th_3)───┼─────────────────────────────X───Rx(th_9)────┼@────Rz(th_12)───@───Rz(th_14)───@───Rz(th_16)───┼───────────────┼───────────────────────X───────────Rx(th_23)───Rx(th_26)───\n",
      "                                         │                                             │                                 │               │               │                       │\n",
      "(0, 3): ─────────────────────────────────X───Rx(th_5)──────────────────────────────────X─────Rx(th_11)───────────────────X───Rx(th_17)───@───Rz(th_18)───@───────────Rz(th_20)───@───────────Rz(th_22)───Rx(th_27)───\n",
      "                                                                                      └──┘\n",
      "\n",
      "                                                    ┌─────────┐              ┌─────────┐                                                                                                              ┌──────────┐                                                               ┌──────────┐               ┌──────────┐                                                                                                               ┌──────────┐                                                               ┌──────────┐               ┌──────────┐                                                                                                               ┌──────────┐   ┌──────────┐                                               ┌──────────┐                           ┌──────────┐\n",
      "(0, 0): ───Rz(th_1)───Rz(th_2)───Rz(th_3)───X─────────────────────────────────────────X───────────────────────────────────────────────────────────X───Rx(th_15)───Rx(th_16)───Rx(th_21)───@─────────────────────@────────────────@───Rz(th_26)───Rz(th_27)───Rz(th_28)───X────────────────────────────────────────────X────────────────────────────────────────────────────────────X───Rx(th_40)───Rx(th_41)───Rx(th_46)───@─────────────────────@────────────────@───Rz(th_51)───Rz(th_52)───Rz(th_53)───X────────────────────────────────────────────X────────────────────────────────────────────────────────────X───Rx(th_65)───Rx(th_66)───Rx(th_70)───@─────────────────────@──────────────@────Rz(th_74)───Rz(th_75)───Rz(th_76)───X────────────────────────────────────────────────────────X────────────────────────────────────────────────────────────X───Rx(th_90)───Rx(th_91)───Rx(th_96)───────────────────────────────────────\n",
      "                                            │                                         │                                                           │                                       │                     │                │                                       │                                            │                                                            │                                       │                     │                │                                       │                                            │                                                            │                                       │                     │              │                                        │                                                        │                                                            │\n",
      "(0, 1): ───Rx(th_0)─────────────────────────@───@────────────@────Rz(th_6)────Rz(th_7)┼────Rz(th_8)───X───────────────────────────────────────────┼───X───────────Rx(th_17)───Rx(th_22)───X────────────Rx(th_25)┼────────────────┼───────────────────────────────────────@───@─────────────@────Rz(th_31)────Rz(th_32)┼────Rz(th_33)───X───────────────────────────────────────────┼───X───────────Rx(th_42)───Rx(th_47)───X────────────Rx(th_50)┼────────────────┼───────────────────────────────────────@───@─────────────@────Rz(th_56)────Rz(th_57)┼────Rz(th_58)───X───────────────────────────────────────────┼───X───────────────────────────────────X────────────Rx(th_71)┼─────Rx(th_72)┼────Rx(th_73)───────────────────────────@───@─────────────@────Rz(th_80)───Rz(th_81)────Rz(th_82)┼────X───────────────────────────────────────────────────────┼───X───────────Rx(th_92)───Rx(th_97)───────────────────────────────────────\n",
      "                                                │            │                        │               │                                           │   │                                                         │                │                                           │             │                          │                │                                           │   │                                                         │                │                                           │             │                          │                │                                           │   │                                                         │              │                                            │             │                                      │    │                                                       │   │\n",
      "(0, 2): ────────────────────────────────────────X────Rx(th_4)┼────Rx(th_5)────────────@───────────────@───@───Rz(th_11)───Rz(th_12)───Rz(th_13)───┼───┼───────────X───────────Rx(th_23)─────────────────────────X────────────────┼───────────────────────────────────────────X────Rx(th_29)┼────Rx(th_30)─────────────@────────────────@───@───Rz(th_36)───Rz(th_37)───Rz(th_38)───┼───┼───────────X───────────Rx(th_48)─────────────────────────X────────────────┼───────────────────────────────────────────X────Rx(th_54)┼────Rx(th_55)─────────────@────────────────@───@───Rz(th_61)───Rz(th_62)───Rz(th_63)───┼───┼───────────X─────────────────────────────────────────────X──────────────┼────────────────────────────────────────────X────Rx(th_77)┼────Rx(th_78)───Rx(th_79)─────────────@────@───@───Rz(th_86)───Rz(th_87)───Rz(th_88)───────────────┼───┼───────────X───────────Rx(th_98)───────────────────────────────────────\n",
      "                                                             │                                            │                                       │   │           │                                                              │                                                         │                                               │                                       │   │           │                                                              │                                                         │                                               │                                       │   │           │                                                            │                                                          │                                               │                                                   │   │           │\n",
      "(0, 3): ─────────────────────────────────────────────────────X────────────────────────────────────────────X───Rx(th_9)────Rx(th_10)───Rx(th_14)───@───@───────────@───────────Rz(th_18)───Rz(th_19)────Rz(th_20)─────Rx(th_24)───X─────────────────────────────────────────────────────────X───────────────────────────────────────────────X───Rx(th_34)───Rx(th_35)───Rx(th_39)───@───@───────────@───────────Rz(th_43)───Rz(th_44)────Rz(th_45)─────Rx(th_49)───X─────────────────────────────────────────────────────────X───────────────────────────────────────────────X───Rx(th_59)───Rx(th_60)───Rx(th_64)───@───@───────────@───────────Rz(th_67)───Rz(th_68)────Rz(th_69)───────────────X──────────────────────────────────────────────────────────X───────────────────────────────────────────────X───Rx(th_83)───Rx(th_84)───Rx(th_85)───Rx(th_89)───@───@───────────@───────────Rz(th_93)───Rz(th_94)───Rz(th_95)───Rx(th_99)───\n",
      "                                                    └─────────┘              └─────────┘                                                                                                              └──────────┘                                                               └──────────┘               └──────────┘                                                                                                               └──────────┘                                                               └──────────┘               └──────────┘                                                                                                               └──────────┘   └──────────┘                                               └──────────┘                           └──────────┘\n"
     ]
    }
   ],
   "source": [
    "\n",
    "simplifier = Simplifier(translator)\n",
    "simplifier.relative_rules = [simplifier.rule_1, simplifier.rule_2]\n",
    "\n",
    "simplified_db, ns = simplifier.reduce_circuit(circuit_db)\n",
    "ss, simplified_db = translator.give_circuit(simplified_db)\n",
    "\n",
    "mdif = max_diff(translator , circuit_db, simplified_db)\n",
    "print(\"\\n\")\n",
    "print(mdif)\n",
    "print(circuit)\n",
    "print()\n",
    "print(ss)"
   ]
  },
  {
   "cell_type": "code",
   "execution_count": 26,
   "id": "liquid-plaintiff",
   "metadata": {},
   "outputs": [
    {
     "data": {
      "text/plain": [
       "160"
      ]
     },
     "execution_count": 26,
     "metadata": {},
     "output_type": "execute_result"
    }
   ],
   "source": [
    "len(circuit_db)"
   ]
  },
  {
   "cell_type": "code",
   "execution_count": 27,
   "id": "comfortable-messenger",
   "metadata": {},
   "outputs": [
    {
     "data": {
      "text/plain": [
       "145"
      ]
     },
     "execution_count": 27,
     "metadata": {},
     "output_type": "execute_result"
    }
   ],
   "source": [
    "len(simplified_db)"
   ]
  },
  {
   "cell_type": "code",
   "execution_count": null,
   "id": "advance-alcohol",
   "metadata": {},
   "outputs": [],
   "source": []
  }
 ],
 "metadata": {
  "kernelspec": {
   "display_name": "Python 3",
   "language": "python",
   "name": "python3"
  },
  "language_info": {
   "codemirror_mode": {
    "name": "ipython",
    "version": 3
   },
   "file_extension": ".py",
   "mimetype": "text/x-python",
   "name": "python",
   "nbconvert_exporter": "python",
   "pygments_lexer": "ipython3",
   "version": "3.6.9"
  }
 },
 "nbformat": 4,
 "nbformat_minor": 5
}
